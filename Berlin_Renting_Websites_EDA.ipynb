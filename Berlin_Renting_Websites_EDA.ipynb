{
  "cells": [
    {
      "cell_type": "code",
      "execution_count": null,
      "metadata": {
        "id": "d4cNAbGFbI9x"
      },
      "outputs": [],
      "source": [
        "import numpy as np\n",
        "import pandas as pd\n",
        "import plotly.express as px"
      ]
    },
    {
      "cell_type": "markdown",
      "metadata": {
        "id": "GDXozNx8bI93"
      },
      "source": [
        "# Data Cleaning & Missing Values"
      ]
    },
    {
      "cell_type": "markdown",
      "metadata": {
        "id": "nmlX7MM6bI93"
      },
      "source": [
        "### Load the Data\n"
      ]
    },
    {
      "cell_type": "code",
      "execution_count": null,
      "metadata": {
        "id": "d6SBrB_2bI94"
      },
      "outputs": [],
      "source": [
        "df = pd.read_csv('https://raw.githubusercontent.com/Class-11_Data_cleaning/berlin_housing_with_scraped.csv')"
      ]
    },
    {
      "cell_type": "markdown",
      "metadata": {
        "id": "8EtJLvHWbI-C"
      },
      "source": [
        "### Check the Data's `shape`,  `head`, and the `dtypes`"
      ]
    },
    {
      "cell_type": "code",
      "execution_count": null,
      "metadata": {
        "colab": {
          "base_uri": "https://localhost:8080/"
        },
        "id": "nlYfVEnrbI-D",
        "outputId": "df5a7d39-8164-417f-ebc7-4396a4b4b45f"
      },
      "outputs": [
        {
          "data": {
            "text/plain": [
              "(764, 22)"
            ]
          },
          "execution_count": 11,
          "metadata": {},
          "output_type": "execute_result"
        }
      ],
      "source": [
        "df.shape"
      ]
    },
    {
      "cell_type": "code",
      "execution_count": null,
      "metadata": {
        "colab": {
          "base_uri": "https://localhost:8080/",
          "height": 617
        },
        "id": "5bUCCKoBbI-J",
        "outputId": "32ad6ee0-2bb5-4c02-a43b-d576a3395a77"
      },
      "outputs": [
        {
          "data": {
            "text/html": [
              "\n",
              "  <div id=\"df-6ff08b92-89ab-4d4f-bf6a-2be7ca009566\">\n",
              "    <div class=\"colab-df-container\">\n",
              "      <div>\n",
              "<style scoped>\n",
              "    .dataframe tbody tr th:only-of-type {\n",
              "        vertical-align: middle;\n",
              "    }\n",
              "\n",
              "    .dataframe tbody tr th {\n",
              "        vertical-align: top;\n",
              "    }\n",
              "\n",
              "    .dataframe thead th {\n",
              "        text-align: right;\n",
              "    }\n",
              "</style>\n",
              "<table border=\"1\" class=\"dataframe\">\n",
              "  <thead>\n",
              "    <tr style=\"text-align: right;\">\n",
              "      <th></th>\n",
              "      <th>url</th>\n",
              "      <th>region</th>\n",
              "      <th>condition</th>\n",
              "      <th>rooms</th>\n",
              "      <th>rent</th>\n",
              "      <th>year_construction</th>\n",
              "      <th>space</th>\n",
              "      <th>cold_rent</th>\n",
              "      <th>utilities</th>\n",
              "      <th>heating_costs</th>\n",
              "      <th>security_deposit</th>\n",
              "      <th>parking_space</th>\n",
              "      <th>renovated_date</th>\n",
              "      <th>property_condition</th>\n",
              "      <th>furnishing</th>\n",
              "      <th>heating_type</th>\n",
              "      <th>energy_sources</th>\n",
              "      <th>energy_certificate</th>\n",
              "      <th>type_of_certificate</th>\n",
              "      <th>energy_requirement</th>\n",
              "      <th>efficiency_class</th>\n",
              "      <th>tags</th>\n",
              "    </tr>\n",
              "  </thead>\n",
              "  <tbody>\n",
              "    <tr>\n",
              "      <th>0</th>\n",
              "      <td>https://www.immobilienscout24.de/expose/116051687</td>\n",
              "      <td>Mitte</td>\n",
              "      <td>first_time_use</td>\n",
              "      <td>4.0</td>\n",
              "      <td>2659.00</td>\n",
              "      <td>2019</td>\n",
              "      <td>117.20</td>\n",
              "      <td>2.199€</td>\n",
              "      <td>+460€</td>\n",
              "      <td>in</td>\n",
              "      <td>3</td>\n",
              "      <td>120€</td>\n",
              "      <td>NaN</td>\n",
              "      <td>New</td>\n",
              "      <td>NaN</td>\n",
              "      <td>Underfloor Heating</td>\n",
              "      <td>NaN</td>\n",
              "      <td>NaN</td>\n",
              "      <td>Bedarfsausweis</td>\n",
              "      <td>NaN</td>\n",
              "      <td>B</td>\n",
              "      <td>['Balkon', 'Terrasse Balkon', 'Terrasse Person...</td>\n",
              "    </tr>\n",
              "    <tr>\n",
              "      <th>1</th>\n",
              "      <td>https://www.immobilienscout24.de/expose/115338103</td>\n",
              "      <td>Kreuzberg</td>\n",
              "      <td>first_time_use</td>\n",
              "      <td>1.0</td>\n",
              "      <td>1200.00</td>\n",
              "      <td>2020</td>\n",
              "      <td>29.33</td>\n",
              "      <td>973,51€</td>\n",
              "      <td>+226,49€</td>\n",
              "      <td>in</td>\n",
              "      <td>2920,53</td>\n",
              "      <td>NaN</td>\n",
              "      <td>NaN</td>\n",
              "      <td>New</td>\n",
              "      <td>Gehobene Qualität</td>\n",
              "      <td>Central Heating</td>\n",
              "      <td>Fernwärme Energieausweis liegt vor</td>\n",
              "      <td>liegt vor</td>\n",
              "      <td>NaN</td>\n",
              "      <td>NaN</td>\n",
              "      <td>NaN</td>\n",
              "      <td>['Balkon', 'Terrasse Balkon', 'Terrasse Person...</td>\n",
              "    </tr>\n",
              "    <tr>\n",
              "      <th>2</th>\n",
              "      <td>https://www.immobilienscout24.de/expose/116458710</td>\n",
              "      <td>Köpenick</td>\n",
              "      <td>well_kept</td>\n",
              "      <td>2.0</td>\n",
              "      <td>979.00</td>\n",
              "      <td>1997</td>\n",
              "      <td>83.61</td>\n",
              "      <td>799€</td>\n",
              "      <td>+90€</td>\n",
              "      <td>+90€</td>\n",
              "      <td>Drei</td>\n",
              "      <td>NaN</td>\n",
              "      <td>NaN</td>\n",
              "      <td>Groomed</td>\n",
              "      <td>Normale Qualität</td>\n",
              "      <td>Central Heating</td>\n",
              "      <td>Fernwärme Energieausweis liegt vor</td>\n",
              "      <td>liegt vor</td>\n",
              "      <td>Verbrauchsausweis Energie­ver­brauchs­kennwert...</td>\n",
              "      <td>NaN</td>\n",
              "      <td>NaN</td>\n",
              "      <td>['Balkon', 'Terrasse Balkon', 'Terrasse Person...</td>\n",
              "    </tr>\n",
              "    <tr>\n",
              "      <th>3</th>\n",
              "      <td>https://www.immobilienscout24.de/expose/116573177</td>\n",
              "      <td>Wilmersdorf</td>\n",
              "      <td>well_kept</td>\n",
              "      <td>4.0</td>\n",
              "      <td>1830.22</td>\n",
              "      <td>1900</td>\n",
              "      <td>171.18</td>\n",
              "      <td>NaN</td>\n",
              "      <td>NaN</td>\n",
              "      <td>NaN</td>\n",
              "      <td>NaN</td>\n",
              "      <td>NaN</td>\n",
              "      <td>NaN</td>\n",
              "      <td>NaN</td>\n",
              "      <td>NaN</td>\n",
              "      <td>NaN</td>\n",
              "      <td>NaN</td>\n",
              "      <td>NaN</td>\n",
              "      <td>NaN</td>\n",
              "      <td>NaN</td>\n",
              "      <td>NaN</td>\n",
              "      <td>['Balkon', 'Terrasse Balkon', 'Terrasse Person...</td>\n",
              "    </tr>\n",
              "    <tr>\n",
              "      <th>4</th>\n",
              "      <td>https://www.immobilienscout24.de/expose/115925878</td>\n",
              "      <td>Kreuzberg</td>\n",
              "      <td>first_time_use</td>\n",
              "      <td>2.0</td>\n",
              "      <td>2272.00</td>\n",
              "      <td>2020</td>\n",
              "      <td>88.27</td>\n",
              "      <td>NaN</td>\n",
              "      <td>NaN</td>\n",
              "      <td>NaN</td>\n",
              "      <td>NaN</td>\n",
              "      <td>NaN</td>\n",
              "      <td>NaN</td>\n",
              "      <td>New</td>\n",
              "      <td>Gehobene Qualität</td>\n",
              "      <td>Central Heating</td>\n",
              "      <td>Fernwärme Energieausweis liegt zur Besichtigun...</td>\n",
              "      <td>liegt zur Besichtigung vor</td>\n",
              "      <td>NaN</td>\n",
              "      <td>NaN</td>\n",
              "      <td>NaN</td>\n",
              "      <td>['Balkon', 'Terrasse Balkon', 'Terrasse Person...</td>\n",
              "    </tr>\n",
              "  </tbody>\n",
              "</table>\n",
              "</div>\n",
              "      <button class=\"colab-df-convert\" onclick=\"convertToInteractive('df-6ff08b92-89ab-4d4f-bf6a-2be7ca009566')\"\n",
              "              title=\"Convert this dataframe to an interactive table.\"\n",
              "              style=\"display:none;\">\n",
              "        \n",
              "  <svg xmlns=\"http://www.w3.org/2000/svg\" height=\"24px\"viewBox=\"0 0 24 24\"\n",
              "       width=\"24px\">\n",
              "    <path d=\"M0 0h24v24H0V0z\" fill=\"none\"/>\n",
              "    <path d=\"M18.56 5.44l.94 2.06.94-2.06 2.06-.94-2.06-.94-.94-2.06-.94 2.06-2.06.94zm-11 1L8.5 8.5l.94-2.06 2.06-.94-2.06-.94L8.5 2.5l-.94 2.06-2.06.94zm10 10l.94 2.06.94-2.06 2.06-.94-2.06-.94-.94-2.06-.94 2.06-2.06.94z\"/><path d=\"M17.41 7.96l-1.37-1.37c-.4-.4-.92-.59-1.43-.59-.52 0-1.04.2-1.43.59L10.3 9.45l-7.72 7.72c-.78.78-.78 2.05 0 2.83L4 21.41c.39.39.9.59 1.41.59.51 0 1.02-.2 1.41-.59l7.78-7.78 2.81-2.81c.8-.78.8-2.07 0-2.86zM5.41 20L4 18.59l7.72-7.72 1.47 1.35L5.41 20z\"/>\n",
              "  </svg>\n",
              "      </button>\n",
              "      \n",
              "  <style>\n",
              "    .colab-df-container {\n",
              "      display:flex;\n",
              "      flex-wrap:wrap;\n",
              "      gap: 12px;\n",
              "    }\n",
              "\n",
              "    .colab-df-convert {\n",
              "      background-color: #E8F0FE;\n",
              "      border: none;\n",
              "      border-radius: 50%;\n",
              "      cursor: pointer;\n",
              "      display: none;\n",
              "      fill: #1967D2;\n",
              "      height: 32px;\n",
              "      padding: 0 0 0 0;\n",
              "      width: 32px;\n",
              "    }\n",
              "\n",
              "    .colab-df-convert:hover {\n",
              "      background-color: #E2EBFA;\n",
              "      box-shadow: 0px 1px 2px rgba(60, 64, 67, 0.3), 0px 1px 3px 1px rgba(60, 64, 67, 0.15);\n",
              "      fill: #174EA6;\n",
              "    }\n",
              "\n",
              "    [theme=dark] .colab-df-convert {\n",
              "      background-color: #3B4455;\n",
              "      fill: #D2E3FC;\n",
              "    }\n",
              "\n",
              "    [theme=dark] .colab-df-convert:hover {\n",
              "      background-color: #434B5C;\n",
              "      box-shadow: 0px 1px 3px 1px rgba(0, 0, 0, 0.15);\n",
              "      filter: drop-shadow(0px 1px 2px rgba(0, 0, 0, 0.3));\n",
              "      fill: #FFFFFF;\n",
              "    }\n",
              "  </style>\n",
              "\n",
              "      <script>\n",
              "        const buttonEl =\n",
              "          document.querySelector('#df-6ff08b92-89ab-4d4f-bf6a-2be7ca009566 button.colab-df-convert');\n",
              "        buttonEl.style.display =\n",
              "          google.colab.kernel.accessAllowed ? 'block' : 'none';\n",
              "\n",
              "        async function convertToInteractive(key) {\n",
              "          const element = document.querySelector('#df-6ff08b92-89ab-4d4f-bf6a-2be7ca009566');\n",
              "          const dataTable =\n",
              "            await google.colab.kernel.invokeFunction('convertToInteractive',\n",
              "                                                     [key], {});\n",
              "          if (!dataTable) return;\n",
              "\n",
              "          const docLinkHtml = 'Like what you see? Visit the ' +\n",
              "            '<a target=\"_blank\" href=https://colab.research.google.com/notebooks/data_table.ipynb>data table notebook</a>'\n",
              "            + ' to learn more about interactive tables.';\n",
              "          element.innerHTML = '';\n",
              "          dataTable['output_type'] = 'display_data';\n",
              "          await google.colab.output.renderOutput(dataTable, element);\n",
              "          const docLink = document.createElement('div');\n",
              "          docLink.innerHTML = docLinkHtml;\n",
              "          element.appendChild(docLink);\n",
              "        }\n",
              "      </script>\n",
              "    </div>\n",
              "  </div>\n",
              "  "
            ],
            "text/plain": [
              "                                                 url       region  \\\n",
              "0  https://www.immobilienscout24.de/expose/116051687        Mitte   \n",
              "1  https://www.immobilienscout24.de/expose/115338103    Kreuzberg   \n",
              "2  https://www.immobilienscout24.de/expose/116458710     Köpenick   \n",
              "3  https://www.immobilienscout24.de/expose/116573177  Wilmersdorf   \n",
              "4  https://www.immobilienscout24.de/expose/115925878    Kreuzberg   \n",
              "\n",
              "        condition  rooms     rent  year_construction   space cold_rent  \\\n",
              "0  first_time_use    4.0  2659.00               2019  117.20    2.199€   \n",
              "1  first_time_use    1.0  1200.00               2020   29.33   973,51€   \n",
              "2       well_kept    2.0   979.00               1997   83.61      799€   \n",
              "3       well_kept    4.0  1830.22               1900  171.18       NaN   \n",
              "4  first_time_use    2.0  2272.00               2020   88.27       NaN   \n",
              "\n",
              "  utilities heating_costs security_deposit parking_space  renovated_date  \\\n",
              "0     +460€            in                3          120€             NaN   \n",
              "1  +226,49€            in          2920,53           NaN             NaN   \n",
              "2      +90€          +90€             Drei           NaN             NaN   \n",
              "3       NaN           NaN              NaN           NaN             NaN   \n",
              "4       NaN           NaN              NaN           NaN             NaN   \n",
              "\n",
              "  property_condition         furnishing        heating_type  \\\n",
              "0                New                NaN  Underfloor Heating   \n",
              "1                New  Gehobene Qualität     Central Heating   \n",
              "2            Groomed   Normale Qualität     Central Heating   \n",
              "3                NaN                NaN                 NaN   \n",
              "4                New  Gehobene Qualität     Central Heating   \n",
              "\n",
              "                                      energy_sources  \\\n",
              "0                                                NaN   \n",
              "1                 Fernwärme Energieausweis liegt vor   \n",
              "2                 Fernwärme Energieausweis liegt vor   \n",
              "3                                                NaN   \n",
              "4  Fernwärme Energieausweis liegt zur Besichtigun...   \n",
              "\n",
              "           energy_certificate  \\\n",
              "0                         NaN   \n",
              "1                   liegt vor   \n",
              "2                   liegt vor   \n",
              "3                         NaN   \n",
              "4  liegt zur Besichtigung vor   \n",
              "\n",
              "                                 type_of_certificate energy_requirement  \\\n",
              "0                                     Bedarfsausweis                NaN   \n",
              "1                                                NaN                NaN   \n",
              "2  Verbrauchsausweis Energie­ver­brauchs­kennwert...                NaN   \n",
              "3                                                NaN                NaN   \n",
              "4                                                NaN                NaN   \n",
              "\n",
              "  efficiency_class                                               tags  \n",
              "0                B  ['Balkon', 'Terrasse Balkon', 'Terrasse Person...  \n",
              "1              NaN  ['Balkon', 'Terrasse Balkon', 'Terrasse Person...  \n",
              "2              NaN  ['Balkon', 'Terrasse Balkon', 'Terrasse Person...  \n",
              "3              NaN  ['Balkon', 'Terrasse Balkon', 'Terrasse Person...  \n",
              "4              NaN  ['Balkon', 'Terrasse Balkon', 'Terrasse Person...  "
            ]
          },
          "execution_count": 12,
          "metadata": {},
          "output_type": "execute_result"
        }
      ],
      "source": [
        "pd.set_option('display.max_columns', None) # set the max columns to none\n",
        "df.head(5)"
      ]
    },
    {
      "cell_type": "code",
      "execution_count": null,
      "metadata": {
        "colab": {
          "base_uri": "https://localhost:8080/"
        },
        "id": "2b47oGWRbI-N",
        "outputId": "e56c72e5-d21d-4f2c-996b-1f03501f5947"
      },
      "outputs": [
        {
          "data": {
            "text/plain": [
              "url                     object\n",
              "region                  object\n",
              "condition               object\n",
              "rooms                  float64\n",
              "rent                   float64\n",
              "year_construction        int64\n",
              "space                  float64\n",
              "cold_rent               object\n",
              "utilities               object\n",
              "heating_costs           object\n",
              "security_deposit        object\n",
              "parking_space           object\n",
              "renovated_date         float64\n",
              "property_condition      object\n",
              "furnishing              object\n",
              "heating_type            object\n",
              "energy_sources          object\n",
              "energy_certificate      object\n",
              "type_of_certificate     object\n",
              "energy_requirement      object\n",
              "efficiency_class        object\n",
              "tags                    object\n",
              "dtype: object"
            ]
          },
          "execution_count": 13,
          "metadata": {},
          "output_type": "execute_result"
        }
      ],
      "source": [
        "df.dtypes"
      ]
    },
    {
      "cell_type": "markdown",
      "metadata": {
        "id": "nxvFzHHVbI-P"
      },
      "source": [
        "### First Question: Is there missing data? If yes, how much?"
      ]
    },
    {
      "cell_type": "code",
      "execution_count": null,
      "metadata": {
        "colab": {
          "base_uri": "https://localhost:8080/"
        },
        "id": "dEnuiNxnbI-Q",
        "outputId": "71c674dd-0b31-4464-94a2-a9e726a9703f"
      },
      "outputs": [
        {
          "data": {
            "text/plain": [
              "parking_space          0.882199\n",
              "renovated_date         0.744764\n",
              "efficiency_class       0.671466\n",
              "energy_requirement     0.573298\n",
              "security_deposit       0.496073\n",
              "cold_rent              0.442408\n",
              "utilities              0.442408\n",
              "heating_costs          0.442408\n",
              "furnishing             0.417539\n",
              "energy_certificate     0.409686\n",
              "type_of_certificate    0.388743\n",
              "energy_sources         0.353403\n",
              "property_condition     0.344241\n",
              "heating_type           0.325916\n",
              "url                    0.000000\n",
              "region                 0.000000\n",
              "space                  0.000000\n",
              "year_construction      0.000000\n",
              "rent                   0.000000\n",
              "rooms                  0.000000\n",
              "condition              0.000000\n",
              "tags                   0.000000\n",
              "dtype: float64"
            ]
          },
          "execution_count": 14,
          "metadata": {},
          "output_type": "execute_result"
        }
      ],
      "source": [
        "(df.isnull().sum() / len(df)).sort_values(ascending = False)"
      ]
    },
    {
      "cell_type": "markdown",
      "metadata": {
        "id": "RvuE6wFxbI-S"
      },
      "source": [
        "## Clean `tags`\n",
        "\n",
        "Have a look at the tags columns. What does this information tell us?"
      ]
    },
    {
      "cell_type": "code",
      "execution_count": null,
      "metadata": {
        "colab": {
          "base_uri": "https://localhost:8080/",
          "height": 35
        },
        "id": "UqH7ShmObI-T",
        "outputId": "29056465-7b6d-40c3-8e89-7b0dc15b2ffc"
      },
      "outputs": [
        {
          "data": {
            "application/vnd.google.colaboratory.intrinsic+json": {
              "type": "string"
            },
            "text/plain": [
              "\"['Balkon', 'Terrasse Balkon', 'Terrasse Personenaufzug Personenaufzug Einbauküche Einbauküche']\""
            ]
          },
          "execution_count": 15,
          "metadata": {},
          "output_type": "execute_result"
        }
      ],
      "source": [
        "df[\"tags\"][0]"
      ]
    },
    {
      "cell_type": "code",
      "execution_count": null,
      "metadata": {
        "id": "69lsNZurzB9v"
      },
      "outputs": [],
      "source": [
        "import ast"
      ]
    },
    {
      "cell_type": "code",
      "execution_count": null,
      "metadata": {
        "colab": {
          "base_uri": "https://localhost:8080/"
        },
        "id": "18Zq-oN4zD_j",
        "outputId": "94273a0b-75e3-4549-9195-ef2ec2904c88"
      },
      "outputs": [
        {
          "data": {
            "text/plain": [
              "['Balkon',\n",
              " 'Terrasse Balkon',\n",
              " 'Terrasse Personenaufzug Personenaufzug Einbauküche Einbauküche']"
            ]
          },
          "execution_count": 17,
          "metadata": {},
          "output_type": "execute_result"
        }
      ],
      "source": [
        "ast.literal_eval(df[\"tags\"][0])\n"
      ]
    },
    {
      "cell_type": "code",
      "execution_count": null,
      "metadata": {
        "colab": {
          "base_uri": "https://localhost:8080/"
        },
        "id": "cATkm2kAbI-V",
        "outputId": "fa81b27a-62ce-4de6-cc91-e000539aade8"
      },
      "outputs": [
        {
          "data": {
            "text/plain": [
              "array([\"['Balkon', 'Terrasse Balkon', 'Terrasse Personenaufzug Personenaufzug Einbauküche Einbauküche']\"],\n",
              "      dtype=object)"
            ]
          },
          "execution_count": 18,
          "metadata": {},
          "output_type": "execute_result"
        }
      ],
      "source": [
        "df.tags.unique()"
      ]
    },
    {
      "cell_type": "markdown",
      "metadata": {
        "id": "C-VytCkxbI-X"
      },
      "source": [
        "Because this doesn't give us any information, let's get rid of redundant data."
      ]
    },
    {
      "cell_type": "code",
      "execution_count": null,
      "metadata": {
        "id": "AHPF5hpubI-Y"
      },
      "outputs": [],
      "source": [
        "df.drop('tags', axis=1, inplace=True)"
      ]
    },
    {
      "cell_type": "code",
      "execution_count": null,
      "metadata": {
        "colab": {
          "base_uri": "https://localhost:8080/"
        },
        "id": "DetztCg8bI-a",
        "outputId": "7aab2c65-092b-4ed4-9c8f-867edb41dd06"
      },
      "outputs": [
        {
          "data": {
            "text/plain": [
              "(764, 21)"
            ]
          },
          "execution_count": 20,
          "metadata": {},
          "output_type": "execute_result"
        }
      ],
      "source": [
        "df.shape"
      ]
    },
    {
      "cell_type": "markdown",
      "metadata": {
        "id": "NHMXbm3zbI-d"
      },
      "source": [
        "## Clean `security_deposit`"
      ]
    },
    {
      "cell_type": "code",
      "execution_count": null,
      "metadata": {
        "colab": {
          "base_uri": "https://localhost:8080/"
        },
        "id": "AHCgGQikbI-e",
        "outputId": "491061f9-ff03-4f7d-ffe6-a81534b5d1ef"
      },
      "outputs": [
        {
          "data": {
            "text/plain": [
              "3           123\n",
              "Drei         13\n",
              "Kaution:      7\n",
              "3-fache       5\n",
              "1600          3\n",
              "           ... \n",
              "9025,50       1\n",
              "3.750,00      1\n",
              "7575          1\n",
              "7.650,00      1\n",
              "1.542,00      1\n",
              "Name: security_deposit, Length: 216, dtype: int64"
            ]
          },
          "execution_count": 21,
          "metadata": {},
          "output_type": "execute_result"
        }
      ],
      "source": [
        "df.security_deposit.value_counts()"
      ]
    },
    {
      "cell_type": "markdown",
      "metadata": {
        "id": "uy8EeuYdbI-j"
      },
      "source": [
        "Some values clearly are an amount. For example:"
      ]
    },
    {
      "cell_type": "code",
      "execution_count": null,
      "metadata": {
        "colab": {
          "base_uri": "https://localhost:8080/"
        },
        "id": "i5V_frtibI-k",
        "outputId": "b2625f2f-7b55-43ab-c6db-ee55c725c8cd"
      },
      "outputs": [
        {
          "data": {
            "text/plain": [
              "36        1.500€\n",
              "167       1.500€\n",
              "271    5.394,00€\n",
              "289        6600€\n",
              "393       3.597€\n",
              "403       3.750€\n",
              "405        5097€\n",
              "423    2.286,45€\n",
              "462      6570.0€\n",
              "464      6675.0€\n",
              "466      9333.0€\n",
              "469      9792.0€\n",
              "490     1074,60€\n",
              "507    4.698,00€\n",
              "545    4.197,00€\n",
              "697        €3500\n",
              "Name: security_deposit, dtype: object"
            ]
          },
          "execution_count": 22,
          "metadata": {},
          "output_type": "execute_result"
        }
      ],
      "source": [
        "df.security_deposit[df.security_deposit.str.contains(\"€\").fillna(False)]"
      ]
    },
    {
      "cell_type": "markdown",
      "metadata": {
        "id": "T4h_j3PwbI-n"
      },
      "source": [
        "Other values are impossible to interpret."
      ]
    },
    {
      "cell_type": "code",
      "execution_count": null,
      "metadata": {
        "colab": {
          "base_uri": "https://localhost:8080/"
        },
        "id": "acvGtjm9bI-o",
        "outputId": "8d9596c7-bd8a-4809-9ba8-28e6576e9a2b"
      },
      "outputs": [
        {
          "data": {
            "text/plain": [
              "420    Kaution:\n",
              "425    Kaution:\n",
              "429    Kaution:\n",
              "474    Kaution:\n",
              "475    Kaution:\n",
              "495     Kaution\n",
              "514    Kaution:\n",
              "515    Kaution:\n",
              "Name: security_deposit, dtype: object"
            ]
          },
          "execution_count": 23,
          "metadata": {},
          "output_type": "execute_result"
        }
      ],
      "source": [
        "df.security_deposit[df.security_deposit.str.contains(\"Kaution\").fillna(False)]"
      ]
    },
    {
      "cell_type": "markdown",
      "metadata": {
        "id": "bBiXMHB6bI-q"
      },
      "source": [
        "Which values are numeric?"
      ]
    },
    {
      "cell_type": "markdown",
      "metadata": {
        "id": "5D9q1YNtbI-r"
      },
      "source": [
        "**First, let's remove the currency**"
      ]
    },
    {
      "cell_type": "code",
      "execution_count": null,
      "metadata": {
        "colab": {
          "base_uri": "https://localhost:8080/"
        },
        "id": "XAqezajNQziv",
        "outputId": "5c259f64-5205-4744-f3e9-0dd3b86fa331"
      },
      "outputs": [
        {
          "data": {
            "text/plain": [
              "str"
            ]
          },
          "execution_count": 24,
          "metadata": {},
          "output_type": "execute_result"
        }
      ],
      "source": [
        "type(str(np.nan))"
      ]
    },
    {
      "cell_type": "code",
      "execution_count": null,
      "metadata": {
        "id": "fR3D3jWdbI-r"
      },
      "outputs": [],
      "source": [
        "def remove_strings(value, strings_to_remove):\n",
        "    \"\"\"\n",
        "    Remove strings in <strings_to_remove> from <value>. \n",
        "    Removes Euro/euro strings by default. \n",
        "    Assumes that each string occurs only once.\n",
        "    \"\"\"\n",
        "    \n",
        "    # return NaN if value is missing\n",
        "    if pd.isna(value): \n",
        "      return np.nan\n",
        "    \n",
        "    # cast to string so that string methods work\n",
        "    value = str(value)\n",
        "    \n",
        "    # remove different strings\n",
        "    for string in strings_to_remove:\n",
        "        value = value.lower().replace(string.lower(), '').strip()\n",
        "    \n",
        "    return value"
      ]
    },
    {
      "cell_type": "code",
      "execution_count": null,
      "metadata": {
        "id": "JHJEv0j11RBm"
      },
      "outputs": [],
      "source": [
        "value = \"Hello, Goodbye\""
      ]
    },
    {
      "cell_type": "code",
      "execution_count": null,
      "metadata": {
        "id": "KjVfKv4W1Y_f"
      },
      "outputs": [],
      "source": [
        "string = ','"
      ]
    },
    {
      "cell_type": "code",
      "execution_count": null,
      "metadata": {
        "colab": {
          "base_uri": "https://localhost:8080/",
          "height": 35
        },
        "id": "_UI-zLHL1d89",
        "outputId": "0641aede-fb31-412b-8de0-2fd145546433"
      },
      "outputs": [
        {
          "data": {
            "application/vnd.google.colaboratory.intrinsic+json": {
              "type": "string"
            },
            "text/plain": [
              "'hello goodbye'"
            ]
          },
          "execution_count": 28,
          "metadata": {},
          "output_type": "execute_result"
        }
      ],
      "source": [
        "value.lower().replace(string.lower(), '')"
      ]
    },
    {
      "cell_type": "code",
      "execution_count": null,
      "metadata": {
        "id": "0krWfHDo1Uu0"
      },
      "outputs": [],
      "source": [
        "value = value.lower().replace(string.lower(), '').strip()"
      ]
    },
    {
      "cell_type": "code",
      "execution_count": null,
      "metadata": {
        "colab": {
          "base_uri": "https://localhost:8080/"
        },
        "id": "Vr9aPAWGbI-u",
        "outputId": "09f0dac5-1cd9-4499-f785-f391bcce592c"
      },
      "outputs": [
        {
          "data": {
            "text/plain": [
              "0            3\n",
              "1      2920,53\n",
              "2         drei\n",
              "3          nan\n",
              "4          nan\n",
              "        ...   \n",
              "759        nan\n",
              "760        nan\n",
              "761        nan\n",
              "762        nan\n",
              "763        nan\n",
              "Name: security_deposit, Length: 764, dtype: object"
            ]
          },
          "execution_count": 30,
          "metadata": {},
          "output_type": "execute_result"
        }
      ],
      "source": [
        "df['security_deposit'] = df[\"security_deposit\"].apply(remove_strings, args=(['€', 'euros', 'euro'],)).astype(str)\n",
        "df['security_deposit']"
      ]
    },
    {
      "cell_type": "markdown",
      "metadata": {
        "id": "wq0mzJ4XHkIe"
      },
      "source": [
        "## Discussion\n",
        "\n",
        "Any problem with the above use of the function?"
      ]
    },
    {
      "cell_type": "markdown",
      "metadata": {
        "id": "R64Q5IqYXKdp"
      },
      "source": [
        "### Notes"
      ]
    },
    {
      "cell_type": "code",
      "execution_count": null,
      "metadata": {
        "colab": {
          "base_uri": "https://localhost:8080/"
        },
        "id": "dHj-3mqfbI-w",
        "outputId": "ca6ffee5-2fd0-4f51-9af2-ad08b8c9c59a"
      },
      "outputs": [
        {
          "data": {
            "text/plain": [
              "array(['3', '2920,53', 'drei', 'nan', '2400', '3507.42', '2000',\n",
              "       '2139.78', '5.397,00', '3885,00', '7.950,00', '4152', '4.650,00',\n",
              "       '1.500', '3x', '9.150,-', '4.545', '2xnkm', '6.900,00', '5.994,00',\n",
              "       '6.000,-', '7.470,00', '5.172,00', '2.145,00', '6.215,70',\n",
              "       '11.475,00', '14.850,00', '4.197,00', '2600,00', '12.900,00', '2',\n",
              "       '3450', '5000', '10.000', '3620', '1690', '1790', 'ja', '2990',\n",
              "       '1490', '9.960,00', '3159,00', '4.350,00', '5010', '4333,90',\n",
              "       '3000', '2.013,00', '2841', '4000', '2850.72', '3300.75', '2344',\n",
              "       '3645,00', '2397', '4500', '9.718,00', '3.597,00', '3900',\n",
              "       '3.780,00', '4800', '3.582', '3630', '2549.79', '3831', '2.274,00',\n",
              "       '2850', '2960', '4.680', '4350', '3500', '4080', '4050', '2338',\n",
              "       '5940,00', '8100', '3.859,17', '2.630,43', '6552', '2.700,00',\n",
              "       '1797,00', '3345', '3360', '5148', '2472', '12.000,00', '6.300,00',\n",
              "       '5.394,00', '1.554,00', '6600', '1.727,76', '9025,50', '3.750,00',\n",
              "       '7575', '7.650,00', '5.355,00', '5850', '4.170,00', '2340,00',\n",
              "       '5910', '6330', '5670', '1.485,00', '3.597', '3584,82', '5.421,00',\n",
              "       '3.750', '5097', '3-fache', '5196,60', 'kaution:', '2500', '2115',\n",
              "       '2.286,45', '1600', '1200,00', '6150,00', '4650', '10500', '2426',\n",
              "       '3450,00', '2.040,00', '2.085,00', '6570.0', '6675.0', '9333.0',\n",
              "       '6.945,00', '9792.0', '3973', '1000,00', '2250,00', '1755,00',\n",
              "       '4650,00', '1074,60', '3.900,00', 'kaution', '1.974,00', '3685',\n",
              "       '2253', '3230', '5775,00', '4.698,00', '3158', '1688,40',\n",
              "       '1695,48', '5.506,20', '2564', '4258', '8382,24', '2958', '3354',\n",
              "       '5400', '3.133,00', '4.104,00', '4263', '3423', '3550', '2318',\n",
              "       '2268', '2315', '3334', '3533', '3548', '3544', '2297', '3502',\n",
              "       '3437', '2262', '3461', '3482', '4300', '5700', '3167', '3706',\n",
              "       '4409', '2795', '3058', '3028', '3088', '4976', '13200,00', '4264',\n",
              "       '5.508,00', '15300,00', '3087', '3627', '3188', '8160,00', '3204',\n",
              "       '2,5', '3762', '3684,00', '3355', '4552', '4519', '3.141,69',\n",
              "       '3154', '4271', '3630,00', '4.338', '3059', '4.047,00', '3543',\n",
              "       '3.297,00', '3007', '4326', '3905', '4759', '3747', '3745',\n",
              "       '2.000,00', '3nkm', '4197', '3.237,00', '1.542,00'], dtype=object)"
            ]
          },
          "execution_count": 31,
          "metadata": {},
          "output_type": "execute_result"
        }
      ],
      "source": [
        "df.security_deposit.unique()"
      ]
    },
    {
      "cell_type": "markdown",
      "metadata": {
        "id": "4e3K78iWbI-y"
      },
      "source": [
        "**Now, we need to convert the string into something a computer can better read**"
      ]
    },
    {
      "cell_type": "code",
      "execution_count": null,
      "metadata": {
        "id": "GcPJ1zkhbI-z"
      },
      "outputs": [],
      "source": [
        "def convert_string_to_string_decimal(value):\n",
        "    \"\"\"Replace a period with empty string and comma with period (decimal point).\"\"\"\n",
        "    value = value.replace(\".\", \"\").replace(\",\", \".\")\n",
        "    try:\n",
        "      value = float(value)\n",
        "      return value\n",
        "    except:\n",
        "      return value\n",
        "\n",
        "\n",
        "def convert_decimal_format(value):\n",
        "    \"\"\"\n",
        "    Convert numeric string to a decimal number.\n",
        "    \n",
        "    We deal with 4 cases\n",
        "    a) nan        => nan\n",
        "    b) \"3.500\"    => 3500.00\n",
        "    c) \"3.237,00\" => 3237.00\n",
        "    d) \"3831\"     => 3831.00\n",
        "\n",
        "    \"\"\"\n",
        "    \n",
        "    # return NaN if missing\n",
        "    if pd.isna(value):\n",
        "        return np.nan   # case a)\n",
        "    \n",
        "    # check if wrong format w/o decimal i.e. 3.500\n",
        "    if len(value.split('.')[-1]) == 3:\n",
        "        return convert_string_to_string_decimal(value)   # case b)\n",
        "    \n",
        "    # convert to float\n",
        "    try:                               \n",
        "        return float(value)   # case d)\n",
        "    except:\n",
        "        return convert_string_to_string_decimal(value)   # case c)"
      ]
    },
    {
      "cell_type": "code",
      "execution_count": null,
      "metadata": {
        "id": "vRQVAW9S4W1d"
      },
      "outputs": [],
      "source": [
        "    # check if wrong format w/o decimal i.e. 3.500\n",
        "string = '3.500'"
      ]
    },
    {
      "cell_type": "code",
      "execution_count": null,
      "metadata": {
        "colab": {
          "base_uri": "https://localhost:8080/",
          "height": 35
        },
        "id": "JMSqzuhP4Zsy",
        "outputId": "d5becfb0-3b04-4183-cff8-70a6bed10042"
      },
      "outputs": [
        {
          "data": {
            "application/vnd.google.colaboratory.intrinsic+json": {
              "type": "string"
            },
            "text/plain": [
              "'500'"
            ]
          },
          "execution_count": 34,
          "metadata": {},
          "output_type": "execute_result"
        }
      ],
      "source": [
        "string.split('.')[-1]"
      ]
    },
    {
      "cell_type": "code",
      "execution_count": null,
      "metadata": {
        "id": "jfdRe96JbI-1"
      },
      "outputs": [],
      "source": [
        "df['security_deposit'] = df.security_deposit.apply(convert_decimal_format)"
      ]
    },
    {
      "cell_type": "code",
      "execution_count": null,
      "metadata": {
        "colab": {
          "base_uri": "https://localhost:8080/"
        },
        "id": "dRiZo2jYbI-3",
        "outputId": "7257f6d6-a618-418f-91da-90414e6f1d90"
      },
      "outputs": [
        {
          "data": {
            "text/plain": [
              "array([3.0, 2920.53, 'drei', nan, 2400.0, 3507.42, 2000.0, 2139.78,\n",
              "       5397.0, 3885.0, 7950.0, 4152.0, 4650.0, 1500.0, '3x', '9150.-',\n",
              "       4545.0, '2xnkm', 6900.0, 5994.0, '6000.-', 7470.0, 5172.0, 2145.0,\n",
              "       6215.7, 11475.0, 14850.0, 4197.0, 2600.0, 12900.0, 2.0, 3450.0,\n",
              "       5000.0, 10000.0, 3620.0, 1690.0, 1790.0, 'ja', 2990.0, 1490.0,\n",
              "       9960.0, 3159.0, 4350.0, 5010.0, 4333.9, 3000.0, 2013.0, 2841.0,\n",
              "       4000.0, 2850.72, 3300.75, 2344.0, 3645.0, 2397.0, 4500.0, 9718.0,\n",
              "       3597.0, 3900.0, 3780.0, 4800.0, 3582.0, 3630.0, 2549.79, 3831.0,\n",
              "       2274.0, 2850.0, 2960.0, 4680.0, 3500.0, 4080.0, 4050.0, 2338.0,\n",
              "       5940.0, 8100.0, 3859.17, 2630.43, 6552.0, 2700.0, 1797.0, 3345.0,\n",
              "       3360.0, 5148.0, 2472.0, 12000.0, 6300.0, 5394.0, 1554.0, 6600.0,\n",
              "       1727.76, 9025.5, 3750.0, 7575.0, 7650.0, 5355.0, 5850.0, 4170.0,\n",
              "       2340.0, 5910.0, 6330.0, 5670.0, 1485.0, 3584.82, 5421.0, 5097.0,\n",
              "       '3-fache', 5196.6, 'kaution:', 2500.0, 2115.0, 2286.45, 1600.0,\n",
              "       1200.0, 6150.0, 10500.0, 2426.0, 2040.0, 2085.0, 6570.0, 6675.0,\n",
              "       9333.0, 6945.0, 9792.0, 3973.0, 1000.0, 2250.0, 1755.0, 1074.6,\n",
              "       'kaution', 1974.0, 3685.0, 2253.0, 3230.0, 5775.0, 4698.0, 3158.0,\n",
              "       1688.4, 1695.48, 5506.2, 2564.0, 4258.0, 8382.24, 2958.0, 3354.0,\n",
              "       5400.0, 3133.0, 4104.0, 4263.0, 3423.0, 3550.0, 2318.0, 2268.0,\n",
              "       2315.0, 3334.0, 3533.0, 3548.0, 3544.0, 2297.0, 3502.0, 3437.0,\n",
              "       2262.0, 3461.0, 3482.0, 4300.0, 5700.0, 3167.0, 3706.0, 4409.0,\n",
              "       2795.0, 3058.0, 3028.0, 3088.0, 4976.0, 13200.0, 4264.0, 5508.0,\n",
              "       15300.0, 3087.0, 3627.0, 3188.0, 8160.0, 3204.0, 2.5, 3762.0,\n",
              "       3684.0, 3355.0, 4552.0, 4519.0, 3141.69, 3154.0, 4271.0, 4338.0,\n",
              "       3059.0, 4047.0, 3543.0, 3297.0, 3007.0, 4326.0, 3905.0, 4759.0,\n",
              "       3747.0, 3745.0, '3nkm', 3237.0, 1542.0], dtype=object)"
            ]
          },
          "execution_count": 36,
          "metadata": {},
          "output_type": "execute_result"
        }
      ],
      "source": [
        "df.security_deposit.unique()"
      ]
    },
    {
      "cell_type": "markdown",
      "metadata": {
        "id": "YI3psNl2bI-6"
      },
      "source": [
        "**And now, let's get a list of non-numeric values**"
      ]
    },
    {
      "cell_type": "code",
      "execution_count": null,
      "metadata": {
        "colab": {
          "base_uri": "https://localhost:8080/"
        },
        "id": "GwSjFunKbI-6",
        "outputId": "ef322f8d-787d-461a-ea1a-726be9a664ee"
      },
      "outputs": [
        {
          "data": {
            "text/plain": [
              "array(['drei', '3x', '9150.-', '2xnkm', '6000.-', 'ja', '3-fache',\n",
              "       'kaution:', 'kaution', '3nkm'], dtype=object)"
            ]
          },
          "execution_count": 37,
          "metadata": {},
          "output_type": "execute_result"
        }
      ],
      "source": [
        "def is_float(value):\n",
        "    try:\n",
        "        float(value)\n",
        "        return True\n",
        "    except:\n",
        "        return False\n",
        "\n",
        "df.security_deposit[df.security_deposit.apply(lambda x: not is_float(x))].unique()"
      ]
    },
    {
      "cell_type": "markdown",
      "metadata": {
        "id": "VUFeofyMbI-9"
      },
      "source": [
        "**Build a map of what the values should be. This is manually set because it's a small amount of data.**"
      ]
    },
    {
      "cell_type": "code",
      "execution_count": null,
      "metadata": {
        "id": "HdsUIIfabI-9"
      },
      "outputs": [],
      "source": [
        "str_security_deposit_map = {\n",
        "    'drei': '3',\n",
        "    '3x': '3',\n",
        "    r'3[a-z]+': '3',\n",
        "    '3xr': '3',\n",
        "    '3xt': '3',\n",
        "    '9150.-': 9150,\n",
        "    '2xnkm': '2',\n",
        "    '6000.-': 6000,\n",
        "    '3-fache': '3',\n",
        "    '3nkm': '3',    \n",
        "}\n",
        "\n",
        "str_security_deposit_unclear = ['ja', 'kaution', 'kaution:']"
      ]
    },
    {
      "cell_type": "code",
      "execution_count": null,
      "metadata": {
        "colab": {
          "base_uri": "https://localhost:8080/",
          "height": 35
        },
        "id": "3fO5FGGC6Sk_",
        "outputId": "551fb6e6-eb9f-4065-be79-0429bf724524"
      },
      "outputs": [
        {
          "data": {
            "application/vnd.google.colaboratory.intrinsic+json": {
              "type": "string"
            },
            "text/plain": [
              "'default'"
            ]
          },
          "execution_count": 39,
          "metadata": {},
          "output_type": "execute_result"
        }
      ],
      "source": [
        "str_security_deposit_map.get('drein', 'default')"
      ]
    },
    {
      "cell_type": "code",
      "execution_count": null,
      "metadata": {
        "colab": {
          "base_uri": "https://localhost:8080/",
          "height": 35
        },
        "id": "GPqht0T96YYr",
        "outputId": "3215ffae-ea1d-4ff6-97fe-c284b7f0499c"
      },
      "outputs": [
        {
          "data": {
            "application/vnd.google.colaboratory.intrinsic+json": {
              "type": "string"
            },
            "text/plain": [
              "'3'"
            ]
          },
          "execution_count": 40,
          "metadata": {},
          "output_type": "execute_result"
        }
      ],
      "source": [
        "str_security_deposit_map['drei']"
      ]
    },
    {
      "cell_type": "code",
      "execution_count": null,
      "metadata": {
        "id": "-WI-rXv7bI_A"
      },
      "outputs": [],
      "source": [
        "df['security_deposit'] = df.security_deposit.apply(lambda x: str_security_deposit_map.get(x, x))"
      ]
    },
    {
      "cell_type": "code",
      "execution_count": null,
      "metadata": {
        "colab": {
          "base_uri": "https://localhost:8080/"
        },
        "id": "I5obd8DTbI_D",
        "outputId": "56528db0-e7b7-4ffb-a943-d88a82e4c2ab"
      },
      "outputs": [
        {
          "data": {
            "text/plain": [
              "array([3.0, 2920.53, '3', nan, 2400.0, 3507.42, 2000.0, 2139.78, 5397.0,\n",
              "       3885.0, 7950.0, 4152.0, 4650.0, 1500.0, 9150, 4545.0, '2', 6900.0,\n",
              "       5994.0, 6000, 7470.0, 5172.0, 2145.0, 6215.7, 11475.0, 14850.0,\n",
              "       4197.0, 2600.0, 12900.0, 2.0, 3450.0, 5000.0, 10000.0, 3620.0,\n",
              "       1690.0, 1790.0, 'ja', 2990.0, 1490.0, 9960.0, 3159.0, 4350.0,\n",
              "       5010.0, 4333.9, 3000.0, 2013.0, 2841.0, 4000.0, 2850.72, 3300.75,\n",
              "       2344.0, 3645.0, 2397.0, 4500.0, 9718.0, 3597.0, 3900.0, 3780.0,\n",
              "       4800.0, 3582.0, 3630.0, 2549.79, 3831.0, 2274.0, 2850.0, 2960.0,\n",
              "       4680.0, 3500.0, 4080.0, 4050.0, 2338.0, 5940.0, 8100.0, 3859.17,\n",
              "       2630.43, 6552.0, 2700.0, 1797.0, 3345.0, 3360.0, 5148.0, 2472.0,\n",
              "       12000.0, 6300.0, 5394.0, 1554.0, 6600.0, 1727.76, 9025.5, 3750.0,\n",
              "       7575.0, 7650.0, 5355.0, 5850.0, 4170.0, 2340.0, 5910.0, 6330.0,\n",
              "       5670.0, 1485.0, 3584.82, 5421.0, 5097.0, 5196.6, 'kaution:',\n",
              "       2500.0, 2115.0, 2286.45, 1600.0, 1200.0, 6150.0, 10500.0, 2426.0,\n",
              "       2040.0, 2085.0, 6570.0, 6675.0, 9333.0, 6945.0, 9792.0, 3973.0,\n",
              "       1000.0, 2250.0, 1755.0, 1074.6, 'kaution', 1974.0, 3685.0, 2253.0,\n",
              "       3230.0, 5775.0, 4698.0, 3158.0, 1688.4, 1695.48, 5506.2, 2564.0,\n",
              "       4258.0, 8382.24, 2958.0, 3354.0, 5400.0, 3133.0, 4104.0, 4263.0,\n",
              "       3423.0, 3550.0, 2318.0, 2268.0, 2315.0, 3334.0, 3533.0, 3548.0,\n",
              "       3544.0, 2297.0, 3502.0, 3437.0, 2262.0, 3461.0, 3482.0, 4300.0,\n",
              "       5700.0, 3167.0, 3706.0, 4409.0, 2795.0, 3058.0, 3028.0, 3088.0,\n",
              "       4976.0, 13200.0, 4264.0, 5508.0, 15300.0, 3087.0, 3627.0, 3188.0,\n",
              "       8160.0, 3204.0, 2.5, 3762.0, 3684.0, 3355.0, 4552.0, 4519.0,\n",
              "       3141.69, 3154.0, 4271.0, 4338.0, 3059.0, 4047.0, 3543.0, 3297.0,\n",
              "       3007.0, 4326.0, 3905.0, 4759.0, 3747.0, 3745.0, 3237.0, 1542.0],\n",
              "      dtype=object)"
            ]
          },
          "execution_count": 42,
          "metadata": {},
          "output_type": "execute_result"
        }
      ],
      "source": [
        "df.security_deposit.unique()"
      ]
    },
    {
      "cell_type": "code",
      "execution_count": null,
      "metadata": {
        "colab": {
          "base_uri": "https://localhost:8080/"
        },
        "id": "oNUvcUThbI_I",
        "outputId": "68860ba1-0e2c-4011-eb99-9a78a788c934"
      },
      "outputs": [
        {
          "data": {
            "text/plain": [
              "3.0    123\n",
              "3       21\n",
              "2        2\n",
              "2.0      2\n",
              "2.5      1\n",
              "Name: security_deposit, dtype: int64"
            ]
          },
          "execution_count": 43,
          "metadata": {},
          "output_type": "execute_result"
        }
      ],
      "source": [
        "def convert_to_float(value):\n",
        "    if is_float(value):\n",
        "        return float(value)\n",
        "    else:\n",
        "        return np.nan\n",
        "\n",
        "# Not storing in df, just want to see output\n",
        "df.security_deposit[df.security_deposit.apply(lambda x: convert_to_float(x)) <= 3].value_counts()"
      ]
    },
    {
      "cell_type": "markdown",
      "metadata": {
        "id": "eErOOWPFbI_K"
      },
      "source": [
        "Let's assume that the unclear values are three months, as it is the most common option."
      ]
    },
    {
      "cell_type": "code",
      "execution_count": null,
      "metadata": {
        "colab": {
          "base_uri": "https://localhost:8080/"
        },
        "id": "vxv5lQVD7P9d",
        "outputId": "8f99e863-a80b-44a8-c814-9b12daafb27d"
      },
      "outputs": [
        {
          "data": {
            "text/plain": [
              "['ja', 'kaution', 'kaution:']"
            ]
          },
          "execution_count": 44,
          "metadata": {},
          "output_type": "execute_result"
        }
      ],
      "source": [
        "str_security_deposit_unclear"
      ]
    },
    {
      "cell_type": "code",
      "execution_count": null,
      "metadata": {
        "id": "asC9OpKNbI_K"
      },
      "outputs": [],
      "source": [
        "unclear_security_deposit_map = {str_security_deposit: '3' for str_security_deposit in str_security_deposit_unclear}"
      ]
    },
    {
      "cell_type": "code",
      "execution_count": null,
      "metadata": {
        "colab": {
          "base_uri": "https://localhost:8080/"
        },
        "id": "Rb3wwPdB75wq",
        "outputId": "57da7a37-a0bb-44bd-9205-954b29986a73"
      },
      "outputs": [
        {
          "data": {
            "text/plain": [
              "{'ja': '3', 'kaution': '3', 'kaution:': '3'}"
            ]
          },
          "execution_count": 46,
          "metadata": {},
          "output_type": "execute_result"
        }
      ],
      "source": [
        "unclear_security_deposit_map"
      ]
    },
    {
      "cell_type": "code",
      "execution_count": null,
      "metadata": {
        "id": "9BbMjRCUbI_M"
      },
      "outputs": [],
      "source": [
        "df['security_deposit'] = df.security_deposit.apply(lambda x: unclear_security_deposit_map.get(x, x))"
      ]
    },
    {
      "cell_type": "code",
      "execution_count": null,
      "metadata": {
        "colab": {
          "base_uri": "https://localhost:8080/"
        },
        "id": "VX7Ow3hWbI_P",
        "outputId": "7450c17a-6cf3-47c2-d7ee-5ded36582cf0"
      },
      "outputs": [
        {
          "data": {
            "text/plain": [
              "array([3.0, 2920.53, '3', nan, 2400.0, 3507.42, 2000.0, 2139.78, 5397.0,\n",
              "       3885.0, 7950.0, 4152.0, 4650.0, 1500.0, 9150, 4545.0, '2', 6900.0,\n",
              "       5994.0, 6000, 7470.0, 5172.0, 2145.0, 6215.7, 11475.0, 14850.0,\n",
              "       4197.0, 2600.0, 12900.0, 2.0, 3450.0, 5000.0, 10000.0, 3620.0,\n",
              "       1690.0, 1790.0, 2990.0, 1490.0, 9960.0, 3159.0, 4350.0, 5010.0,\n",
              "       4333.9, 3000.0, 2013.0, 2841.0, 4000.0, 2850.72, 3300.75, 2344.0,\n",
              "       3645.0, 2397.0, 4500.0, 9718.0, 3597.0, 3900.0, 3780.0, 4800.0,\n",
              "       3582.0, 3630.0, 2549.79, 3831.0, 2274.0, 2850.0, 2960.0, 4680.0,\n",
              "       3500.0, 4080.0, 4050.0, 2338.0, 5940.0, 8100.0, 3859.17, 2630.43,\n",
              "       6552.0, 2700.0, 1797.0, 3345.0, 3360.0, 5148.0, 2472.0, 12000.0,\n",
              "       6300.0, 5394.0, 1554.0, 6600.0, 1727.76, 9025.5, 3750.0, 7575.0,\n",
              "       7650.0, 5355.0, 5850.0, 4170.0, 2340.0, 5910.0, 6330.0, 5670.0,\n",
              "       1485.0, 3584.82, 5421.0, 5097.0, 5196.6, 2500.0, 2115.0, 2286.45,\n",
              "       1600.0, 1200.0, 6150.0, 10500.0, 2426.0, 2040.0, 2085.0, 6570.0,\n",
              "       6675.0, 9333.0, 6945.0, 9792.0, 3973.0, 1000.0, 2250.0, 1755.0,\n",
              "       1074.6, 1974.0, 3685.0, 2253.0, 3230.0, 5775.0, 4698.0, 3158.0,\n",
              "       1688.4, 1695.48, 5506.2, 2564.0, 4258.0, 8382.24, 2958.0, 3354.0,\n",
              "       5400.0, 3133.0, 4104.0, 4263.0, 3423.0, 3550.0, 2318.0, 2268.0,\n",
              "       2315.0, 3334.0, 3533.0, 3548.0, 3544.0, 2297.0, 3502.0, 3437.0,\n",
              "       2262.0, 3461.0, 3482.0, 4300.0, 5700.0, 3167.0, 3706.0, 4409.0,\n",
              "       2795.0, 3058.0, 3028.0, 3088.0, 4976.0, 13200.0, 4264.0, 5508.0,\n",
              "       15300.0, 3087.0, 3627.0, 3188.0, 8160.0, 3204.0, 2.5, 3762.0,\n",
              "       3684.0, 3355.0, 4552.0, 4519.0, 3141.69, 3154.0, 4271.0, 4338.0,\n",
              "       3059.0, 4047.0, 3543.0, 3297.0, 3007.0, 4326.0, 3905.0, 4759.0,\n",
              "       3747.0, 3745.0, 3237.0, 1542.0], dtype=object)"
            ]
          },
          "execution_count": 48,
          "metadata": {},
          "output_type": "execute_result"
        }
      ],
      "source": [
        "df.security_deposit.unique()"
      ]
    },
    {
      "cell_type": "markdown",
      "metadata": {
        "id": "G8ygO5OFbI_S"
      },
      "source": [
        "The values 1, 2 and 3 refer to the number of months rent as deposit, so let's calculate those values by multiplying with the rent"
      ]
    },
    {
      "cell_type": "code",
      "execution_count": null,
      "metadata": {
        "colab": {
          "base_uri": "https://localhost:8080/"
        },
        "id": "-bqQkaErbI_S",
        "outputId": "d65424b8-a7ab-4a28-d3c7-910ca9cdd083"
      },
      "outputs": [
        {
          "data": {
            "text/plain": [
              "0          3.0\n",
              "1      2920.53\n",
              "2            3\n",
              "3          NaN\n",
              "4          NaN\n",
              "        ...   \n",
              "759        NaN\n",
              "760        NaN\n",
              "761        NaN\n",
              "762        NaN\n",
              "763        NaN\n",
              "Name: security_deposit, Length: 764, dtype: object"
            ]
          },
          "execution_count": 49,
          "metadata": {},
          "output_type": "execute_result"
        }
      ],
      "source": [
        "df[\"security_deposit\"]"
      ]
    },
    {
      "cell_type": "markdown",
      "metadata": {
        "id": "CwVdGYwdbI_V"
      },
      "source": [
        "### Exercise\n",
        "\n",
        "Now, convert the month duration rows (3/2/etc Months) to an actual value, based on the rent"
      ]
    },
    {
      "cell_type": "code",
      "execution_count": null,
      "metadata": {
        "colab": {
          "base_uri": "https://localhost:8080/",
          "height": 409
        },
        "id": "y1dU9nlFMVpt",
        "outputId": "b93c0758-6248-4cb3-84ba-3acdd47bec42"
      },
      "outputs": [
        {
          "data": {
            "text/html": [
              "\n",
              "  <div id=\"df-712898bb-38bb-456e-9504-6d7840da8522\">\n",
              "    <div class=\"colab-df-container\">\n",
              "      <div>\n",
              "<style scoped>\n",
              "    .dataframe tbody tr th:only-of-type {\n",
              "        vertical-align: middle;\n",
              "    }\n",
              "\n",
              "    .dataframe tbody tr th {\n",
              "        vertical-align: top;\n",
              "    }\n",
              "\n",
              "    .dataframe thead th {\n",
              "        text-align: right;\n",
              "    }\n",
              "</style>\n",
              "<table border=\"1\" class=\"dataframe\">\n",
              "  <thead>\n",
              "    <tr style=\"text-align: right;\">\n",
              "      <th></th>\n",
              "      <th>url</th>\n",
              "      <th>region</th>\n",
              "      <th>condition</th>\n",
              "      <th>rooms</th>\n",
              "      <th>rent</th>\n",
              "      <th>year_construction</th>\n",
              "      <th>space</th>\n",
              "      <th>cold_rent</th>\n",
              "      <th>utilities</th>\n",
              "      <th>heating_costs</th>\n",
              "      <th>security_deposit</th>\n",
              "      <th>parking_space</th>\n",
              "      <th>renovated_date</th>\n",
              "      <th>property_condition</th>\n",
              "      <th>furnishing</th>\n",
              "      <th>heating_type</th>\n",
              "      <th>energy_sources</th>\n",
              "      <th>energy_certificate</th>\n",
              "      <th>type_of_certificate</th>\n",
              "      <th>energy_requirement</th>\n",
              "      <th>efficiency_class</th>\n",
              "    </tr>\n",
              "  </thead>\n",
              "  <tbody>\n",
              "    <tr>\n",
              "      <th>0</th>\n",
              "      <td>https://www.immobilienscout24.de/expose/116051687</td>\n",
              "      <td>Mitte</td>\n",
              "      <td>first_time_use</td>\n",
              "      <td>4.0</td>\n",
              "      <td>2659.00</td>\n",
              "      <td>2019</td>\n",
              "      <td>117.20</td>\n",
              "      <td>2.199€</td>\n",
              "      <td>+460€</td>\n",
              "      <td>in</td>\n",
              "      <td>3.0</td>\n",
              "      <td>120€</td>\n",
              "      <td>NaN</td>\n",
              "      <td>New</td>\n",
              "      <td>NaN</td>\n",
              "      <td>Underfloor Heating</td>\n",
              "      <td>NaN</td>\n",
              "      <td>NaN</td>\n",
              "      <td>Bedarfsausweis</td>\n",
              "      <td>NaN</td>\n",
              "      <td>B</td>\n",
              "    </tr>\n",
              "    <tr>\n",
              "      <th>1</th>\n",
              "      <td>https://www.immobilienscout24.de/expose/115338103</td>\n",
              "      <td>Kreuzberg</td>\n",
              "      <td>first_time_use</td>\n",
              "      <td>1.0</td>\n",
              "      <td>1200.00</td>\n",
              "      <td>2020</td>\n",
              "      <td>29.33</td>\n",
              "      <td>973,51€</td>\n",
              "      <td>+226,49€</td>\n",
              "      <td>in</td>\n",
              "      <td>2920.53</td>\n",
              "      <td>NaN</td>\n",
              "      <td>NaN</td>\n",
              "      <td>New</td>\n",
              "      <td>Gehobene Qualität</td>\n",
              "      <td>Central Heating</td>\n",
              "      <td>Fernwärme Energieausweis liegt vor</td>\n",
              "      <td>liegt vor</td>\n",
              "      <td>NaN</td>\n",
              "      <td>NaN</td>\n",
              "      <td>NaN</td>\n",
              "    </tr>\n",
              "    <tr>\n",
              "      <th>2</th>\n",
              "      <td>https://www.immobilienscout24.de/expose/116458710</td>\n",
              "      <td>Köpenick</td>\n",
              "      <td>well_kept</td>\n",
              "      <td>2.0</td>\n",
              "      <td>979.00</td>\n",
              "      <td>1997</td>\n",
              "      <td>83.61</td>\n",
              "      <td>799€</td>\n",
              "      <td>+90€</td>\n",
              "      <td>+90€</td>\n",
              "      <td>3</td>\n",
              "      <td>NaN</td>\n",
              "      <td>NaN</td>\n",
              "      <td>Groomed</td>\n",
              "      <td>Normale Qualität</td>\n",
              "      <td>Central Heating</td>\n",
              "      <td>Fernwärme Energieausweis liegt vor</td>\n",
              "      <td>liegt vor</td>\n",
              "      <td>Verbrauchsausweis Energie­ver­brauchs­kennwert...</td>\n",
              "      <td>NaN</td>\n",
              "      <td>NaN</td>\n",
              "    </tr>\n",
              "    <tr>\n",
              "      <th>3</th>\n",
              "      <td>https://www.immobilienscout24.de/expose/116573177</td>\n",
              "      <td>Wilmersdorf</td>\n",
              "      <td>well_kept</td>\n",
              "      <td>4.0</td>\n",
              "      <td>1830.22</td>\n",
              "      <td>1900</td>\n",
              "      <td>171.18</td>\n",
              "      <td>NaN</td>\n",
              "      <td>NaN</td>\n",
              "      <td>NaN</td>\n",
              "      <td>NaN</td>\n",
              "      <td>NaN</td>\n",
              "      <td>NaN</td>\n",
              "      <td>NaN</td>\n",
              "      <td>NaN</td>\n",
              "      <td>NaN</td>\n",
              "      <td>NaN</td>\n",
              "      <td>NaN</td>\n",
              "      <td>NaN</td>\n",
              "      <td>NaN</td>\n",
              "      <td>NaN</td>\n",
              "    </tr>\n",
              "    <tr>\n",
              "      <th>4</th>\n",
              "      <td>https://www.immobilienscout24.de/expose/115925878</td>\n",
              "      <td>Kreuzberg</td>\n",
              "      <td>first_time_use</td>\n",
              "      <td>2.0</td>\n",
              "      <td>2272.00</td>\n",
              "      <td>2020</td>\n",
              "      <td>88.27</td>\n",
              "      <td>NaN</td>\n",
              "      <td>NaN</td>\n",
              "      <td>NaN</td>\n",
              "      <td>NaN</td>\n",
              "      <td>NaN</td>\n",
              "      <td>NaN</td>\n",
              "      <td>New</td>\n",
              "      <td>Gehobene Qualität</td>\n",
              "      <td>Central Heating</td>\n",
              "      <td>Fernwärme Energieausweis liegt zur Besichtigun...</td>\n",
              "      <td>liegt zur Besichtigung vor</td>\n",
              "      <td>NaN</td>\n",
              "      <td>NaN</td>\n",
              "      <td>NaN</td>\n",
              "    </tr>\n",
              "  </tbody>\n",
              "</table>\n",
              "</div>\n",
              "      <button class=\"colab-df-convert\" onclick=\"convertToInteractive('df-712898bb-38bb-456e-9504-6d7840da8522')\"\n",
              "              title=\"Convert this dataframe to an interactive table.\"\n",
              "              style=\"display:none;\">\n",
              "        \n",
              "  <svg xmlns=\"http://www.w3.org/2000/svg\" height=\"24px\"viewBox=\"0 0 24 24\"\n",
              "       width=\"24px\">\n",
              "    <path d=\"M0 0h24v24H0V0z\" fill=\"none\"/>\n",
              "    <path d=\"M18.56 5.44l.94 2.06.94-2.06 2.06-.94-2.06-.94-.94-2.06-.94 2.06-2.06.94zm-11 1L8.5 8.5l.94-2.06 2.06-.94-2.06-.94L8.5 2.5l-.94 2.06-2.06.94zm10 10l.94 2.06.94-2.06 2.06-.94-2.06-.94-.94-2.06-.94 2.06-2.06.94z\"/><path d=\"M17.41 7.96l-1.37-1.37c-.4-.4-.92-.59-1.43-.59-.52 0-1.04.2-1.43.59L10.3 9.45l-7.72 7.72c-.78.78-.78 2.05 0 2.83L4 21.41c.39.39.9.59 1.41.59.51 0 1.02-.2 1.41-.59l7.78-7.78 2.81-2.81c.8-.78.8-2.07 0-2.86zM5.41 20L4 18.59l7.72-7.72 1.47 1.35L5.41 20z\"/>\n",
              "  </svg>\n",
              "      </button>\n",
              "      \n",
              "  <style>\n",
              "    .colab-df-container {\n",
              "      display:flex;\n",
              "      flex-wrap:wrap;\n",
              "      gap: 12px;\n",
              "    }\n",
              "\n",
              "    .colab-df-convert {\n",
              "      background-color: #E8F0FE;\n",
              "      border: none;\n",
              "      border-radius: 50%;\n",
              "      cursor: pointer;\n",
              "      display: none;\n",
              "      fill: #1967D2;\n",
              "      height: 32px;\n",
              "      padding: 0 0 0 0;\n",
              "      width: 32px;\n",
              "    }\n",
              "\n",
              "    .colab-df-convert:hover {\n",
              "      background-color: #E2EBFA;\n",
              "      box-shadow: 0px 1px 2px rgba(60, 64, 67, 0.3), 0px 1px 3px 1px rgba(60, 64, 67, 0.15);\n",
              "      fill: #174EA6;\n",
              "    }\n",
              "\n",
              "    [theme=dark] .colab-df-convert {\n",
              "      background-color: #3B4455;\n",
              "      fill: #D2E3FC;\n",
              "    }\n",
              "\n",
              "    [theme=dark] .colab-df-convert:hover {\n",
              "      background-color: #434B5C;\n",
              "      box-shadow: 0px 1px 3px 1px rgba(0, 0, 0, 0.15);\n",
              "      filter: drop-shadow(0px 1px 2px rgba(0, 0, 0, 0.3));\n",
              "      fill: #FFFFFF;\n",
              "    }\n",
              "  </style>\n",
              "\n",
              "      <script>\n",
              "        const buttonEl =\n",
              "          document.querySelector('#df-712898bb-38bb-456e-9504-6d7840da8522 button.colab-df-convert');\n",
              "        buttonEl.style.display =\n",
              "          google.colab.kernel.accessAllowed ? 'block' : 'none';\n",
              "\n",
              "        async function convertToInteractive(key) {\n",
              "          const element = document.querySelector('#df-712898bb-38bb-456e-9504-6d7840da8522');\n",
              "          const dataTable =\n",
              "            await google.colab.kernel.invokeFunction('convertToInteractive',\n",
              "                                                     [key], {});\n",
              "          if (!dataTable) return;\n",
              "\n",
              "          const docLinkHtml = 'Like what you see? Visit the ' +\n",
              "            '<a target=\"_blank\" href=https://colab.research.google.com/notebooks/data_table.ipynb>data table notebook</a>'\n",
              "            + ' to learn more about interactive tables.';\n",
              "          element.innerHTML = '';\n",
              "          dataTable['output_type'] = 'display_data';\n",
              "          await google.colab.output.renderOutput(dataTable, element);\n",
              "          const docLink = document.createElement('div');\n",
              "          docLink.innerHTML = docLinkHtml;\n",
              "          element.appendChild(docLink);\n",
              "        }\n",
              "      </script>\n",
              "    </div>\n",
              "  </div>\n",
              "  "
            ],
            "text/plain": [
              "                                                 url       region  \\\n",
              "0  https://www.immobilienscout24.de/expose/116051687        Mitte   \n",
              "1  https://www.immobilienscout24.de/expose/115338103    Kreuzberg   \n",
              "2  https://www.immobilienscout24.de/expose/116458710     Köpenick   \n",
              "3  https://www.immobilienscout24.de/expose/116573177  Wilmersdorf   \n",
              "4  https://www.immobilienscout24.de/expose/115925878    Kreuzberg   \n",
              "\n",
              "        condition  rooms     rent  year_construction   space cold_rent  \\\n",
              "0  first_time_use    4.0  2659.00               2019  117.20    2.199€   \n",
              "1  first_time_use    1.0  1200.00               2020   29.33   973,51€   \n",
              "2       well_kept    2.0   979.00               1997   83.61      799€   \n",
              "3       well_kept    4.0  1830.22               1900  171.18       NaN   \n",
              "4  first_time_use    2.0  2272.00               2020   88.27       NaN   \n",
              "\n",
              "  utilities heating_costs security_deposit parking_space  renovated_date  \\\n",
              "0     +460€            in              3.0          120€             NaN   \n",
              "1  +226,49€            in          2920.53           NaN             NaN   \n",
              "2      +90€          +90€                3           NaN             NaN   \n",
              "3       NaN           NaN              NaN           NaN             NaN   \n",
              "4       NaN           NaN              NaN           NaN             NaN   \n",
              "\n",
              "  property_condition         furnishing        heating_type  \\\n",
              "0                New                NaN  Underfloor Heating   \n",
              "1                New  Gehobene Qualität     Central Heating   \n",
              "2            Groomed   Normale Qualität     Central Heating   \n",
              "3                NaN                NaN                 NaN   \n",
              "4                New  Gehobene Qualität     Central Heating   \n",
              "\n",
              "                                      energy_sources  \\\n",
              "0                                                NaN   \n",
              "1                 Fernwärme Energieausweis liegt vor   \n",
              "2                 Fernwärme Energieausweis liegt vor   \n",
              "3                                                NaN   \n",
              "4  Fernwärme Energieausweis liegt zur Besichtigun...   \n",
              "\n",
              "           energy_certificate  \\\n",
              "0                         NaN   \n",
              "1                   liegt vor   \n",
              "2                   liegt vor   \n",
              "3                         NaN   \n",
              "4  liegt zur Besichtigung vor   \n",
              "\n",
              "                                 type_of_certificate energy_requirement  \\\n",
              "0                                     Bedarfsausweis                NaN   \n",
              "1                                                NaN                NaN   \n",
              "2  Verbrauchsausweis Energie­ver­brauchs­kennwert...                NaN   \n",
              "3                                                NaN                NaN   \n",
              "4                                                NaN                NaN   \n",
              "\n",
              "  efficiency_class  \n",
              "0                B  \n",
              "1              NaN  \n",
              "2              NaN  \n",
              "3              NaN  \n",
              "4              NaN  "
            ]
          },
          "execution_count": 50,
          "metadata": {},
          "output_type": "execute_result"
        }
      ],
      "source": [
        "df.head()"
      ]
    },
    {
      "cell_type": "code",
      "execution_count": null,
      "metadata": {
        "colab": {
          "base_uri": "https://localhost:8080/"
        },
        "id": "4e6bGHPfB0tF",
        "outputId": "acc9a1a8-e0aa-4d95-be15-980c829d7633"
      },
      "outputs": [
        {
          "data": {
            "text/plain": [
              "0      2659.00\n",
              "1      1200.00\n",
              "2       979.00\n",
              "3      1830.22\n",
              "4      2272.00\n",
              "        ...   \n",
              "759     959.00\n",
              "760     649.00\n",
              "761    2750.00\n",
              "762    1259.00\n",
              "763     888.00\n",
              "Name: rent, Length: 764, dtype: float64"
            ]
          },
          "execution_count": 51,
          "metadata": {},
          "output_type": "execute_result"
        }
      ],
      "source": [
        "df[\"rent\"]"
      ]
    },
    {
      "cell_type": "code",
      "execution_count": null,
      "metadata": {
        "id": "k7-LoToVF_mk"
      },
      "outputs": [],
      "source": [
        "def converts_multiplier_to_deposit(row):\n",
        "  security_deposit_float = convert_to_float(row[\"security_deposit\"])\n",
        "\n",
        "  if security_deposit_float <= 3:\n",
        "    return row[\"rent\"] * security_deposit_float\n",
        "\n",
        "  else: \n",
        "    return security_deposit_float"
      ]
    },
    {
      "cell_type": "code",
      "execution_count": null,
      "metadata": {
        "id": "uSBwtB7zGZpa"
      },
      "outputs": [],
      "source": [
        "df[\"deposit_cleaned\"] = df.apply(converts_multiplier_to_deposit, axis = 1)"
      ]
    },
    {
      "cell_type": "code",
      "execution_count": null,
      "metadata": {
        "id": "AbuBcIqgGt0k"
      },
      "outputs": [],
      "source": [
        "df = df.assign(deposit_cleaned=df.apply(converts_multiplier_to_deposit, axis = 1))"
      ]
    },
    {
      "cell_type": "code",
      "execution_count": null,
      "metadata": {
        "colab": {
          "base_uri": "https://localhost:8080/",
          "height": 162
        },
        "id": "HAD5j8m0G8TH",
        "outputId": "fe537450-d810-4a81-bba3-e6b0afe77911"
      },
      "outputs": [
        {
          "data": {
            "text/html": [
              "\n",
              "  <div id=\"df-7785d67d-cf54-47a0-a4f2-91a7e2e9c1af\">\n",
              "    <div class=\"colab-df-container\">\n",
              "      <div>\n",
              "<style scoped>\n",
              "    .dataframe tbody tr th:only-of-type {\n",
              "        vertical-align: middle;\n",
              "    }\n",
              "\n",
              "    .dataframe tbody tr th {\n",
              "        vertical-align: top;\n",
              "    }\n",
              "\n",
              "    .dataframe thead th {\n",
              "        text-align: right;\n",
              "    }\n",
              "</style>\n",
              "<table border=\"1\" class=\"dataframe\">\n",
              "  <thead>\n",
              "    <tr style=\"text-align: right;\">\n",
              "      <th></th>\n",
              "      <th>url</th>\n",
              "      <th>region</th>\n",
              "      <th>condition</th>\n",
              "      <th>rooms</th>\n",
              "      <th>rent</th>\n",
              "      <th>year_construction</th>\n",
              "      <th>space</th>\n",
              "      <th>cold_rent</th>\n",
              "      <th>utilities</th>\n",
              "      <th>heating_costs</th>\n",
              "      <th>security_deposit</th>\n",
              "      <th>parking_space</th>\n",
              "      <th>renovated_date</th>\n",
              "      <th>property_condition</th>\n",
              "      <th>furnishing</th>\n",
              "      <th>heating_type</th>\n",
              "      <th>energy_sources</th>\n",
              "      <th>energy_certificate</th>\n",
              "      <th>type_of_certificate</th>\n",
              "      <th>energy_requirement</th>\n",
              "      <th>efficiency_class</th>\n",
              "      <th>deposit_cleaned</th>\n",
              "    </tr>\n",
              "  </thead>\n",
              "  <tbody>\n",
              "    <tr>\n",
              "      <th>0</th>\n",
              "      <td>https://www.immobilienscout24.de/expose/116051687</td>\n",
              "      <td>Mitte</td>\n",
              "      <td>first_time_use</td>\n",
              "      <td>4.0</td>\n",
              "      <td>2659.0</td>\n",
              "      <td>2019</td>\n",
              "      <td>117.2</td>\n",
              "      <td>2.199€</td>\n",
              "      <td>+460€</td>\n",
              "      <td>in</td>\n",
              "      <td>3.0</td>\n",
              "      <td>120€</td>\n",
              "      <td>NaN</td>\n",
              "      <td>New</td>\n",
              "      <td>NaN</td>\n",
              "      <td>Underfloor Heating</td>\n",
              "      <td>NaN</td>\n",
              "      <td>NaN</td>\n",
              "      <td>Bedarfsausweis</td>\n",
              "      <td>NaN</td>\n",
              "      <td>B</td>\n",
              "      <td>7977.0</td>\n",
              "    </tr>\n",
              "  </tbody>\n",
              "</table>\n",
              "</div>\n",
              "      <button class=\"colab-df-convert\" onclick=\"convertToInteractive('df-7785d67d-cf54-47a0-a4f2-91a7e2e9c1af')\"\n",
              "              title=\"Convert this dataframe to an interactive table.\"\n",
              "              style=\"display:none;\">\n",
              "        \n",
              "  <svg xmlns=\"http://www.w3.org/2000/svg\" height=\"24px\"viewBox=\"0 0 24 24\"\n",
              "       width=\"24px\">\n",
              "    <path d=\"M0 0h24v24H0V0z\" fill=\"none\"/>\n",
              "    <path d=\"M18.56 5.44l.94 2.06.94-2.06 2.06-.94-2.06-.94-.94-2.06-.94 2.06-2.06.94zm-11 1L8.5 8.5l.94-2.06 2.06-.94-2.06-.94L8.5 2.5l-.94 2.06-2.06.94zm10 10l.94 2.06.94-2.06 2.06-.94-2.06-.94-.94-2.06-.94 2.06-2.06.94z\"/><path d=\"M17.41 7.96l-1.37-1.37c-.4-.4-.92-.59-1.43-.59-.52 0-1.04.2-1.43.59L10.3 9.45l-7.72 7.72c-.78.78-.78 2.05 0 2.83L4 21.41c.39.39.9.59 1.41.59.51 0 1.02-.2 1.41-.59l7.78-7.78 2.81-2.81c.8-.78.8-2.07 0-2.86zM5.41 20L4 18.59l7.72-7.72 1.47 1.35L5.41 20z\"/>\n",
              "  </svg>\n",
              "      </button>\n",
              "      \n",
              "  <style>\n",
              "    .colab-df-container {\n",
              "      display:flex;\n",
              "      flex-wrap:wrap;\n",
              "      gap: 12px;\n",
              "    }\n",
              "\n",
              "    .colab-df-convert {\n",
              "      background-color: #E8F0FE;\n",
              "      border: none;\n",
              "      border-radius: 50%;\n",
              "      cursor: pointer;\n",
              "      display: none;\n",
              "      fill: #1967D2;\n",
              "      height: 32px;\n",
              "      padding: 0 0 0 0;\n",
              "      width: 32px;\n",
              "    }\n",
              "\n",
              "    .colab-df-convert:hover {\n",
              "      background-color: #E2EBFA;\n",
              "      box-shadow: 0px 1px 2px rgba(60, 64, 67, 0.3), 0px 1px 3px 1px rgba(60, 64, 67, 0.15);\n",
              "      fill: #174EA6;\n",
              "    }\n",
              "\n",
              "    [theme=dark] .colab-df-convert {\n",
              "      background-color: #3B4455;\n",
              "      fill: #D2E3FC;\n",
              "    }\n",
              "\n",
              "    [theme=dark] .colab-df-convert:hover {\n",
              "      background-color: #434B5C;\n",
              "      box-shadow: 0px 1px 3px 1px rgba(0, 0, 0, 0.15);\n",
              "      filter: drop-shadow(0px 1px 2px rgba(0, 0, 0, 0.3));\n",
              "      fill: #FFFFFF;\n",
              "    }\n",
              "  </style>\n",
              "\n",
              "      <script>\n",
              "        const buttonEl =\n",
              "          document.querySelector('#df-7785d67d-cf54-47a0-a4f2-91a7e2e9c1af button.colab-df-convert');\n",
              "        buttonEl.style.display =\n",
              "          google.colab.kernel.accessAllowed ? 'block' : 'none';\n",
              "\n",
              "        async function convertToInteractive(key) {\n",
              "          const element = document.querySelector('#df-7785d67d-cf54-47a0-a4f2-91a7e2e9c1af');\n",
              "          const dataTable =\n",
              "            await google.colab.kernel.invokeFunction('convertToInteractive',\n",
              "                                                     [key], {});\n",
              "          if (!dataTable) return;\n",
              "\n",
              "          const docLinkHtml = 'Like what you see? Visit the ' +\n",
              "            '<a target=\"_blank\" href=https://colab.research.google.com/notebooks/data_table.ipynb>data table notebook</a>'\n",
              "            + ' to learn more about interactive tables.';\n",
              "          element.innerHTML = '';\n",
              "          dataTable['output_type'] = 'display_data';\n",
              "          await google.colab.output.renderOutput(dataTable, element);\n",
              "          const docLink = document.createElement('div');\n",
              "          docLink.innerHTML = docLinkHtml;\n",
              "          element.appendChild(docLink);\n",
              "        }\n",
              "      </script>\n",
              "    </div>\n",
              "  </div>\n",
              "  "
            ],
            "text/plain": [
              "                                                 url region       condition  \\\n",
              "0  https://www.immobilienscout24.de/expose/116051687  Mitte  first_time_use   \n",
              "\n",
              "   rooms    rent  year_construction  space cold_rent utilities heating_costs  \\\n",
              "0    4.0  2659.0               2019  117.2    2.199€     +460€            in   \n",
              "\n",
              "  security_deposit parking_space  renovated_date property_condition  \\\n",
              "0              3.0          120€             NaN                New   \n",
              "\n",
              "  furnishing        heating_type energy_sources energy_certificate  \\\n",
              "0        NaN  Underfloor Heating            NaN                NaN   \n",
              "\n",
              "  type_of_certificate energy_requirement efficiency_class  deposit_cleaned  \n",
              "0      Bedarfsausweis                NaN                B           7977.0  "
            ]
          },
          "execution_count": 55,
          "metadata": {},
          "output_type": "execute_result"
        }
      ],
      "source": [
        "df.loc[:0]"
      ]
    },
    {
      "cell_type": "markdown",
      "metadata": {
        "id": "fUoDxbKabI_Z"
      },
      "source": [
        "#### Check Distribution and Descriptive Stats"
      ]
    },
    {
      "cell_type": "code",
      "execution_count": null,
      "metadata": {
        "colab": {
          "base_uri": "https://localhost:8080/"
        },
        "id": "DrJAVp1GJI0W",
        "outputId": "c6812ca6-d934-4f29-d0ce-1ab39b8d9ea0"
      },
      "outputs": [
        {
          "data": {
            "text/plain": [
              "0       True\n",
              "1      False\n",
              "2      False\n",
              "3      False\n",
              "4      False\n",
              "       ...  \n",
              "759    False\n",
              "760    False\n",
              "761    False\n",
              "762    False\n",
              "763    False\n",
              "Name: region, Length: 764, dtype: bool"
            ]
          },
          "execution_count": 56,
          "metadata": {},
          "output_type": "execute_result"
        }
      ],
      "source": [
        "df['region'] == 'Mitte'"
      ]
    },
    {
      "cell_type": "code",
      "execution_count": null,
      "metadata": {
        "colab": {
          "base_uri": "https://localhost:8080/",
          "height": 542
        },
        "id": "iCLbFwzjRFkf",
        "outputId": "d93c7efe-2311-4d8c-9d24-a723ee025163"
      },
      "outputs": [
        {
          "data": {
            "text/html": [
              "<html>\n",
              "<head><meta charset=\"utf-8\" /></head>\n",
              "<body>\n",
              "    <div>            <script src=\"https://cdnjs.cloudflare.com/ajax/libs/mathjax/2.7.5/MathJax.js?config=TeX-AMS-MML_SVG\"></script><script type=\"text/javascript\">if (window.MathJax && window.MathJax.Hub && window.MathJax.Hub.Config) {window.MathJax.Hub.Config({SVG: {font: \"STIX-Web\"}});}</script>                <script type=\"text/javascript\">window.PlotlyConfig = {MathJaxConfig: 'local'};</script>\n",
              "        <script src=\"https://cdn.plot.ly/plotly-2.18.2.min.js\"></script>                <div id=\"35681dd1-e0ec-4510-b079-a945bad28cd2\" class=\"plotly-graph-div\" style=\"height:525px; width:100%;\"></div>            <script type=\"text/javascript\">                                    window.PLOTLYENV=window.PLOTLYENV || {};                                    if (document.getElementById(\"35681dd1-e0ec-4510-b079-a945bad28cd2\")) {                    Plotly.newPlot(                        \"35681dd1-e0ec-4510-b079-a945bad28cd2\",                        [{\"alignmentgroup\":\"True\",\"bingroup\":\"x\",\"hovertemplate\":\"deposit_cleaned=%{x}<br>count=%{y}<extra></extra>\",\"legendgroup\":\"\",\"marker\":{\"color\":\"#636efa\",\"pattern\":{\"shape\":\"\"}},\"name\":\"\",\"offsetgroup\":\"\",\"orientation\":\"v\",\"showlegend\":false,\"x\":[7977.0,null,null,7500.0,4516.799999999999,5397.0,null,null,null,null,9150.0,4545.0,14850.0,4197.0,null,3000.0,null,null,5000.0,1690.0,1790.0,null,2990.0,1490.0,null,6900.0,null,null,4350.0,null,4000.0,4500.0,3900.0,3780.0,3720.0,6750.0,4800.0,6597.0,4691.25,3630.0,null,null,3831.0,null,2960.0,4680.0,4396.86,3500.0,5691.6,null,3859.17,null,null,5961.12,null,null,12000.0,6300.0,4197.0,4845.0,null,null,null,7476.150000000001,6966.0599999999995,4950.0,null,null,9025.5,17324.489999999998,null,4479.0,4170.0,null,6180.0,null,null,5910.0,6330.0,null,null,3597.0,3584.82,3750.0,5097.0,6150.0,null,10500.0,null,null,6675.0,null,null,null,null,4698.0,4341.0,null,6510.0,null,4069.32,4197.0,4366.83,7650.0,null,null,3133.0,13350.0,4557.0,null,5349.24,3750.18,17809.199999999997,17809.199999999997,14242.800000000001,14242.800000000001,14242.800000000001,null,null,14034.900000000001,4464.75,5444.549999999999,null,5269.08,13200.0,6864.18,7068.599999999999,15300.0,7464.780000000001,null,8947.23,8160.0,3630.0,null,null,4684.950000000001,null,null,2500.0,null,null,null,null,null,null,1965.0,6900.0,null,null,null,null,null,null],\"xaxis\":\"x\",\"yaxis\":\"y\",\"type\":\"histogram\"},{\"alignmentgroup\":\"True\",\"hovertemplate\":\"deposit_cleaned=%{x}<extra></extra>\",\"legendgroup\":\"\",\"marker\":{\"color\":\"#636efa\"},\"name\":\"\",\"notched\":true,\"offsetgroup\":\"\",\"showlegend\":false,\"x\":[7977.0,null,null,7500.0,4516.799999999999,5397.0,null,null,null,null,9150.0,4545.0,14850.0,4197.0,null,3000.0,null,null,5000.0,1690.0,1790.0,null,2990.0,1490.0,null,6900.0,null,null,4350.0,null,4000.0,4500.0,3900.0,3780.0,3720.0,6750.0,4800.0,6597.0,4691.25,3630.0,null,null,3831.0,null,2960.0,4680.0,4396.86,3500.0,5691.6,null,3859.17,null,null,5961.12,null,null,12000.0,6300.0,4197.0,4845.0,null,null,null,7476.150000000001,6966.0599999999995,4950.0,null,null,9025.5,17324.489999999998,null,4479.0,4170.0,null,6180.0,null,null,5910.0,6330.0,null,null,3597.0,3584.82,3750.0,5097.0,6150.0,null,10500.0,null,null,6675.0,null,null,null,null,4698.0,4341.0,null,6510.0,null,4069.32,4197.0,4366.83,7650.0,null,null,3133.0,13350.0,4557.0,null,5349.24,3750.18,17809.199999999997,17809.199999999997,14242.800000000001,14242.800000000001,14242.800000000001,null,null,14034.900000000001,4464.75,5444.549999999999,null,5269.08,13200.0,6864.18,7068.599999999999,15300.0,7464.780000000001,null,8947.23,8160.0,3630.0,null,null,4684.950000000001,null,null,2500.0,null,null,null,null,null,null,1965.0,6900.0,null,null,null,null,null,null],\"xaxis\":\"x2\",\"yaxis\":\"y2\",\"type\":\"box\"}],                        {\"template\":{\"data\":{\"histogram2dcontour\":[{\"type\":\"histogram2dcontour\",\"colorbar\":{\"outlinewidth\":0,\"ticks\":\"\"},\"colorscale\":[[0.0,\"#0d0887\"],[0.1111111111111111,\"#46039f\"],[0.2222222222222222,\"#7201a8\"],[0.3333333333333333,\"#9c179e\"],[0.4444444444444444,\"#bd3786\"],[0.5555555555555556,\"#d8576b\"],[0.6666666666666666,\"#ed7953\"],[0.7777777777777778,\"#fb9f3a\"],[0.8888888888888888,\"#fdca26\"],[1.0,\"#f0f921\"]]}],\"choropleth\":[{\"type\":\"choropleth\",\"colorbar\":{\"outlinewidth\":0,\"ticks\":\"\"}}],\"histogram2d\":[{\"type\":\"histogram2d\",\"colorbar\":{\"outlinewidth\":0,\"ticks\":\"\"},\"colorscale\":[[0.0,\"#0d0887\"],[0.1111111111111111,\"#46039f\"],[0.2222222222222222,\"#7201a8\"],[0.3333333333333333,\"#9c179e\"],[0.4444444444444444,\"#bd3786\"],[0.5555555555555556,\"#d8576b\"],[0.6666666666666666,\"#ed7953\"],[0.7777777777777778,\"#fb9f3a\"],[0.8888888888888888,\"#fdca26\"],[1.0,\"#f0f921\"]]}],\"heatmap\":[{\"type\":\"heatmap\",\"colorbar\":{\"outlinewidth\":0,\"ticks\":\"\"},\"colorscale\":[[0.0,\"#0d0887\"],[0.1111111111111111,\"#46039f\"],[0.2222222222222222,\"#7201a8\"],[0.3333333333333333,\"#9c179e\"],[0.4444444444444444,\"#bd3786\"],[0.5555555555555556,\"#d8576b\"],[0.6666666666666666,\"#ed7953\"],[0.7777777777777778,\"#fb9f3a\"],[0.8888888888888888,\"#fdca26\"],[1.0,\"#f0f921\"]]}],\"heatmapgl\":[{\"type\":\"heatmapgl\",\"colorbar\":{\"outlinewidth\":0,\"ticks\":\"\"},\"colorscale\":[[0.0,\"#0d0887\"],[0.1111111111111111,\"#46039f\"],[0.2222222222222222,\"#7201a8\"],[0.3333333333333333,\"#9c179e\"],[0.4444444444444444,\"#bd3786\"],[0.5555555555555556,\"#d8576b\"],[0.6666666666666666,\"#ed7953\"],[0.7777777777777778,\"#fb9f3a\"],[0.8888888888888888,\"#fdca26\"],[1.0,\"#f0f921\"]]}],\"contourcarpet\":[{\"type\":\"contourcarpet\",\"colorbar\":{\"outlinewidth\":0,\"ticks\":\"\"}}],\"contour\":[{\"type\":\"contour\",\"colorbar\":{\"outlinewidth\":0,\"ticks\":\"\"},\"colorscale\":[[0.0,\"#0d0887\"],[0.1111111111111111,\"#46039f\"],[0.2222222222222222,\"#7201a8\"],[0.3333333333333333,\"#9c179e\"],[0.4444444444444444,\"#bd3786\"],[0.5555555555555556,\"#d8576b\"],[0.6666666666666666,\"#ed7953\"],[0.7777777777777778,\"#fb9f3a\"],[0.8888888888888888,\"#fdca26\"],[1.0,\"#f0f921\"]]}],\"surface\":[{\"type\":\"surface\",\"colorbar\":{\"outlinewidth\":0,\"ticks\":\"\"},\"colorscale\":[[0.0,\"#0d0887\"],[0.1111111111111111,\"#46039f\"],[0.2222222222222222,\"#7201a8\"],[0.3333333333333333,\"#9c179e\"],[0.4444444444444444,\"#bd3786\"],[0.5555555555555556,\"#d8576b\"],[0.6666666666666666,\"#ed7953\"],[0.7777777777777778,\"#fb9f3a\"],[0.8888888888888888,\"#fdca26\"],[1.0,\"#f0f921\"]]}],\"mesh3d\":[{\"type\":\"mesh3d\",\"colorbar\":{\"outlinewidth\":0,\"ticks\":\"\"}}],\"scatter\":[{\"fillpattern\":{\"fillmode\":\"overlay\",\"size\":10,\"solidity\":0.2},\"type\":\"scatter\"}],\"parcoords\":[{\"type\":\"parcoords\",\"line\":{\"colorbar\":{\"outlinewidth\":0,\"ticks\":\"\"}}}],\"scatterpolargl\":[{\"type\":\"scatterpolargl\",\"marker\":{\"colorbar\":{\"outlinewidth\":0,\"ticks\":\"\"}}}],\"bar\":[{\"error_x\":{\"color\":\"#2a3f5f\"},\"error_y\":{\"color\":\"#2a3f5f\"},\"marker\":{\"line\":{\"color\":\"#E5ECF6\",\"width\":0.5},\"pattern\":{\"fillmode\":\"overlay\",\"size\":10,\"solidity\":0.2}},\"type\":\"bar\"}],\"scattergeo\":[{\"type\":\"scattergeo\",\"marker\":{\"colorbar\":{\"outlinewidth\":0,\"ticks\":\"\"}}}],\"scatterpolar\":[{\"type\":\"scatterpolar\",\"marker\":{\"colorbar\":{\"outlinewidth\":0,\"ticks\":\"\"}}}],\"histogram\":[{\"marker\":{\"pattern\":{\"fillmode\":\"overlay\",\"size\":10,\"solidity\":0.2}},\"type\":\"histogram\"}],\"scattergl\":[{\"type\":\"scattergl\",\"marker\":{\"colorbar\":{\"outlinewidth\":0,\"ticks\":\"\"}}}],\"scatter3d\":[{\"type\":\"scatter3d\",\"line\":{\"colorbar\":{\"outlinewidth\":0,\"ticks\":\"\"}},\"marker\":{\"colorbar\":{\"outlinewidth\":0,\"ticks\":\"\"}}}],\"scattermapbox\":[{\"type\":\"scattermapbox\",\"marker\":{\"colorbar\":{\"outlinewidth\":0,\"ticks\":\"\"}}}],\"scatterternary\":[{\"type\":\"scatterternary\",\"marker\":{\"colorbar\":{\"outlinewidth\":0,\"ticks\":\"\"}}}],\"scattercarpet\":[{\"type\":\"scattercarpet\",\"marker\":{\"colorbar\":{\"outlinewidth\":0,\"ticks\":\"\"}}}],\"carpet\":[{\"aaxis\":{\"endlinecolor\":\"#2a3f5f\",\"gridcolor\":\"white\",\"linecolor\":\"white\",\"minorgridcolor\":\"white\",\"startlinecolor\":\"#2a3f5f\"},\"baxis\":{\"endlinecolor\":\"#2a3f5f\",\"gridcolor\":\"white\",\"linecolor\":\"white\",\"minorgridcolor\":\"white\",\"startlinecolor\":\"#2a3f5f\"},\"type\":\"carpet\"}],\"table\":[{\"cells\":{\"fill\":{\"color\":\"#EBF0F8\"},\"line\":{\"color\":\"white\"}},\"header\":{\"fill\":{\"color\":\"#C8D4E3\"},\"line\":{\"color\":\"white\"}},\"type\":\"table\"}],\"barpolar\":[{\"marker\":{\"line\":{\"color\":\"#E5ECF6\",\"width\":0.5},\"pattern\":{\"fillmode\":\"overlay\",\"size\":10,\"solidity\":0.2}},\"type\":\"barpolar\"}],\"pie\":[{\"automargin\":true,\"type\":\"pie\"}]},\"layout\":{\"autotypenumbers\":\"strict\",\"colorway\":[\"#636efa\",\"#EF553B\",\"#00cc96\",\"#ab63fa\",\"#FFA15A\",\"#19d3f3\",\"#FF6692\",\"#B6E880\",\"#FF97FF\",\"#FECB52\"],\"font\":{\"color\":\"#2a3f5f\"},\"hovermode\":\"closest\",\"hoverlabel\":{\"align\":\"left\"},\"paper_bgcolor\":\"white\",\"plot_bgcolor\":\"#E5ECF6\",\"polar\":{\"bgcolor\":\"#E5ECF6\",\"angularaxis\":{\"gridcolor\":\"white\",\"linecolor\":\"white\",\"ticks\":\"\"},\"radialaxis\":{\"gridcolor\":\"white\",\"linecolor\":\"white\",\"ticks\":\"\"}},\"ternary\":{\"bgcolor\":\"#E5ECF6\",\"aaxis\":{\"gridcolor\":\"white\",\"linecolor\":\"white\",\"ticks\":\"\"},\"baxis\":{\"gridcolor\":\"white\",\"linecolor\":\"white\",\"ticks\":\"\"},\"caxis\":{\"gridcolor\":\"white\",\"linecolor\":\"white\",\"ticks\":\"\"}},\"coloraxis\":{\"colorbar\":{\"outlinewidth\":0,\"ticks\":\"\"}},\"colorscale\":{\"sequential\":[[0.0,\"#0d0887\"],[0.1111111111111111,\"#46039f\"],[0.2222222222222222,\"#7201a8\"],[0.3333333333333333,\"#9c179e\"],[0.4444444444444444,\"#bd3786\"],[0.5555555555555556,\"#d8576b\"],[0.6666666666666666,\"#ed7953\"],[0.7777777777777778,\"#fb9f3a\"],[0.8888888888888888,\"#fdca26\"],[1.0,\"#f0f921\"]],\"sequentialminus\":[[0.0,\"#0d0887\"],[0.1111111111111111,\"#46039f\"],[0.2222222222222222,\"#7201a8\"],[0.3333333333333333,\"#9c179e\"],[0.4444444444444444,\"#bd3786\"],[0.5555555555555556,\"#d8576b\"],[0.6666666666666666,\"#ed7953\"],[0.7777777777777778,\"#fb9f3a\"],[0.8888888888888888,\"#fdca26\"],[1.0,\"#f0f921\"]],\"diverging\":[[0,\"#8e0152\"],[0.1,\"#c51b7d\"],[0.2,\"#de77ae\"],[0.3,\"#f1b6da\"],[0.4,\"#fde0ef\"],[0.5,\"#f7f7f7\"],[0.6,\"#e6f5d0\"],[0.7,\"#b8e186\"],[0.8,\"#7fbc41\"],[0.9,\"#4d9221\"],[1,\"#276419\"]]},\"xaxis\":{\"gridcolor\":\"white\",\"linecolor\":\"white\",\"ticks\":\"\",\"title\":{\"standoff\":15},\"zerolinecolor\":\"white\",\"automargin\":true,\"zerolinewidth\":2},\"yaxis\":{\"gridcolor\":\"white\",\"linecolor\":\"white\",\"ticks\":\"\",\"title\":{\"standoff\":15},\"zerolinecolor\":\"white\",\"automargin\":true,\"zerolinewidth\":2},\"scene\":{\"xaxis\":{\"backgroundcolor\":\"#E5ECF6\",\"gridcolor\":\"white\",\"linecolor\":\"white\",\"showbackground\":true,\"ticks\":\"\",\"zerolinecolor\":\"white\",\"gridwidth\":2},\"yaxis\":{\"backgroundcolor\":\"#E5ECF6\",\"gridcolor\":\"white\",\"linecolor\":\"white\",\"showbackground\":true,\"ticks\":\"\",\"zerolinecolor\":\"white\",\"gridwidth\":2},\"zaxis\":{\"backgroundcolor\":\"#E5ECF6\",\"gridcolor\":\"white\",\"linecolor\":\"white\",\"showbackground\":true,\"ticks\":\"\",\"zerolinecolor\":\"white\",\"gridwidth\":2}},\"shapedefaults\":{\"line\":{\"color\":\"#2a3f5f\"}},\"annotationdefaults\":{\"arrowcolor\":\"#2a3f5f\",\"arrowhead\":0,\"arrowwidth\":1},\"geo\":{\"bgcolor\":\"white\",\"landcolor\":\"#E5ECF6\",\"subunitcolor\":\"white\",\"showland\":true,\"showlakes\":true,\"lakecolor\":\"white\"},\"title\":{\"x\":0.05},\"mapbox\":{\"style\":\"light\"}}},\"xaxis\":{\"anchor\":\"y\",\"domain\":[0.0,1.0],\"title\":{\"text\":\"deposit_cleaned\"}},\"yaxis\":{\"anchor\":\"x\",\"domain\":[0.0,0.8316],\"title\":{\"text\":\"count\"}},\"xaxis2\":{\"anchor\":\"y2\",\"domain\":[0.0,1.0],\"matches\":\"x\",\"showticklabels\":false,\"showgrid\":true},\"yaxis2\":{\"anchor\":\"x2\",\"domain\":[0.8416,1.0],\"matches\":\"y2\",\"showticklabels\":false,\"showline\":false,\"ticks\":\"\",\"showgrid\":false},\"legend\":{\"tracegroupgap\":0},\"margin\":{\"t\":60},\"barmode\":\"relative\"},                        {\"responsive\": true}                    ).then(function(){\n",
              "                            \n",
              "var gd = document.getElementById('35681dd1-e0ec-4510-b079-a945bad28cd2');\n",
              "var x = new MutationObserver(function (mutations, observer) {{\n",
              "        var display = window.getComputedStyle(gd).display;\n",
              "        if (!display || display === 'none') {{\n",
              "            console.log([gd, 'removed!']);\n",
              "            Plotly.purge(gd);\n",
              "            observer.disconnect();\n",
              "        }}\n",
              "}});\n",
              "\n",
              "// Listen for the removal of the full notebook cells\n",
              "var notebookContainer = gd.closest('#notebook-container');\n",
              "if (notebookContainer) {{\n",
              "    x.observe(notebookContainer, {childList: true});\n",
              "}}\n",
              "\n",
              "// Listen for the clearing of the current output cell\n",
              "var outputEl = gd.closest('.output');\n",
              "if (outputEl) {{\n",
              "    x.observe(outputEl, {childList: true});\n",
              "}}\n",
              "\n",
              "                        })                };                            </script>        </div>\n",
              "</body>\n",
              "</html>"
            ]
          },
          "metadata": {},
          "output_type": "display_data"
        }
      ],
      "source": [
        "px.histogram(df[df['region'] == 'Mitte'], x=\"deposit_cleaned\", marginal='box')"
      ]
    },
    {
      "cell_type": "code",
      "execution_count": null,
      "metadata": {
        "colab": {
          "base_uri": "https://localhost:8080/"
        },
        "id": "GK52nKKhbI_d",
        "outputId": "1b68da81-f9ed-4c09-9d7e-b3b04e2a2dab"
      },
      "outputs": [
        {
          "data": {
            "text/plain": [
              "mean       4670.031169\n",
              "median     3900.000000\n",
              "std        3153.089709\n",
              "min         842.220000\n",
              "max       29322.000000\n",
              "Name: deposit_cleaned, dtype: float64"
            ]
          },
          "execution_count": 58,
          "metadata": {},
          "output_type": "execute_result"
        }
      ],
      "source": [
        "df.deposit_cleaned.agg(['mean', 'median', 'std', 'min', 'max'])"
      ]
    },
    {
      "cell_type": "code",
      "execution_count": null,
      "metadata": {
        "colab": {
          "base_uri": "https://localhost:8080/"
        },
        "id": "6rYhTIOpJpGQ",
        "outputId": "3f636e82-f17b-41f0-97b6-e57fb0b5b910"
      },
      "outputs": [
        {
          "data": {
            "text/plain": [
              "0      False\n",
              "1      False\n",
              "2      False\n",
              "3       True\n",
              "4       True\n",
              "       ...  \n",
              "759     True\n",
              "760     True\n",
              "761     True\n",
              "762     True\n",
              "763     True\n",
              "Name: deposit_cleaned, Length: 764, dtype: bool"
            ]
          },
          "execution_count": 59,
          "metadata": {},
          "output_type": "execute_result"
        }
      ],
      "source": [
        "df['deposit_cleaned'].isna()"
      ]
    },
    {
      "cell_type": "markdown",
      "metadata": {
        "id": "6NLx-OKxbI_f"
      },
      "source": [
        "#### Filling the missing values intuitively\n",
        "\n",
        "(Note: these are old advertisements and no longer available)\n",
        "\n",
        " - https://www.immobilienscout24.de/expose/116573177: has all of it's data mising, *will assume three months*\n",
        " - https://www.immobilienscout24.de/expose/115925878: has only some of its data missing, *will assume scraping error and therefore three months*\n",
        " - https://www.immobilienscout24.de/expose/114437800: has only deposit missing, *will assume there is no deposit*\n",
        " \n",
        "**Because the data is missing for different reasons, we should use different fill strategies**"
      ]
    },
    {
      "cell_type": "code",
      "execution_count": null,
      "metadata": {
        "colab": {
          "base_uri": "https://localhost:8080/",
          "height": 409
        },
        "id": "LnGDgshnGADq",
        "outputId": "a81f2e4d-3963-41d2-a229-2a6e71feaa9c"
      },
      "outputs": [
        {
          "data": {
            "text/html": [
              "\n",
              "  <div id=\"df-0d58d1f9-ca9d-45dc-9b07-dea61bc28c27\">\n",
              "    <div class=\"colab-df-container\">\n",
              "      <div>\n",
              "<style scoped>\n",
              "    .dataframe tbody tr th:only-of-type {\n",
              "        vertical-align: middle;\n",
              "    }\n",
              "\n",
              "    .dataframe tbody tr th {\n",
              "        vertical-align: top;\n",
              "    }\n",
              "\n",
              "    .dataframe thead th {\n",
              "        text-align: right;\n",
              "    }\n",
              "</style>\n",
              "<table border=\"1\" class=\"dataframe\">\n",
              "  <thead>\n",
              "    <tr style=\"text-align: right;\">\n",
              "      <th></th>\n",
              "      <th>url</th>\n",
              "      <th>region</th>\n",
              "      <th>condition</th>\n",
              "      <th>rooms</th>\n",
              "      <th>rent</th>\n",
              "      <th>year_construction</th>\n",
              "      <th>space</th>\n",
              "      <th>cold_rent</th>\n",
              "      <th>utilities</th>\n",
              "      <th>heating_costs</th>\n",
              "      <th>security_deposit</th>\n",
              "      <th>parking_space</th>\n",
              "      <th>renovated_date</th>\n",
              "      <th>property_condition</th>\n",
              "      <th>furnishing</th>\n",
              "      <th>heating_type</th>\n",
              "      <th>energy_sources</th>\n",
              "      <th>energy_certificate</th>\n",
              "      <th>type_of_certificate</th>\n",
              "      <th>energy_requirement</th>\n",
              "      <th>efficiency_class</th>\n",
              "      <th>deposit_cleaned</th>\n",
              "    </tr>\n",
              "  </thead>\n",
              "  <tbody>\n",
              "    <tr>\n",
              "      <th>0</th>\n",
              "      <td>https://www.immobilienscout24.de/expose/116051687</td>\n",
              "      <td>Mitte</td>\n",
              "      <td>first_time_use</td>\n",
              "      <td>4.0</td>\n",
              "      <td>2659.00</td>\n",
              "      <td>2019</td>\n",
              "      <td>117.20</td>\n",
              "      <td>2.199€</td>\n",
              "      <td>+460€</td>\n",
              "      <td>in</td>\n",
              "      <td>3.0</td>\n",
              "      <td>120€</td>\n",
              "      <td>NaN</td>\n",
              "      <td>New</td>\n",
              "      <td>NaN</td>\n",
              "      <td>Underfloor Heating</td>\n",
              "      <td>NaN</td>\n",
              "      <td>NaN</td>\n",
              "      <td>Bedarfsausweis</td>\n",
              "      <td>NaN</td>\n",
              "      <td>B</td>\n",
              "      <td>7977.00</td>\n",
              "    </tr>\n",
              "    <tr>\n",
              "      <th>1</th>\n",
              "      <td>https://www.immobilienscout24.de/expose/115338103</td>\n",
              "      <td>Kreuzberg</td>\n",
              "      <td>first_time_use</td>\n",
              "      <td>1.0</td>\n",
              "      <td>1200.00</td>\n",
              "      <td>2020</td>\n",
              "      <td>29.33</td>\n",
              "      <td>973,51€</td>\n",
              "      <td>+226,49€</td>\n",
              "      <td>in</td>\n",
              "      <td>2920.53</td>\n",
              "      <td>NaN</td>\n",
              "      <td>NaN</td>\n",
              "      <td>New</td>\n",
              "      <td>Gehobene Qualität</td>\n",
              "      <td>Central Heating</td>\n",
              "      <td>Fernwärme Energieausweis liegt vor</td>\n",
              "      <td>liegt vor</td>\n",
              "      <td>NaN</td>\n",
              "      <td>NaN</td>\n",
              "      <td>NaN</td>\n",
              "      <td>2920.53</td>\n",
              "    </tr>\n",
              "    <tr>\n",
              "      <th>2</th>\n",
              "      <td>https://www.immobilienscout24.de/expose/116458710</td>\n",
              "      <td>Köpenick</td>\n",
              "      <td>well_kept</td>\n",
              "      <td>2.0</td>\n",
              "      <td>979.00</td>\n",
              "      <td>1997</td>\n",
              "      <td>83.61</td>\n",
              "      <td>799€</td>\n",
              "      <td>+90€</td>\n",
              "      <td>+90€</td>\n",
              "      <td>3</td>\n",
              "      <td>NaN</td>\n",
              "      <td>NaN</td>\n",
              "      <td>Groomed</td>\n",
              "      <td>Normale Qualität</td>\n",
              "      <td>Central Heating</td>\n",
              "      <td>Fernwärme Energieausweis liegt vor</td>\n",
              "      <td>liegt vor</td>\n",
              "      <td>Verbrauchsausweis Energie­ver­brauchs­kennwert...</td>\n",
              "      <td>NaN</td>\n",
              "      <td>NaN</td>\n",
              "      <td>2937.00</td>\n",
              "    </tr>\n",
              "    <tr>\n",
              "      <th>3</th>\n",
              "      <td>https://www.immobilienscout24.de/expose/116573177</td>\n",
              "      <td>Wilmersdorf</td>\n",
              "      <td>well_kept</td>\n",
              "      <td>4.0</td>\n",
              "      <td>1830.22</td>\n",
              "      <td>1900</td>\n",
              "      <td>171.18</td>\n",
              "      <td>NaN</td>\n",
              "      <td>NaN</td>\n",
              "      <td>NaN</td>\n",
              "      <td>NaN</td>\n",
              "      <td>NaN</td>\n",
              "      <td>NaN</td>\n",
              "      <td>NaN</td>\n",
              "      <td>NaN</td>\n",
              "      <td>NaN</td>\n",
              "      <td>NaN</td>\n",
              "      <td>NaN</td>\n",
              "      <td>NaN</td>\n",
              "      <td>NaN</td>\n",
              "      <td>NaN</td>\n",
              "      <td>NaN</td>\n",
              "    </tr>\n",
              "    <tr>\n",
              "      <th>4</th>\n",
              "      <td>https://www.immobilienscout24.de/expose/115925878</td>\n",
              "      <td>Kreuzberg</td>\n",
              "      <td>first_time_use</td>\n",
              "      <td>2.0</td>\n",
              "      <td>2272.00</td>\n",
              "      <td>2020</td>\n",
              "      <td>88.27</td>\n",
              "      <td>NaN</td>\n",
              "      <td>NaN</td>\n",
              "      <td>NaN</td>\n",
              "      <td>NaN</td>\n",
              "      <td>NaN</td>\n",
              "      <td>NaN</td>\n",
              "      <td>New</td>\n",
              "      <td>Gehobene Qualität</td>\n",
              "      <td>Central Heating</td>\n",
              "      <td>Fernwärme Energieausweis liegt zur Besichtigun...</td>\n",
              "      <td>liegt zur Besichtigung vor</td>\n",
              "      <td>NaN</td>\n",
              "      <td>NaN</td>\n",
              "      <td>NaN</td>\n",
              "      <td>NaN</td>\n",
              "    </tr>\n",
              "  </tbody>\n",
              "</table>\n",
              "</div>\n",
              "      <button class=\"colab-df-convert\" onclick=\"convertToInteractive('df-0d58d1f9-ca9d-45dc-9b07-dea61bc28c27')\"\n",
              "              title=\"Convert this dataframe to an interactive table.\"\n",
              "              style=\"display:none;\">\n",
              "        \n",
              "  <svg xmlns=\"http://www.w3.org/2000/svg\" height=\"24px\"viewBox=\"0 0 24 24\"\n",
              "       width=\"24px\">\n",
              "    <path d=\"M0 0h24v24H0V0z\" fill=\"none\"/>\n",
              "    <path d=\"M18.56 5.44l.94 2.06.94-2.06 2.06-.94-2.06-.94-.94-2.06-.94 2.06-2.06.94zm-11 1L8.5 8.5l.94-2.06 2.06-.94-2.06-.94L8.5 2.5l-.94 2.06-2.06.94zm10 10l.94 2.06.94-2.06 2.06-.94-2.06-.94-.94-2.06-.94 2.06-2.06.94z\"/><path d=\"M17.41 7.96l-1.37-1.37c-.4-.4-.92-.59-1.43-.59-.52 0-1.04.2-1.43.59L10.3 9.45l-7.72 7.72c-.78.78-.78 2.05 0 2.83L4 21.41c.39.39.9.59 1.41.59.51 0 1.02-.2 1.41-.59l7.78-7.78 2.81-2.81c.8-.78.8-2.07 0-2.86zM5.41 20L4 18.59l7.72-7.72 1.47 1.35L5.41 20z\"/>\n",
              "  </svg>\n",
              "      </button>\n",
              "      \n",
              "  <style>\n",
              "    .colab-df-container {\n",
              "      display:flex;\n",
              "      flex-wrap:wrap;\n",
              "      gap: 12px;\n",
              "    }\n",
              "\n",
              "    .colab-df-convert {\n",
              "      background-color: #E8F0FE;\n",
              "      border: none;\n",
              "      border-radius: 50%;\n",
              "      cursor: pointer;\n",
              "      display: none;\n",
              "      fill: #1967D2;\n",
              "      height: 32px;\n",
              "      padding: 0 0 0 0;\n",
              "      width: 32px;\n",
              "    }\n",
              "\n",
              "    .colab-df-convert:hover {\n",
              "      background-color: #E2EBFA;\n",
              "      box-shadow: 0px 1px 2px rgba(60, 64, 67, 0.3), 0px 1px 3px 1px rgba(60, 64, 67, 0.15);\n",
              "      fill: #174EA6;\n",
              "    }\n",
              "\n",
              "    [theme=dark] .colab-df-convert {\n",
              "      background-color: #3B4455;\n",
              "      fill: #D2E3FC;\n",
              "    }\n",
              "\n",
              "    [theme=dark] .colab-df-convert:hover {\n",
              "      background-color: #434B5C;\n",
              "      box-shadow: 0px 1px 3px 1px rgba(0, 0, 0, 0.15);\n",
              "      filter: drop-shadow(0px 1px 2px rgba(0, 0, 0, 0.3));\n",
              "      fill: #FFFFFF;\n",
              "    }\n",
              "  </style>\n",
              "\n",
              "      <script>\n",
              "        const buttonEl =\n",
              "          document.querySelector('#df-0d58d1f9-ca9d-45dc-9b07-dea61bc28c27 button.colab-df-convert');\n",
              "        buttonEl.style.display =\n",
              "          google.colab.kernel.accessAllowed ? 'block' : 'none';\n",
              "\n",
              "        async function convertToInteractive(key) {\n",
              "          const element = document.querySelector('#df-0d58d1f9-ca9d-45dc-9b07-dea61bc28c27');\n",
              "          const dataTable =\n",
              "            await google.colab.kernel.invokeFunction('convertToInteractive',\n",
              "                                                     [key], {});\n",
              "          if (!dataTable) return;\n",
              "\n",
              "          const docLinkHtml = 'Like what you see? Visit the ' +\n",
              "            '<a target=\"_blank\" href=https://colab.research.google.com/notebooks/data_table.ipynb>data table notebook</a>'\n",
              "            + ' to learn more about interactive tables.';\n",
              "          element.innerHTML = '';\n",
              "          dataTable['output_type'] = 'display_data';\n",
              "          await google.colab.output.renderOutput(dataTable, element);\n",
              "          const docLink = document.createElement('div');\n",
              "          docLink.innerHTML = docLinkHtml;\n",
              "          element.appendChild(docLink);\n",
              "        }\n",
              "      </script>\n",
              "    </div>\n",
              "  </div>\n",
              "  "
            ],
            "text/plain": [
              "                                                 url       region  \\\n",
              "0  https://www.immobilienscout24.de/expose/116051687        Mitte   \n",
              "1  https://www.immobilienscout24.de/expose/115338103    Kreuzberg   \n",
              "2  https://www.immobilienscout24.de/expose/116458710     Köpenick   \n",
              "3  https://www.immobilienscout24.de/expose/116573177  Wilmersdorf   \n",
              "4  https://www.immobilienscout24.de/expose/115925878    Kreuzberg   \n",
              "\n",
              "        condition  rooms     rent  year_construction   space cold_rent  \\\n",
              "0  first_time_use    4.0  2659.00               2019  117.20    2.199€   \n",
              "1  first_time_use    1.0  1200.00               2020   29.33   973,51€   \n",
              "2       well_kept    2.0   979.00               1997   83.61      799€   \n",
              "3       well_kept    4.0  1830.22               1900  171.18       NaN   \n",
              "4  first_time_use    2.0  2272.00               2020   88.27       NaN   \n",
              "\n",
              "  utilities heating_costs security_deposit parking_space  renovated_date  \\\n",
              "0     +460€            in              3.0          120€             NaN   \n",
              "1  +226,49€            in          2920.53           NaN             NaN   \n",
              "2      +90€          +90€                3           NaN             NaN   \n",
              "3       NaN           NaN              NaN           NaN             NaN   \n",
              "4       NaN           NaN              NaN           NaN             NaN   \n",
              "\n",
              "  property_condition         furnishing        heating_type  \\\n",
              "0                New                NaN  Underfloor Heating   \n",
              "1                New  Gehobene Qualität     Central Heating   \n",
              "2            Groomed   Normale Qualität     Central Heating   \n",
              "3                NaN                NaN                 NaN   \n",
              "4                New  Gehobene Qualität     Central Heating   \n",
              "\n",
              "                                      energy_sources  \\\n",
              "0                                                NaN   \n",
              "1                 Fernwärme Energieausweis liegt vor   \n",
              "2                 Fernwärme Energieausweis liegt vor   \n",
              "3                                                NaN   \n",
              "4  Fernwärme Energieausweis liegt zur Besichtigun...   \n",
              "\n",
              "           energy_certificate  \\\n",
              "0                         NaN   \n",
              "1                   liegt vor   \n",
              "2                   liegt vor   \n",
              "3                         NaN   \n",
              "4  liegt zur Besichtigung vor   \n",
              "\n",
              "                                 type_of_certificate energy_requirement  \\\n",
              "0                                     Bedarfsausweis                NaN   \n",
              "1                                                NaN                NaN   \n",
              "2  Verbrauchsausweis Energie­ver­brauchs­kennwert...                NaN   \n",
              "3                                                NaN                NaN   \n",
              "4                                                NaN                NaN   \n",
              "\n",
              "  efficiency_class  deposit_cleaned  \n",
              "0                B          7977.00  \n",
              "1              NaN          2920.53  \n",
              "2              NaN          2937.00  \n",
              "3              NaN              NaN  \n",
              "4              NaN              NaN  "
            ]
          },
          "execution_count": 60,
          "metadata": {},
          "output_type": "execute_result"
        }
      ],
      "source": [
        "df.head()"
      ]
    },
    {
      "cell_type": "code",
      "execution_count": null,
      "metadata": {
        "colab": {
          "base_uri": "https://localhost:8080/",
          "height": 391
        },
        "id": "PWTfOO-kbI_f",
        "outputId": "9502240b-98fc-4079-aa65-547e61eb7542"
      },
      "outputs": [
        {
          "data": {
            "text/html": [
              "\n",
              "  <div id=\"df-b925770b-b4b0-4c83-ab66-8e9dc8c21d17\">\n",
              "    <div class=\"colab-df-container\">\n",
              "      <div>\n",
              "<style scoped>\n",
              "    .dataframe tbody tr th:only-of-type {\n",
              "        vertical-align: middle;\n",
              "    }\n",
              "\n",
              "    .dataframe tbody tr th {\n",
              "        vertical-align: top;\n",
              "    }\n",
              "\n",
              "    .dataframe thead th {\n",
              "        text-align: right;\n",
              "    }\n",
              "</style>\n",
              "<table border=\"1\" class=\"dataframe\">\n",
              "  <thead>\n",
              "    <tr style=\"text-align: right;\">\n",
              "      <th></th>\n",
              "      <th>url</th>\n",
              "      <th>region</th>\n",
              "      <th>condition</th>\n",
              "      <th>rooms</th>\n",
              "      <th>rent</th>\n",
              "      <th>year_construction</th>\n",
              "      <th>space</th>\n",
              "      <th>cold_rent</th>\n",
              "      <th>utilities</th>\n",
              "      <th>heating_costs</th>\n",
              "      <th>security_deposit</th>\n",
              "      <th>parking_space</th>\n",
              "      <th>renovated_date</th>\n",
              "      <th>property_condition</th>\n",
              "      <th>furnishing</th>\n",
              "      <th>heating_type</th>\n",
              "      <th>energy_sources</th>\n",
              "      <th>energy_certificate</th>\n",
              "      <th>type_of_certificate</th>\n",
              "      <th>energy_requirement</th>\n",
              "      <th>efficiency_class</th>\n",
              "      <th>deposit_cleaned</th>\n",
              "    </tr>\n",
              "  </thead>\n",
              "  <tbody>\n",
              "    <tr>\n",
              "      <th>3</th>\n",
              "      <td>https://www.immobilienscout24.de/expose/116573177</td>\n",
              "      <td>Wilmersdorf</td>\n",
              "      <td>well_kept</td>\n",
              "      <td>4.0</td>\n",
              "      <td>1830.22</td>\n",
              "      <td>1900</td>\n",
              "      <td>171.18</td>\n",
              "      <td>NaN</td>\n",
              "      <td>NaN</td>\n",
              "      <td>NaN</td>\n",
              "      <td>NaN</td>\n",
              "      <td>NaN</td>\n",
              "      <td>NaN</td>\n",
              "      <td>NaN</td>\n",
              "      <td>NaN</td>\n",
              "      <td>NaN</td>\n",
              "      <td>NaN</td>\n",
              "      <td>NaN</td>\n",
              "      <td>NaN</td>\n",
              "      <td>NaN</td>\n",
              "      <td>NaN</td>\n",
              "      <td>NaN</td>\n",
              "    </tr>\n",
              "    <tr>\n",
              "      <th>4</th>\n",
              "      <td>https://www.immobilienscout24.de/expose/115925878</td>\n",
              "      <td>Kreuzberg</td>\n",
              "      <td>first_time_use</td>\n",
              "      <td>2.0</td>\n",
              "      <td>2272.00</td>\n",
              "      <td>2020</td>\n",
              "      <td>88.27</td>\n",
              "      <td>NaN</td>\n",
              "      <td>NaN</td>\n",
              "      <td>NaN</td>\n",
              "      <td>NaN</td>\n",
              "      <td>NaN</td>\n",
              "      <td>NaN</td>\n",
              "      <td>New</td>\n",
              "      <td>Gehobene Qualität</td>\n",
              "      <td>Central Heating</td>\n",
              "      <td>Fernwärme Energieausweis liegt zur Besichtigun...</td>\n",
              "      <td>liegt zur Besichtigung vor</td>\n",
              "      <td>NaN</td>\n",
              "      <td>NaN</td>\n",
              "      <td>NaN</td>\n",
              "      <td>NaN</td>\n",
              "    </tr>\n",
              "    <tr>\n",
              "      <th>6</th>\n",
              "      <td>https://www.immobilienscout24.de/expose/108376992</td>\n",
              "      <td>Mitte</td>\n",
              "      <td>mint_condition</td>\n",
              "      <td>2.0</td>\n",
              "      <td>1509.45</td>\n",
              "      <td>2015</td>\n",
              "      <td>61.61</td>\n",
              "      <td>NaN</td>\n",
              "      <td>NaN</td>\n",
              "      <td>NaN</td>\n",
              "      <td>NaN</td>\n",
              "      <td>NaN</td>\n",
              "      <td>NaN</td>\n",
              "      <td>NaN</td>\n",
              "      <td>NaN</td>\n",
              "      <td>NaN</td>\n",
              "      <td>NaN</td>\n",
              "      <td>NaN</td>\n",
              "      <td>NaN</td>\n",
              "      <td>NaN</td>\n",
              "      <td>NaN</td>\n",
              "      <td>NaN</td>\n",
              "    </tr>\n",
              "    <tr>\n",
              "      <th>10</th>\n",
              "      <td>https://www.immobilienscout24.de/expose/114437800</td>\n",
              "      <td>Mitte</td>\n",
              "      <td>first_time_use</td>\n",
              "      <td>4.0</td>\n",
              "      <td>2499.00</td>\n",
              "      <td>2019</td>\n",
              "      <td>125.20</td>\n",
              "      <td>1.999€</td>\n",
              "      <td>+500€</td>\n",
              "      <td>in</td>\n",
              "      <td>NaN</td>\n",
              "      <td>120€</td>\n",
              "      <td>NaN</td>\n",
              "      <td>New</td>\n",
              "      <td>NaN</td>\n",
              "      <td>Underfloor Heating</td>\n",
              "      <td>Fernwärme</td>\n",
              "      <td>NaN</td>\n",
              "      <td>Bedarfsausweis</td>\n",
              "      <td>NaN</td>\n",
              "      <td>B</td>\n",
              "      <td>NaN</td>\n",
              "    </tr>\n",
              "    <tr>\n",
              "      <th>11</th>\n",
              "      <td>https://www.immobilienscout24.de/expose/116205341</td>\n",
              "      <td>Kreuzberg</td>\n",
              "      <td>first_time_use</td>\n",
              "      <td>2.0</td>\n",
              "      <td>2328.00</td>\n",
              "      <td>2020</td>\n",
              "      <td>90.36</td>\n",
              "      <td>NaN</td>\n",
              "      <td>NaN</td>\n",
              "      <td>NaN</td>\n",
              "      <td>NaN</td>\n",
              "      <td>NaN</td>\n",
              "      <td>NaN</td>\n",
              "      <td>New</td>\n",
              "      <td>Gehobene Qualität</td>\n",
              "      <td>Central Heating</td>\n",
              "      <td>Fernwärme Energieausweis liegt zur Besichtigun...</td>\n",
              "      <td>liegt zur Besichtigung vor</td>\n",
              "      <td>NaN</td>\n",
              "      <td>NaN</td>\n",
              "      <td>NaN</td>\n",
              "      <td>NaN</td>\n",
              "    </tr>\n",
              "  </tbody>\n",
              "</table>\n",
              "</div>\n",
              "      <button class=\"colab-df-convert\" onclick=\"convertToInteractive('df-b925770b-b4b0-4c83-ab66-8e9dc8c21d17')\"\n",
              "              title=\"Convert this dataframe to an interactive table.\"\n",
              "              style=\"display:none;\">\n",
              "        \n",
              "  <svg xmlns=\"http://www.w3.org/2000/svg\" height=\"24px\"viewBox=\"0 0 24 24\"\n",
              "       width=\"24px\">\n",
              "    <path d=\"M0 0h24v24H0V0z\" fill=\"none\"/>\n",
              "    <path d=\"M18.56 5.44l.94 2.06.94-2.06 2.06-.94-2.06-.94-.94-2.06-.94 2.06-2.06.94zm-11 1L8.5 8.5l.94-2.06 2.06-.94-2.06-.94L8.5 2.5l-.94 2.06-2.06.94zm10 10l.94 2.06.94-2.06 2.06-.94-2.06-.94-.94-2.06-.94 2.06-2.06.94z\"/><path d=\"M17.41 7.96l-1.37-1.37c-.4-.4-.92-.59-1.43-.59-.52 0-1.04.2-1.43.59L10.3 9.45l-7.72 7.72c-.78.78-.78 2.05 0 2.83L4 21.41c.39.39.9.59 1.41.59.51 0 1.02-.2 1.41-.59l7.78-7.78 2.81-2.81c.8-.78.8-2.07 0-2.86zM5.41 20L4 18.59l7.72-7.72 1.47 1.35L5.41 20z\"/>\n",
              "  </svg>\n",
              "      </button>\n",
              "      \n",
              "  <style>\n",
              "    .colab-df-container {\n",
              "      display:flex;\n",
              "      flex-wrap:wrap;\n",
              "      gap: 12px;\n",
              "    }\n",
              "\n",
              "    .colab-df-convert {\n",
              "      background-color: #E8F0FE;\n",
              "      border: none;\n",
              "      border-radius: 50%;\n",
              "      cursor: pointer;\n",
              "      display: none;\n",
              "      fill: #1967D2;\n",
              "      height: 32px;\n",
              "      padding: 0 0 0 0;\n",
              "      width: 32px;\n",
              "    }\n",
              "\n",
              "    .colab-df-convert:hover {\n",
              "      background-color: #E2EBFA;\n",
              "      box-shadow: 0px 1px 2px rgba(60, 64, 67, 0.3), 0px 1px 3px 1px rgba(60, 64, 67, 0.15);\n",
              "      fill: #174EA6;\n",
              "    }\n",
              "\n",
              "    [theme=dark] .colab-df-convert {\n",
              "      background-color: #3B4455;\n",
              "      fill: #D2E3FC;\n",
              "    }\n",
              "\n",
              "    [theme=dark] .colab-df-convert:hover {\n",
              "      background-color: #434B5C;\n",
              "      box-shadow: 0px 1px 3px 1px rgba(0, 0, 0, 0.15);\n",
              "      filter: drop-shadow(0px 1px 2px rgba(0, 0, 0, 0.3));\n",
              "      fill: #FFFFFF;\n",
              "    }\n",
              "  </style>\n",
              "\n",
              "      <script>\n",
              "        const buttonEl =\n",
              "          document.querySelector('#df-b925770b-b4b0-4c83-ab66-8e9dc8c21d17 button.colab-df-convert');\n",
              "        buttonEl.style.display =\n",
              "          google.colab.kernel.accessAllowed ? 'block' : 'none';\n",
              "\n",
              "        async function convertToInteractive(key) {\n",
              "          const element = document.querySelector('#df-b925770b-b4b0-4c83-ab66-8e9dc8c21d17');\n",
              "          const dataTable =\n",
              "            await google.colab.kernel.invokeFunction('convertToInteractive',\n",
              "                                                     [key], {});\n",
              "          if (!dataTable) return;\n",
              "\n",
              "          const docLinkHtml = 'Like what you see? Visit the ' +\n",
              "            '<a target=\"_blank\" href=https://colab.research.google.com/notebooks/data_table.ipynb>data table notebook</a>'\n",
              "            + ' to learn more about interactive tables.';\n",
              "          element.innerHTML = '';\n",
              "          dataTable['output_type'] = 'display_data';\n",
              "          await google.colab.output.renderOutput(dataTable, element);\n",
              "          const docLink = document.createElement('div');\n",
              "          docLink.innerHTML = docLinkHtml;\n",
              "          element.appendChild(docLink);\n",
              "        }\n",
              "      </script>\n",
              "    </div>\n",
              "  </div>\n",
              "  "
            ],
            "text/plain": [
              "                                                  url       region  \\\n",
              "3   https://www.immobilienscout24.de/expose/116573177  Wilmersdorf   \n",
              "4   https://www.immobilienscout24.de/expose/115925878    Kreuzberg   \n",
              "6   https://www.immobilienscout24.de/expose/108376992        Mitte   \n",
              "10  https://www.immobilienscout24.de/expose/114437800        Mitte   \n",
              "11  https://www.immobilienscout24.de/expose/116205341    Kreuzberg   \n",
              "\n",
              "         condition  rooms     rent  year_construction   space cold_rent  \\\n",
              "3        well_kept    4.0  1830.22               1900  171.18       NaN   \n",
              "4   first_time_use    2.0  2272.00               2020   88.27       NaN   \n",
              "6   mint_condition    2.0  1509.45               2015   61.61       NaN   \n",
              "10  first_time_use    4.0  2499.00               2019  125.20    1.999€   \n",
              "11  first_time_use    2.0  2328.00               2020   90.36       NaN   \n",
              "\n",
              "   utilities heating_costs security_deposit parking_space  renovated_date  \\\n",
              "3        NaN           NaN              NaN           NaN             NaN   \n",
              "4        NaN           NaN              NaN           NaN             NaN   \n",
              "6        NaN           NaN              NaN           NaN             NaN   \n",
              "10     +500€            in              NaN          120€             NaN   \n",
              "11       NaN           NaN              NaN           NaN             NaN   \n",
              "\n",
              "   property_condition         furnishing        heating_type  \\\n",
              "3                 NaN                NaN                 NaN   \n",
              "4                 New  Gehobene Qualität     Central Heating   \n",
              "6                 NaN                NaN                 NaN   \n",
              "10                New                NaN  Underfloor Heating   \n",
              "11                New  Gehobene Qualität     Central Heating   \n",
              "\n",
              "                                       energy_sources  \\\n",
              "3                                                 NaN   \n",
              "4   Fernwärme Energieausweis liegt zur Besichtigun...   \n",
              "6                                                 NaN   \n",
              "10                                          Fernwärme   \n",
              "11  Fernwärme Energieausweis liegt zur Besichtigun...   \n",
              "\n",
              "            energy_certificate type_of_certificate energy_requirement  \\\n",
              "3                          NaN                 NaN                NaN   \n",
              "4   liegt zur Besichtigung vor                 NaN                NaN   \n",
              "6                          NaN                 NaN                NaN   \n",
              "10                         NaN      Bedarfsausweis                NaN   \n",
              "11  liegt zur Besichtigung vor                 NaN                NaN   \n",
              "\n",
              "   efficiency_class  deposit_cleaned  \n",
              "3               NaN              NaN  \n",
              "4               NaN              NaN  \n",
              "6               NaN              NaN  \n",
              "10                B              NaN  \n",
              "11              NaN              NaN  "
            ]
          },
          "execution_count": 61,
          "metadata": {},
          "output_type": "execute_result"
        }
      ],
      "source": [
        "df[df.deposit_cleaned.isna()].head()"
      ]
    },
    {
      "cell_type": "code",
      "execution_count": null,
      "metadata": {
        "id": "SQPIgw7JbI_i"
      },
      "outputs": [],
      "source": [
        "df['n_missing'] = df[df.columns[-14:]].isnull().sum(axis=1)"
      ]
    },
    {
      "cell_type": "code",
      "execution_count": null,
      "metadata": {
        "colab": {
          "base_uri": "https://localhost:8080/",
          "height": 311
        },
        "id": "OqSUs4g_bI_l",
        "outputId": "8b5e50b7-e7f0-4029-e36f-977c03b61785"
      },
      "outputs": [
        {
          "data": {
            "text/html": [
              "\n",
              "  <div id=\"df-a5fd8822-6e22-459f-8785-645ca8e38afc\">\n",
              "    <div class=\"colab-df-container\">\n",
              "      <div>\n",
              "<style scoped>\n",
              "    .dataframe tbody tr th:only-of-type {\n",
              "        vertical-align: middle;\n",
              "    }\n",
              "\n",
              "    .dataframe tbody tr th {\n",
              "        vertical-align: top;\n",
              "    }\n",
              "\n",
              "    .dataframe thead th {\n",
              "        text-align: right;\n",
              "    }\n",
              "</style>\n",
              "<table border=\"1\" class=\"dataframe\">\n",
              "  <thead>\n",
              "    <tr style=\"text-align: right;\">\n",
              "      <th></th>\n",
              "      <th>url</th>\n",
              "      <th>region</th>\n",
              "      <th>condition</th>\n",
              "      <th>rooms</th>\n",
              "      <th>rent</th>\n",
              "      <th>year_construction</th>\n",
              "      <th>space</th>\n",
              "      <th>cold_rent</th>\n",
              "      <th>utilities</th>\n",
              "      <th>heating_costs</th>\n",
              "      <th>security_deposit</th>\n",
              "      <th>parking_space</th>\n",
              "      <th>renovated_date</th>\n",
              "      <th>property_condition</th>\n",
              "      <th>furnishing</th>\n",
              "      <th>heating_type</th>\n",
              "      <th>energy_sources</th>\n",
              "      <th>energy_certificate</th>\n",
              "      <th>type_of_certificate</th>\n",
              "      <th>energy_requirement</th>\n",
              "      <th>efficiency_class</th>\n",
              "      <th>deposit_cleaned</th>\n",
              "      <th>n_missing</th>\n",
              "    </tr>\n",
              "  </thead>\n",
              "  <tbody>\n",
              "    <tr>\n",
              "      <th>14</th>\n",
              "      <td>https://www.immobilienscout24.de/expose/116361020</td>\n",
              "      <td>Tiergarten</td>\n",
              "      <td>first_time_use</td>\n",
              "      <td>2.0</td>\n",
              "      <td>1399.65</td>\n",
              "      <td>2019</td>\n",
              "      <td>66.65</td>\n",
              "      <td>1.199,70€</td>\n",
              "      <td>+133,30€</td>\n",
              "      <td>+66,65€</td>\n",
              "      <td>2400.0</td>\n",
              "      <td>NaN</td>\n",
              "      <td>2019.0</td>\n",
              "      <td>New</td>\n",
              "      <td>Gehobene Qualität</td>\n",
              "      <td>District Heating</td>\n",
              "      <td>Fernwärme Energieausweis liegt vor</td>\n",
              "      <td>liegt vor</td>\n",
              "      <td>Bedarfsausweis</td>\n",
              "      <td>66,2 kWh/(m²*a)</td>\n",
              "      <td>B</td>\n",
              "      <td>2400.0</td>\n",
              "      <td>1</td>\n",
              "    </tr>\n",
              "    <tr>\n",
              "      <th>29</th>\n",
              "      <td>https://www.immobilienscout24.de/expose/116326551</td>\n",
              "      <td>Charlottenburg</td>\n",
              "      <td>mint_condition</td>\n",
              "      <td>2.0</td>\n",
              "      <td>1810.00</td>\n",
              "      <td>2016</td>\n",
              "      <td>100.47</td>\n",
              "      <td>1.550€</td>\n",
              "      <td>+250€</td>\n",
              "      <td>in</td>\n",
              "      <td>4650.0</td>\n",
              "      <td>150€</td>\n",
              "      <td>NaN</td>\n",
              "      <td>Mint Condition</td>\n",
              "      <td>Luxus</td>\n",
              "      <td>Central Heating</td>\n",
              "      <td>Fernwärme Energieausweis liegt vor</td>\n",
              "      <td>liegt vor</td>\n",
              "      <td>Bedarfsausweis</td>\n",
              "      <td>58 kWh/(m²*a)</td>\n",
              "      <td>B</td>\n",
              "      <td>4650.0</td>\n",
              "      <td>1</td>\n",
              "    </tr>\n",
              "    <tr>\n",
              "      <th>43</th>\n",
              "      <td>https://www.immobilienscout24.de/expose/116436290</td>\n",
              "      <td>Mitte</td>\n",
              "      <td>no_information</td>\n",
              "      <td>4.0</td>\n",
              "      <td>3677.70</td>\n",
              "      <td>2016</td>\n",
              "      <td>125.54</td>\n",
              "      <td>3.050€</td>\n",
              "      <td>+426,84€</td>\n",
              "      <td>+200,86€</td>\n",
              "      <td>9150</td>\n",
              "      <td>200€</td>\n",
              "      <td>2016.0</td>\n",
              "      <td>NaN</td>\n",
              "      <td>Luxus</td>\n",
              "      <td>District Heating</td>\n",
              "      <td>Fernwärme Energieausweis liegt vor</td>\n",
              "      <td>liegt vor</td>\n",
              "      <td>Bedarfsausweis</td>\n",
              "      <td>74 kWh/(m²*a)</td>\n",
              "      <td>B</td>\n",
              "      <td>9150.0</td>\n",
              "      <td>1</td>\n",
              "    </tr>\n",
              "  </tbody>\n",
              "</table>\n",
              "</div>\n",
              "      <button class=\"colab-df-convert\" onclick=\"convertToInteractive('df-a5fd8822-6e22-459f-8785-645ca8e38afc')\"\n",
              "              title=\"Convert this dataframe to an interactive table.\"\n",
              "              style=\"display:none;\">\n",
              "        \n",
              "  <svg xmlns=\"http://www.w3.org/2000/svg\" height=\"24px\"viewBox=\"0 0 24 24\"\n",
              "       width=\"24px\">\n",
              "    <path d=\"M0 0h24v24H0V0z\" fill=\"none\"/>\n",
              "    <path d=\"M18.56 5.44l.94 2.06.94-2.06 2.06-.94-2.06-.94-.94-2.06-.94 2.06-2.06.94zm-11 1L8.5 8.5l.94-2.06 2.06-.94-2.06-.94L8.5 2.5l-.94 2.06-2.06.94zm10 10l.94 2.06.94-2.06 2.06-.94-2.06-.94-.94-2.06-.94 2.06-2.06.94z\"/><path d=\"M17.41 7.96l-1.37-1.37c-.4-.4-.92-.59-1.43-.59-.52 0-1.04.2-1.43.59L10.3 9.45l-7.72 7.72c-.78.78-.78 2.05 0 2.83L4 21.41c.39.39.9.59 1.41.59.51 0 1.02-.2 1.41-.59l7.78-7.78 2.81-2.81c.8-.78.8-2.07 0-2.86zM5.41 20L4 18.59l7.72-7.72 1.47 1.35L5.41 20z\"/>\n",
              "  </svg>\n",
              "      </button>\n",
              "      \n",
              "  <style>\n",
              "    .colab-df-container {\n",
              "      display:flex;\n",
              "      flex-wrap:wrap;\n",
              "      gap: 12px;\n",
              "    }\n",
              "\n",
              "    .colab-df-convert {\n",
              "      background-color: #E8F0FE;\n",
              "      border: none;\n",
              "      border-radius: 50%;\n",
              "      cursor: pointer;\n",
              "      display: none;\n",
              "      fill: #1967D2;\n",
              "      height: 32px;\n",
              "      padding: 0 0 0 0;\n",
              "      width: 32px;\n",
              "    }\n",
              "\n",
              "    .colab-df-convert:hover {\n",
              "      background-color: #E2EBFA;\n",
              "      box-shadow: 0px 1px 2px rgba(60, 64, 67, 0.3), 0px 1px 3px 1px rgba(60, 64, 67, 0.15);\n",
              "      fill: #174EA6;\n",
              "    }\n",
              "\n",
              "    [theme=dark] .colab-df-convert {\n",
              "      background-color: #3B4455;\n",
              "      fill: #D2E3FC;\n",
              "    }\n",
              "\n",
              "    [theme=dark] .colab-df-convert:hover {\n",
              "      background-color: #434B5C;\n",
              "      box-shadow: 0px 1px 3px 1px rgba(0, 0, 0, 0.15);\n",
              "      filter: drop-shadow(0px 1px 2px rgba(0, 0, 0, 0.3));\n",
              "      fill: #FFFFFF;\n",
              "    }\n",
              "  </style>\n",
              "\n",
              "      <script>\n",
              "        const buttonEl =\n",
              "          document.querySelector('#df-a5fd8822-6e22-459f-8785-645ca8e38afc button.colab-df-convert');\n",
              "        buttonEl.style.display =\n",
              "          google.colab.kernel.accessAllowed ? 'block' : 'none';\n",
              "\n",
              "        async function convertToInteractive(key) {\n",
              "          const element = document.querySelector('#df-a5fd8822-6e22-459f-8785-645ca8e38afc');\n",
              "          const dataTable =\n",
              "            await google.colab.kernel.invokeFunction('convertToInteractive',\n",
              "                                                     [key], {});\n",
              "          if (!dataTable) return;\n",
              "\n",
              "          const docLinkHtml = 'Like what you see? Visit the ' +\n",
              "            '<a target=\"_blank\" href=https://colab.research.google.com/notebooks/data_table.ipynb>data table notebook</a>'\n",
              "            + ' to learn more about interactive tables.';\n",
              "          element.innerHTML = '';\n",
              "          dataTable['output_type'] = 'display_data';\n",
              "          await google.colab.output.renderOutput(dataTable, element);\n",
              "          const docLink = document.createElement('div');\n",
              "          docLink.innerHTML = docLinkHtml;\n",
              "          element.appendChild(docLink);\n",
              "        }\n",
              "      </script>\n",
              "    </div>\n",
              "  </div>\n",
              "  "
            ],
            "text/plain": [
              "                                                  url          region  \\\n",
              "14  https://www.immobilienscout24.de/expose/116361020      Tiergarten   \n",
              "29  https://www.immobilienscout24.de/expose/116326551  Charlottenburg   \n",
              "43  https://www.immobilienscout24.de/expose/116436290           Mitte   \n",
              "\n",
              "         condition  rooms     rent  year_construction   space  cold_rent  \\\n",
              "14  first_time_use    2.0  1399.65               2019   66.65  1.199,70€   \n",
              "29  mint_condition    2.0  1810.00               2016  100.47     1.550€   \n",
              "43  no_information    4.0  3677.70               2016  125.54     3.050€   \n",
              "\n",
              "   utilities heating_costs security_deposit parking_space  renovated_date  \\\n",
              "14  +133,30€       +66,65€           2400.0           NaN          2019.0   \n",
              "29     +250€            in           4650.0          150€             NaN   \n",
              "43  +426,84€      +200,86€             9150          200€          2016.0   \n",
              "\n",
              "   property_condition         furnishing      heating_type  \\\n",
              "14                New  Gehobene Qualität  District Heating   \n",
              "29     Mint Condition              Luxus   Central Heating   \n",
              "43                NaN              Luxus  District Heating   \n",
              "\n",
              "                        energy_sources energy_certificate type_of_certificate  \\\n",
              "14  Fernwärme Energieausweis liegt vor          liegt vor      Bedarfsausweis   \n",
              "29  Fernwärme Energieausweis liegt vor          liegt vor      Bedarfsausweis   \n",
              "43  Fernwärme Energieausweis liegt vor          liegt vor      Bedarfsausweis   \n",
              "\n",
              "   energy_requirement efficiency_class  deposit_cleaned  n_missing  \n",
              "14    66,2 kWh/(m²*a)                B           2400.0          1  \n",
              "29      58 kWh/(m²*a)                B           4650.0          1  \n",
              "43      74 kWh/(m²*a)                B           9150.0          1  "
            ]
          },
          "execution_count": 63,
          "metadata": {},
          "output_type": "execute_result"
        }
      ],
      "source": [
        "df[df.n_missing == 1].head(3)"
      ]
    },
    {
      "cell_type": "code",
      "execution_count": null,
      "metadata": {
        "id": "qjbpPkoZbI_n"
      },
      "outputs": [],
      "source": [
        "def fill_missing_security_deposit(row):\n",
        "  \n",
        "    # if the value isn't missing, return the value\n",
        "    if not pd.isna(row.deposit_cleaned):\n",
        "        return row.deposit_cleaned\n",
        "  \n",
        "    # if there is only one missing value, return 0. Otherwise return 3 months of rent\n",
        "    if row.n_missing == 1:\n",
        "        return 0\n",
        "    else:\n",
        "        return row.rent * 3 # defaults to standard deposit case"
      ]
    },
    {
      "cell_type": "code",
      "execution_count": null,
      "metadata": {
        "id": "12Ystgy0bI_r"
      },
      "outputs": [],
      "source": [
        "df['deposit_cleaned'] = df.apply(fill_missing_security_deposit, axis=1)"
      ]
    },
    {
      "cell_type": "code",
      "execution_count": null,
      "metadata": {
        "colab": {
          "base_uri": "https://localhost:8080/",
          "height": 542
        },
        "id": "56Q8mFJHbI_u",
        "outputId": "f89454ef-c2f2-414e-e554-b77c126fe5d5"
      },
      "outputs": [
        {
          "data": {
            "text/html": [
              "<html>\n",
              "<head><meta charset=\"utf-8\" /></head>\n",
              "<body>\n",
              "    <div>            <script src=\"https://cdnjs.cloudflare.com/ajax/libs/mathjax/2.7.5/MathJax.js?config=TeX-AMS-MML_SVG\"></script><script type=\"text/javascript\">if (window.MathJax && window.MathJax.Hub && window.MathJax.Hub.Config) {window.MathJax.Hub.Config({SVG: {font: \"STIX-Web\"}});}</script>                <script type=\"text/javascript\">window.PlotlyConfig = {MathJaxConfig: 'local'};</script>\n",
              "        <script src=\"https://cdn.plot.ly/plotly-2.18.2.min.js\"></script>                <div id=\"c12bc132-dec1-437f-8bed-c96c821708f1\" class=\"plotly-graph-div\" style=\"height:525px; width:100%;\"></div>            <script type=\"text/javascript\">                                    window.PLOTLYENV=window.PLOTLYENV || {};                                    if (document.getElementById(\"c12bc132-dec1-437f-8bed-c96c821708f1\")) {                    Plotly.newPlot(                        \"c12bc132-dec1-437f-8bed-c96c821708f1\",                        [{\"alignmentgroup\":\"True\",\"bingroup\":\"x\",\"hovertemplate\":\"deposit_cleaned=%{x}<br>count=%{y}<extra></extra>\",\"legendgroup\":\"\",\"marker\":{\"color\":\"#636efa\",\"pattern\":{\"shape\":\"\"}},\"name\":\"\",\"offsetgroup\":\"\",\"orientation\":\"v\",\"showlegend\":false,\"x\":[7977.0,2920.53,2937.0,5490.66,6816.0,2520.0,4528.35,2192.19,1685.79,5367.0,7497.0,6984.0,7500.0,19350.0,2400.0,4516.799999999999,3507.42,2000.0,2139.78,5397.0,5487.0,3885.0,5493.0,3180.0,7950.0,4152.0,2145.0,3713.49,6870.0,4650.0,6960.0,6690.0,6465.0,7982.700000000001,4283.46,9510.0,1500.0,2547.7200000000003,1974.33,4020.0,7299.0,9825.0,933.1200000000001,9150.0,4545.0,2809.32,2316.0,1439.6100000000001,3706.66,1533.4499999999998,2535.0,6900.0,5994.0,6000.0,7470.0,2928.0,5172.0,2877.0,2145.0,6215.7,11475.0,14850.0,3147.0,4197.0,4920.0,4494.0,2667.0,2600.0,12900.0,3000.0,5847.78,3450.0,5000.0,4695.0,4650.0,4274.25,13200.0,5070.0,10000.0,3568.44,4710.0,3000.0,8040.0,3620.0,1350.0,4560.0,3075.0,5370.0,5000.0,4830.0,1690.0,2382.0,1790.0,9684.75,8586.0,2990.0,1490.0,1150.3799999999999,2616.21,2700.0,11197.92,12864.0,9754.98,13500.0,6713.34,6000.0,10087.23,10992.75,6240.0,6681.0,5250.0,6900.0,9960.0,6960.0,3159.0,3627.0,2970.0,13425.0,4350.0,17790.0,6229.14,5010.0,4497.0,4333.9,4650.0,3000.0,3960.0,2013.0,4365.0,2841.0,4846.71,4440.0,4000.0,7665.0,2850.72,3300.75,4899.0,9885.0,2344.0,3900.0,3900.0,3645.0,2397.0,4500.0,3900.0,2970.0,5120.43,3900.0,9718.0,3597.0,3900.0,5649.8099999999995,1322.82,2970.0,3780.0,10779.51,3720.0,2205.0,6750.0,5021.85,4800.0,2757.0,1265.6100000000001,4159.29,2157.0,2157.0,2157.0,1500.0,5703.0,1488.3899999999999,1947.0,2685.0,2157.0,6597.0,1749.09,3582.0,8997.0,813.75,1376.73,1301.1299999999999,4691.25,5100.0,2012.58,3630.0,3798.8999999999996,4995.0,9000.0,3348.0,5109.0,6540.0,2549.79,7112.13,4935.0,2320.8,3831.0,2274.0,9180.0,2850.0,2960.0,5616.0,5121.0,4362.54,2212.4700000000003,4584.75,2115.18,1817.3999999999999,1222.26,4199.76,4199.76,4771.17,4680.0,1226.34,4396.86,5073.0,4875.0,6372.87,4350.0,3500.0,4080.0,5691.6,12577.89,4350.0,4050.0,7586.58,5400.0,2338.0,4440.0,8010.0,2073.87,5805.51,3279.4800000000005,5940.0,2700.69,2662.59,1864.1399999999999,7740.0,6372.87,5351.67,2024.3999999999999,1307.22,8100.0,1134.42,3859.17,5630.34,13500.0,29322.0,4191.0,5692.5,2630.43,5961.12,6552.0,7232.400000000001,7038.0,2700.0,1797.0,3774.0,3345.0,6750.0,2005.1999999999998,4500.0,3360.0,5148.0,4050.0,4500.0,2657.04,1968.3000000000002,2472.0,1467.21,12000.0,6300.0,1947.0,5394.0,4197.0,2727.0,1696.8899999999999,2667.0,5400.0,4845.0,1058.85,8991.0,1213.17,20566.44,842.22,1554.0,6540.0,12977.07,7476.150000000001,6966.0599999999995,4950.0,6600.0,6833.73,2535.0,2313.0,4714.32,2040.0,2409.0,2379.0,4671.84,6960.0,3903.3900000000003,2190.0,3030.93,5791.14,1727.76,3543.8999999999996,6130.47,9025.5,6345.0,4590.0,8202.0,4500.0,4470.0,3121.5299999999997,1643.6999999999998,10080.0,3543.8999999999996,3750.0,7575.0,1799.22,4676.4,4771.049999999999,6477.599999999999,1740.48,7650.0,2881.14,4483.92,5451.0,5355.0,17324.489999999998,2265.8999999999996,5850.0,4350.0,7215.0,4479.0,4170.0,2277.0,3900.0,2633.13,5535.0,6180.0,4320.0,7455.0,3600.0,2340.0,10140.0,7494.0,2850.0,3166.29,5160.0,5940.0,7125.0,2902.2,5355.0,7305.0,4050.0,5910.0,3870.0,4077.0,5100.0,3410.16,4500.0,3750.0,6330.0,5670.0,3120.0,2925.0,5998.41,4470.0,3600.0,6120.0,1538.79,3750.0,3500.0,8397.0,3480.0,2850.0,4963.17,2760.0,2981.88,14625.0,4285.92,2953.2,2744.61,2329.41,2658.1499999999996,2850.0,7200.0,1139.85,2007.0,4200.0,1485.0,2892.0,2773.32,3597.0,3584.82,5421.0,2181.0,1281.0,3798.84,1425.0,5100.0,8550.0,4358.4,3750.0,4185.0,5097.0,6767.52,2814.0,4950.0,4950.0,8445.0,4950.0,3483.0,5196.6,1691.73,1928.31,4950.0,1260.27,2425.38,1860.0,6579.0,2500.0,2115.0,2286.45,1600.0,2661.0,4110.0,1200.0,2136.0,2946.0,3738.0,5265.0,3686.25,5259.0,3671.94,2055.0,4297.799999999999,4590.0,6150.0,7453.86,4696.200000000001,5342.700000000001,6237.0599999999995,4650.0,4905.0,2304.0,10500.0,1755.0,2426.0,6900.0,3450.0,2400.0,2040.0,4827.299999999999,6960.0,3090.0,1941.1499999999999,9271.2,2085.0,2097.8999999999996,2538.0,3374.79,6570.0,8676.75,6675.0,5247.96,9333.0,6945.0,4009.2300000000005,9792.0,5564.9400000000005,1710.0,3973.0,1000.0,4506.0,3045.0,4200.0,2475.0,4497.0,6210.0,2628.0,6960.0,5100.0,1969.5,2250.0,1755.0,4650.0,4500.0,4980.0,5070.0,1074.6,3900.0,8997.0,2010.09,2580.0,6807.0,2844.3,1974.0,3685.0,2907.0,3527.16,3600.0,5502.0,4048.74,2253.0,3230.0,5775.0,4698.0,3158.0,4341.0,5310.0,4029.0,2250.0,1688.4,3844.5,2929.5,2953.5,1695.48,6510.0,6510.0,2985.0,3750.0,2985.0,2764.77,3710.16,3270.0,5506.2,2564.0,2487.0,1600.0,4482.0,2487.0,4258.0,7647.0,3546.0,4050.0,8382.24,3481.6499999999996,3855.0,2958.0,1726.3500000000001,5127.99,4605.9,4069.32,1563.27,4197.0,3831.63,3354.0,7937.700000000001,7891.17,2440.2,5718.42,2880.0,5400.0,6796.41,3552.0,8100.0,4918.5599999999995,2674.95,4467.0,14400.0,4366.83,7650.0,4696.68,8596.47,6042.63,5281.11,3133.0,6840.0,13350.0,4104.0,1600.0,4557.0,4950.0,4263.0,3423.0,3285.0,3550.0,5349.24,2318.0,5502.0,2268.0,3489.0,7725.0,2315.0,7281.0,3606.0,7665.0,3750.18,4587.0,17809.199999999997,17809.199999999997,14242.800000000001,5400.0,14242.800000000001,7950.0,14242.800000000001,6416.039999999999,3567.2699999999995,2788.02,3334.0,6450.0,3372.0,2689.38,6099.299999999999,3093.0,3533.0,1194.0,5400.0,3548.0,3544.0,2297.0,6486.0,3502.0,3962.19,5100.0,4287.299999999999,3437.0,2604.18,2262.0,3461.0,3482.0,4300.0,5700.0,4230.0,3167.0,3706.0,4409.0,2795.0,4230.0,3058.0,3028.0,6840.0,14034.900000000001,3088.0,4976.0,9480.0,4464.75,3230.0,6600.0,5444.549999999999,9750.0,5160.0,6525.0,4347.72,5269.08,13200.0,5876.07,6864.18,4264.0,7068.599999999999,5508.0,6851.9400000000005,15300.0,3087.0,7464.780000000001,2787.0,5693.85,3627.0,8947.23,3706.0,5265.0,3188.0,8160.0,3204.0,1312.5,3762.0,3058.0,3684.0,4409.0,3355.0,4552.0,4519.0,3141.69,6207.780000000001,17629.050000000003,3154.0,4271.0,6858.0,4976.0,3630.0,6315.0,5793.78,4338.0,3059.0,7890.0,4047.0,7500.0,4300.0,3543.0,4702.17,4101.0,3297.0,4684.950000000001,42621.0,3007.0,3189.0,3500.0,4326.0,5091.0,6781.38,3905.0,4759.0,2500.0,4185.0,3747.0,7665.0,3745.0,3028.0,2000.0,3882.0,2000.0,3963.0,3942.4500000000003,6600.0,2697.0,3709.5,11120.49,4650.0,1980.0,2742.0,7666.77,8220.0,5379.0,3798.0,3847.5,4364.22,7318.799999999999,5910.0,8434.14,1965.0,4572.0,4197.0,6900.0,6387.0,4050.0,10500.0,2529.0,4072.38,3021.0,1830.0,11775.0,3237.0,1866.0,4098.0,2340.0,2223.0,2313.0,12120.0,5184.0,3237.0,2310.0,6540.0,2160.0,6466.5,1542.0,2316.0,5910.0,2079.0,2877.0,1947.0,8250.0,3777.0,2664.0],\"xaxis\":\"x\",\"yaxis\":\"y\",\"type\":\"histogram\"},{\"alignmentgroup\":\"True\",\"hovertemplate\":\"deposit_cleaned=%{x}<extra></extra>\",\"legendgroup\":\"\",\"marker\":{\"color\":\"#636efa\"},\"name\":\"\",\"notched\":true,\"offsetgroup\":\"\",\"showlegend\":false,\"x\":[7977.0,2920.53,2937.0,5490.66,6816.0,2520.0,4528.35,2192.19,1685.79,5367.0,7497.0,6984.0,7500.0,19350.0,2400.0,4516.799999999999,3507.42,2000.0,2139.78,5397.0,5487.0,3885.0,5493.0,3180.0,7950.0,4152.0,2145.0,3713.49,6870.0,4650.0,6960.0,6690.0,6465.0,7982.700000000001,4283.46,9510.0,1500.0,2547.7200000000003,1974.33,4020.0,7299.0,9825.0,933.1200000000001,9150.0,4545.0,2809.32,2316.0,1439.6100000000001,3706.66,1533.4499999999998,2535.0,6900.0,5994.0,6000.0,7470.0,2928.0,5172.0,2877.0,2145.0,6215.7,11475.0,14850.0,3147.0,4197.0,4920.0,4494.0,2667.0,2600.0,12900.0,3000.0,5847.78,3450.0,5000.0,4695.0,4650.0,4274.25,13200.0,5070.0,10000.0,3568.44,4710.0,3000.0,8040.0,3620.0,1350.0,4560.0,3075.0,5370.0,5000.0,4830.0,1690.0,2382.0,1790.0,9684.75,8586.0,2990.0,1490.0,1150.3799999999999,2616.21,2700.0,11197.92,12864.0,9754.98,13500.0,6713.34,6000.0,10087.23,10992.75,6240.0,6681.0,5250.0,6900.0,9960.0,6960.0,3159.0,3627.0,2970.0,13425.0,4350.0,17790.0,6229.14,5010.0,4497.0,4333.9,4650.0,3000.0,3960.0,2013.0,4365.0,2841.0,4846.71,4440.0,4000.0,7665.0,2850.72,3300.75,4899.0,9885.0,2344.0,3900.0,3900.0,3645.0,2397.0,4500.0,3900.0,2970.0,5120.43,3900.0,9718.0,3597.0,3900.0,5649.8099999999995,1322.82,2970.0,3780.0,10779.51,3720.0,2205.0,6750.0,5021.85,4800.0,2757.0,1265.6100000000001,4159.29,2157.0,2157.0,2157.0,1500.0,5703.0,1488.3899999999999,1947.0,2685.0,2157.0,6597.0,1749.09,3582.0,8997.0,813.75,1376.73,1301.1299999999999,4691.25,5100.0,2012.58,3630.0,3798.8999999999996,4995.0,9000.0,3348.0,5109.0,6540.0,2549.79,7112.13,4935.0,2320.8,3831.0,2274.0,9180.0,2850.0,2960.0,5616.0,5121.0,4362.54,2212.4700000000003,4584.75,2115.18,1817.3999999999999,1222.26,4199.76,4199.76,4771.17,4680.0,1226.34,4396.86,5073.0,4875.0,6372.87,4350.0,3500.0,4080.0,5691.6,12577.89,4350.0,4050.0,7586.58,5400.0,2338.0,4440.0,8010.0,2073.87,5805.51,3279.4800000000005,5940.0,2700.69,2662.59,1864.1399999999999,7740.0,6372.87,5351.67,2024.3999999999999,1307.22,8100.0,1134.42,3859.17,5630.34,13500.0,29322.0,4191.0,5692.5,2630.43,5961.12,6552.0,7232.400000000001,7038.0,2700.0,1797.0,3774.0,3345.0,6750.0,2005.1999999999998,4500.0,3360.0,5148.0,4050.0,4500.0,2657.04,1968.3000000000002,2472.0,1467.21,12000.0,6300.0,1947.0,5394.0,4197.0,2727.0,1696.8899999999999,2667.0,5400.0,4845.0,1058.85,8991.0,1213.17,20566.44,842.22,1554.0,6540.0,12977.07,7476.150000000001,6966.0599999999995,4950.0,6600.0,6833.73,2535.0,2313.0,4714.32,2040.0,2409.0,2379.0,4671.84,6960.0,3903.3900000000003,2190.0,3030.93,5791.14,1727.76,3543.8999999999996,6130.47,9025.5,6345.0,4590.0,8202.0,4500.0,4470.0,3121.5299999999997,1643.6999999999998,10080.0,3543.8999999999996,3750.0,7575.0,1799.22,4676.4,4771.049999999999,6477.599999999999,1740.48,7650.0,2881.14,4483.92,5451.0,5355.0,17324.489999999998,2265.8999999999996,5850.0,4350.0,7215.0,4479.0,4170.0,2277.0,3900.0,2633.13,5535.0,6180.0,4320.0,7455.0,3600.0,2340.0,10140.0,7494.0,2850.0,3166.29,5160.0,5940.0,7125.0,2902.2,5355.0,7305.0,4050.0,5910.0,3870.0,4077.0,5100.0,3410.16,4500.0,3750.0,6330.0,5670.0,3120.0,2925.0,5998.41,4470.0,3600.0,6120.0,1538.79,3750.0,3500.0,8397.0,3480.0,2850.0,4963.17,2760.0,2981.88,14625.0,4285.92,2953.2,2744.61,2329.41,2658.1499999999996,2850.0,7200.0,1139.85,2007.0,4200.0,1485.0,2892.0,2773.32,3597.0,3584.82,5421.0,2181.0,1281.0,3798.84,1425.0,5100.0,8550.0,4358.4,3750.0,4185.0,5097.0,6767.52,2814.0,4950.0,4950.0,8445.0,4950.0,3483.0,5196.6,1691.73,1928.31,4950.0,1260.27,2425.38,1860.0,6579.0,2500.0,2115.0,2286.45,1600.0,2661.0,4110.0,1200.0,2136.0,2946.0,3738.0,5265.0,3686.25,5259.0,3671.94,2055.0,4297.799999999999,4590.0,6150.0,7453.86,4696.200000000001,5342.700000000001,6237.0599999999995,4650.0,4905.0,2304.0,10500.0,1755.0,2426.0,6900.0,3450.0,2400.0,2040.0,4827.299999999999,6960.0,3090.0,1941.1499999999999,9271.2,2085.0,2097.8999999999996,2538.0,3374.79,6570.0,8676.75,6675.0,5247.96,9333.0,6945.0,4009.2300000000005,9792.0,5564.9400000000005,1710.0,3973.0,1000.0,4506.0,3045.0,4200.0,2475.0,4497.0,6210.0,2628.0,6960.0,5100.0,1969.5,2250.0,1755.0,4650.0,4500.0,4980.0,5070.0,1074.6,3900.0,8997.0,2010.09,2580.0,6807.0,2844.3,1974.0,3685.0,2907.0,3527.16,3600.0,5502.0,4048.74,2253.0,3230.0,5775.0,4698.0,3158.0,4341.0,5310.0,4029.0,2250.0,1688.4,3844.5,2929.5,2953.5,1695.48,6510.0,6510.0,2985.0,3750.0,2985.0,2764.77,3710.16,3270.0,5506.2,2564.0,2487.0,1600.0,4482.0,2487.0,4258.0,7647.0,3546.0,4050.0,8382.24,3481.6499999999996,3855.0,2958.0,1726.3500000000001,5127.99,4605.9,4069.32,1563.27,4197.0,3831.63,3354.0,7937.700000000001,7891.17,2440.2,5718.42,2880.0,5400.0,6796.41,3552.0,8100.0,4918.5599999999995,2674.95,4467.0,14400.0,4366.83,7650.0,4696.68,8596.47,6042.63,5281.11,3133.0,6840.0,13350.0,4104.0,1600.0,4557.0,4950.0,4263.0,3423.0,3285.0,3550.0,5349.24,2318.0,5502.0,2268.0,3489.0,7725.0,2315.0,7281.0,3606.0,7665.0,3750.18,4587.0,17809.199999999997,17809.199999999997,14242.800000000001,5400.0,14242.800000000001,7950.0,14242.800000000001,6416.039999999999,3567.2699999999995,2788.02,3334.0,6450.0,3372.0,2689.38,6099.299999999999,3093.0,3533.0,1194.0,5400.0,3548.0,3544.0,2297.0,6486.0,3502.0,3962.19,5100.0,4287.299999999999,3437.0,2604.18,2262.0,3461.0,3482.0,4300.0,5700.0,4230.0,3167.0,3706.0,4409.0,2795.0,4230.0,3058.0,3028.0,6840.0,14034.900000000001,3088.0,4976.0,9480.0,4464.75,3230.0,6600.0,5444.549999999999,9750.0,5160.0,6525.0,4347.72,5269.08,13200.0,5876.07,6864.18,4264.0,7068.599999999999,5508.0,6851.9400000000005,15300.0,3087.0,7464.780000000001,2787.0,5693.85,3627.0,8947.23,3706.0,5265.0,3188.0,8160.0,3204.0,1312.5,3762.0,3058.0,3684.0,4409.0,3355.0,4552.0,4519.0,3141.69,6207.780000000001,17629.050000000003,3154.0,4271.0,6858.0,4976.0,3630.0,6315.0,5793.78,4338.0,3059.0,7890.0,4047.0,7500.0,4300.0,3543.0,4702.17,4101.0,3297.0,4684.950000000001,42621.0,3007.0,3189.0,3500.0,4326.0,5091.0,6781.38,3905.0,4759.0,2500.0,4185.0,3747.0,7665.0,3745.0,3028.0,2000.0,3882.0,2000.0,3963.0,3942.4500000000003,6600.0,2697.0,3709.5,11120.49,4650.0,1980.0,2742.0,7666.77,8220.0,5379.0,3798.0,3847.5,4364.22,7318.799999999999,5910.0,8434.14,1965.0,4572.0,4197.0,6900.0,6387.0,4050.0,10500.0,2529.0,4072.38,3021.0,1830.0,11775.0,3237.0,1866.0,4098.0,2340.0,2223.0,2313.0,12120.0,5184.0,3237.0,2310.0,6540.0,2160.0,6466.5,1542.0,2316.0,5910.0,2079.0,2877.0,1947.0,8250.0,3777.0,2664.0],\"xaxis\":\"x2\",\"yaxis\":\"y2\",\"type\":\"box\"}],                        {\"template\":{\"data\":{\"histogram2dcontour\":[{\"type\":\"histogram2dcontour\",\"colorbar\":{\"outlinewidth\":0,\"ticks\":\"\"},\"colorscale\":[[0.0,\"#0d0887\"],[0.1111111111111111,\"#46039f\"],[0.2222222222222222,\"#7201a8\"],[0.3333333333333333,\"#9c179e\"],[0.4444444444444444,\"#bd3786\"],[0.5555555555555556,\"#d8576b\"],[0.6666666666666666,\"#ed7953\"],[0.7777777777777778,\"#fb9f3a\"],[0.8888888888888888,\"#fdca26\"],[1.0,\"#f0f921\"]]}],\"choropleth\":[{\"type\":\"choropleth\",\"colorbar\":{\"outlinewidth\":0,\"ticks\":\"\"}}],\"histogram2d\":[{\"type\":\"histogram2d\",\"colorbar\":{\"outlinewidth\":0,\"ticks\":\"\"},\"colorscale\":[[0.0,\"#0d0887\"],[0.1111111111111111,\"#46039f\"],[0.2222222222222222,\"#7201a8\"],[0.3333333333333333,\"#9c179e\"],[0.4444444444444444,\"#bd3786\"],[0.5555555555555556,\"#d8576b\"],[0.6666666666666666,\"#ed7953\"],[0.7777777777777778,\"#fb9f3a\"],[0.8888888888888888,\"#fdca26\"],[1.0,\"#f0f921\"]]}],\"heatmap\":[{\"type\":\"heatmap\",\"colorbar\":{\"outlinewidth\":0,\"ticks\":\"\"},\"colorscale\":[[0.0,\"#0d0887\"],[0.1111111111111111,\"#46039f\"],[0.2222222222222222,\"#7201a8\"],[0.3333333333333333,\"#9c179e\"],[0.4444444444444444,\"#bd3786\"],[0.5555555555555556,\"#d8576b\"],[0.6666666666666666,\"#ed7953\"],[0.7777777777777778,\"#fb9f3a\"],[0.8888888888888888,\"#fdca26\"],[1.0,\"#f0f921\"]]}],\"heatmapgl\":[{\"type\":\"heatmapgl\",\"colorbar\":{\"outlinewidth\":0,\"ticks\":\"\"},\"colorscale\":[[0.0,\"#0d0887\"],[0.1111111111111111,\"#46039f\"],[0.2222222222222222,\"#7201a8\"],[0.3333333333333333,\"#9c179e\"],[0.4444444444444444,\"#bd3786\"],[0.5555555555555556,\"#d8576b\"],[0.6666666666666666,\"#ed7953\"],[0.7777777777777778,\"#fb9f3a\"],[0.8888888888888888,\"#fdca26\"],[1.0,\"#f0f921\"]]}],\"contourcarpet\":[{\"type\":\"contourcarpet\",\"colorbar\":{\"outlinewidth\":0,\"ticks\":\"\"}}],\"contour\":[{\"type\":\"contour\",\"colorbar\":{\"outlinewidth\":0,\"ticks\":\"\"},\"colorscale\":[[0.0,\"#0d0887\"],[0.1111111111111111,\"#46039f\"],[0.2222222222222222,\"#7201a8\"],[0.3333333333333333,\"#9c179e\"],[0.4444444444444444,\"#bd3786\"],[0.5555555555555556,\"#d8576b\"],[0.6666666666666666,\"#ed7953\"],[0.7777777777777778,\"#fb9f3a\"],[0.8888888888888888,\"#fdca26\"],[1.0,\"#f0f921\"]]}],\"surface\":[{\"type\":\"surface\",\"colorbar\":{\"outlinewidth\":0,\"ticks\":\"\"},\"colorscale\":[[0.0,\"#0d0887\"],[0.1111111111111111,\"#46039f\"],[0.2222222222222222,\"#7201a8\"],[0.3333333333333333,\"#9c179e\"],[0.4444444444444444,\"#bd3786\"],[0.5555555555555556,\"#d8576b\"],[0.6666666666666666,\"#ed7953\"],[0.7777777777777778,\"#fb9f3a\"],[0.8888888888888888,\"#fdca26\"],[1.0,\"#f0f921\"]]}],\"mesh3d\":[{\"type\":\"mesh3d\",\"colorbar\":{\"outlinewidth\":0,\"ticks\":\"\"}}],\"scatter\":[{\"fillpattern\":{\"fillmode\":\"overlay\",\"size\":10,\"solidity\":0.2},\"type\":\"scatter\"}],\"parcoords\":[{\"type\":\"parcoords\",\"line\":{\"colorbar\":{\"outlinewidth\":0,\"ticks\":\"\"}}}],\"scatterpolargl\":[{\"type\":\"scatterpolargl\",\"marker\":{\"colorbar\":{\"outlinewidth\":0,\"ticks\":\"\"}}}],\"bar\":[{\"error_x\":{\"color\":\"#2a3f5f\"},\"error_y\":{\"color\":\"#2a3f5f\"},\"marker\":{\"line\":{\"color\":\"#E5ECF6\",\"width\":0.5},\"pattern\":{\"fillmode\":\"overlay\",\"size\":10,\"solidity\":0.2}},\"type\":\"bar\"}],\"scattergeo\":[{\"type\":\"scattergeo\",\"marker\":{\"colorbar\":{\"outlinewidth\":0,\"ticks\":\"\"}}}],\"scatterpolar\":[{\"type\":\"scatterpolar\",\"marker\":{\"colorbar\":{\"outlinewidth\":0,\"ticks\":\"\"}}}],\"histogram\":[{\"marker\":{\"pattern\":{\"fillmode\":\"overlay\",\"size\":10,\"solidity\":0.2}},\"type\":\"histogram\"}],\"scattergl\":[{\"type\":\"scattergl\",\"marker\":{\"colorbar\":{\"outlinewidth\":0,\"ticks\":\"\"}}}],\"scatter3d\":[{\"type\":\"scatter3d\",\"line\":{\"colorbar\":{\"outlinewidth\":0,\"ticks\":\"\"}},\"marker\":{\"colorbar\":{\"outlinewidth\":0,\"ticks\":\"\"}}}],\"scattermapbox\":[{\"type\":\"scattermapbox\",\"marker\":{\"colorbar\":{\"outlinewidth\":0,\"ticks\":\"\"}}}],\"scatterternary\":[{\"type\":\"scatterternary\",\"marker\":{\"colorbar\":{\"outlinewidth\":0,\"ticks\":\"\"}}}],\"scattercarpet\":[{\"type\":\"scattercarpet\",\"marker\":{\"colorbar\":{\"outlinewidth\":0,\"ticks\":\"\"}}}],\"carpet\":[{\"aaxis\":{\"endlinecolor\":\"#2a3f5f\",\"gridcolor\":\"white\",\"linecolor\":\"white\",\"minorgridcolor\":\"white\",\"startlinecolor\":\"#2a3f5f\"},\"baxis\":{\"endlinecolor\":\"#2a3f5f\",\"gridcolor\":\"white\",\"linecolor\":\"white\",\"minorgridcolor\":\"white\",\"startlinecolor\":\"#2a3f5f\"},\"type\":\"carpet\"}],\"table\":[{\"cells\":{\"fill\":{\"color\":\"#EBF0F8\"},\"line\":{\"color\":\"white\"}},\"header\":{\"fill\":{\"color\":\"#C8D4E3\"},\"line\":{\"color\":\"white\"}},\"type\":\"table\"}],\"barpolar\":[{\"marker\":{\"line\":{\"color\":\"#E5ECF6\",\"width\":0.5},\"pattern\":{\"fillmode\":\"overlay\",\"size\":10,\"solidity\":0.2}},\"type\":\"barpolar\"}],\"pie\":[{\"automargin\":true,\"type\":\"pie\"}]},\"layout\":{\"autotypenumbers\":\"strict\",\"colorway\":[\"#636efa\",\"#EF553B\",\"#00cc96\",\"#ab63fa\",\"#FFA15A\",\"#19d3f3\",\"#FF6692\",\"#B6E880\",\"#FF97FF\",\"#FECB52\"],\"font\":{\"color\":\"#2a3f5f\"},\"hovermode\":\"closest\",\"hoverlabel\":{\"align\":\"left\"},\"paper_bgcolor\":\"white\",\"plot_bgcolor\":\"#E5ECF6\",\"polar\":{\"bgcolor\":\"#E5ECF6\",\"angularaxis\":{\"gridcolor\":\"white\",\"linecolor\":\"white\",\"ticks\":\"\"},\"radialaxis\":{\"gridcolor\":\"white\",\"linecolor\":\"white\",\"ticks\":\"\"}},\"ternary\":{\"bgcolor\":\"#E5ECF6\",\"aaxis\":{\"gridcolor\":\"white\",\"linecolor\":\"white\",\"ticks\":\"\"},\"baxis\":{\"gridcolor\":\"white\",\"linecolor\":\"white\",\"ticks\":\"\"},\"caxis\":{\"gridcolor\":\"white\",\"linecolor\":\"white\",\"ticks\":\"\"}},\"coloraxis\":{\"colorbar\":{\"outlinewidth\":0,\"ticks\":\"\"}},\"colorscale\":{\"sequential\":[[0.0,\"#0d0887\"],[0.1111111111111111,\"#46039f\"],[0.2222222222222222,\"#7201a8\"],[0.3333333333333333,\"#9c179e\"],[0.4444444444444444,\"#bd3786\"],[0.5555555555555556,\"#d8576b\"],[0.6666666666666666,\"#ed7953\"],[0.7777777777777778,\"#fb9f3a\"],[0.8888888888888888,\"#fdca26\"],[1.0,\"#f0f921\"]],\"sequentialminus\":[[0.0,\"#0d0887\"],[0.1111111111111111,\"#46039f\"],[0.2222222222222222,\"#7201a8\"],[0.3333333333333333,\"#9c179e\"],[0.4444444444444444,\"#bd3786\"],[0.5555555555555556,\"#d8576b\"],[0.6666666666666666,\"#ed7953\"],[0.7777777777777778,\"#fb9f3a\"],[0.8888888888888888,\"#fdca26\"],[1.0,\"#f0f921\"]],\"diverging\":[[0,\"#8e0152\"],[0.1,\"#c51b7d\"],[0.2,\"#de77ae\"],[0.3,\"#f1b6da\"],[0.4,\"#fde0ef\"],[0.5,\"#f7f7f7\"],[0.6,\"#e6f5d0\"],[0.7,\"#b8e186\"],[0.8,\"#7fbc41\"],[0.9,\"#4d9221\"],[1,\"#276419\"]]},\"xaxis\":{\"gridcolor\":\"white\",\"linecolor\":\"white\",\"ticks\":\"\",\"title\":{\"standoff\":15},\"zerolinecolor\":\"white\",\"automargin\":true,\"zerolinewidth\":2},\"yaxis\":{\"gridcolor\":\"white\",\"linecolor\":\"white\",\"ticks\":\"\",\"title\":{\"standoff\":15},\"zerolinecolor\":\"white\",\"automargin\":true,\"zerolinewidth\":2},\"scene\":{\"xaxis\":{\"backgroundcolor\":\"#E5ECF6\",\"gridcolor\":\"white\",\"linecolor\":\"white\",\"showbackground\":true,\"ticks\":\"\",\"zerolinecolor\":\"white\",\"gridwidth\":2},\"yaxis\":{\"backgroundcolor\":\"#E5ECF6\",\"gridcolor\":\"white\",\"linecolor\":\"white\",\"showbackground\":true,\"ticks\":\"\",\"zerolinecolor\":\"white\",\"gridwidth\":2},\"zaxis\":{\"backgroundcolor\":\"#E5ECF6\",\"gridcolor\":\"white\",\"linecolor\":\"white\",\"showbackground\":true,\"ticks\":\"\",\"zerolinecolor\":\"white\",\"gridwidth\":2}},\"shapedefaults\":{\"line\":{\"color\":\"#2a3f5f\"}},\"annotationdefaults\":{\"arrowcolor\":\"#2a3f5f\",\"arrowhead\":0,\"arrowwidth\":1},\"geo\":{\"bgcolor\":\"white\",\"landcolor\":\"#E5ECF6\",\"subunitcolor\":\"white\",\"showland\":true,\"showlakes\":true,\"lakecolor\":\"white\"},\"title\":{\"x\":0.05},\"mapbox\":{\"style\":\"light\"}}},\"xaxis\":{\"anchor\":\"y\",\"domain\":[0.0,1.0],\"title\":{\"text\":\"deposit_cleaned\"}},\"yaxis\":{\"anchor\":\"x\",\"domain\":[0.0,0.8316],\"title\":{\"text\":\"count\"}},\"xaxis2\":{\"anchor\":\"y2\",\"domain\":[0.0,1.0],\"matches\":\"x\",\"showticklabels\":false,\"showgrid\":true},\"yaxis2\":{\"anchor\":\"x2\",\"domain\":[0.8416,1.0],\"matches\":\"y2\",\"showticklabels\":false,\"showline\":false,\"ticks\":\"\",\"showgrid\":false},\"legend\":{\"tracegroupgap\":0},\"margin\":{\"t\":60},\"barmode\":\"relative\"},                        {\"responsive\": true}                    ).then(function(){\n",
              "                            \n",
              "var gd = document.getElementById('c12bc132-dec1-437f-8bed-c96c821708f1');\n",
              "var x = new MutationObserver(function (mutations, observer) {{\n",
              "        var display = window.getComputedStyle(gd).display;\n",
              "        if (!display || display === 'none') {{\n",
              "            console.log([gd, 'removed!']);\n",
              "            Plotly.purge(gd);\n",
              "            observer.disconnect();\n",
              "        }}\n",
              "}});\n",
              "\n",
              "// Listen for the removal of the full notebook cells\n",
              "var notebookContainer = gd.closest('#notebook-container');\n",
              "if (notebookContainer) {{\n",
              "    x.observe(notebookContainer, {childList: true});\n",
              "}}\n",
              "\n",
              "// Listen for the clearing of the current output cell\n",
              "var outputEl = gd.closest('.output');\n",
              "if (outputEl) {{\n",
              "    x.observe(outputEl, {childList: true});\n",
              "}}\n",
              "\n",
              "                        })                };                            </script>        </div>\n",
              "</body>\n",
              "</html>"
            ]
          },
          "metadata": {},
          "output_type": "display_data"
        }
      ],
      "source": [
        "px.histogram(df, x=\"deposit_cleaned\", marginal='box')"
      ]
    },
    {
      "cell_type": "code",
      "execution_count": null,
      "metadata": {
        "colab": {
          "base_uri": "https://localhost:8080/"
        },
        "id": "NeDRk2t9bI_w",
        "outputId": "139ad180-6254-4282-b6a9-b8830f83743f"
      },
      "outputs": [
        {
          "data": {
            "text/plain": [
              "mean       4854.710955\n",
              "median     4197.000000\n",
              "std        3295.911843\n",
              "min         813.750000\n",
              "max       42621.000000\n",
              "Name: deposit_cleaned, dtype: float64"
            ]
          },
          "execution_count": 67,
          "metadata": {},
          "output_type": "execute_result"
        }
      ],
      "source": [
        "df.deposit_cleaned.agg(['mean', 'median', 'std', 'min', 'max'])"
      ]
    },
    {
      "cell_type": "code",
      "execution_count": null,
      "metadata": {
        "colab": {
          "base_uri": "https://localhost:8080/"
        },
        "id": "78zmRktIbI_y",
        "outputId": "1cd4f08c-0de8-4ef2-b99a-a4a904604d51"
      },
      "outputs": [
        {
          "data": {
            "text/plain": [
              "379"
            ]
          },
          "execution_count": 68,
          "metadata": {},
          "output_type": "execute_result"
        }
      ],
      "source": [
        "df.security_deposit.isnull().sum()"
      ]
    },
    {
      "cell_type": "code",
      "execution_count": null,
      "metadata": {
        "colab": {
          "base_uri": "https://localhost:8080/",
          "height": 206
        },
        "id": "YJtU_NTrUgDd",
        "outputId": "550623a1-dfac-4512-9351-2caaa8d35e4f"
      },
      "outputs": [
        {
          "data": {
            "text/html": [
              "\n",
              "  <div id=\"df-ff2784af-f86c-49f7-a38e-f0328fd98a29\">\n",
              "    <div class=\"colab-df-container\">\n",
              "      <div>\n",
              "<style scoped>\n",
              "    .dataframe tbody tr th:only-of-type {\n",
              "        vertical-align: middle;\n",
              "    }\n",
              "\n",
              "    .dataframe tbody tr th {\n",
              "        vertical-align: top;\n",
              "    }\n",
              "\n",
              "    .dataframe thead th {\n",
              "        text-align: right;\n",
              "    }\n",
              "</style>\n",
              "<table border=\"1\" class=\"dataframe\">\n",
              "  <thead>\n",
              "    <tr style=\"text-align: right;\">\n",
              "      <th></th>\n",
              "      <th>val_1</th>\n",
              "      <th>val_2</th>\n",
              "    </tr>\n",
              "  </thead>\n",
              "  <tbody>\n",
              "    <tr>\n",
              "      <th>0</th>\n",
              "      <td>1.0</td>\n",
              "      <td>1.0</td>\n",
              "    </tr>\n",
              "    <tr>\n",
              "      <th>1</th>\n",
              "      <td>2.0</td>\n",
              "      <td>2.0</td>\n",
              "    </tr>\n",
              "    <tr>\n",
              "      <th>2</th>\n",
              "      <td>3.0</td>\n",
              "      <td>3.0</td>\n",
              "    </tr>\n",
              "    <tr>\n",
              "      <th>3</th>\n",
              "      <td>NaN</td>\n",
              "      <td>4.0</td>\n",
              "    </tr>\n",
              "    <tr>\n",
              "      <th>4</th>\n",
              "      <td>NaN</td>\n",
              "      <td>NaN</td>\n",
              "    </tr>\n",
              "  </tbody>\n",
              "</table>\n",
              "</div>\n",
              "      <button class=\"colab-df-convert\" onclick=\"convertToInteractive('df-ff2784af-f86c-49f7-a38e-f0328fd98a29')\"\n",
              "              title=\"Convert this dataframe to an interactive table.\"\n",
              "              style=\"display:none;\">\n",
              "        \n",
              "  <svg xmlns=\"http://www.w3.org/2000/svg\" height=\"24px\"viewBox=\"0 0 24 24\"\n",
              "       width=\"24px\">\n",
              "    <path d=\"M0 0h24v24H0V0z\" fill=\"none\"/>\n",
              "    <path d=\"M18.56 5.44l.94 2.06.94-2.06 2.06-.94-2.06-.94-.94-2.06-.94 2.06-2.06.94zm-11 1L8.5 8.5l.94-2.06 2.06-.94-2.06-.94L8.5 2.5l-.94 2.06-2.06.94zm10 10l.94 2.06.94-2.06 2.06-.94-2.06-.94-.94-2.06-.94 2.06-2.06.94z\"/><path d=\"M17.41 7.96l-1.37-1.37c-.4-.4-.92-.59-1.43-.59-.52 0-1.04.2-1.43.59L10.3 9.45l-7.72 7.72c-.78.78-.78 2.05 0 2.83L4 21.41c.39.39.9.59 1.41.59.51 0 1.02-.2 1.41-.59l7.78-7.78 2.81-2.81c.8-.78.8-2.07 0-2.86zM5.41 20L4 18.59l7.72-7.72 1.47 1.35L5.41 20z\"/>\n",
              "  </svg>\n",
              "      </button>\n",
              "      \n",
              "  <style>\n",
              "    .colab-df-container {\n",
              "      display:flex;\n",
              "      flex-wrap:wrap;\n",
              "      gap: 12px;\n",
              "    }\n",
              "\n",
              "    .colab-df-convert {\n",
              "      background-color: #E8F0FE;\n",
              "      border: none;\n",
              "      border-radius: 50%;\n",
              "      cursor: pointer;\n",
              "      display: none;\n",
              "      fill: #1967D2;\n",
              "      height: 32px;\n",
              "      padding: 0 0 0 0;\n",
              "      width: 32px;\n",
              "    }\n",
              "\n",
              "    .colab-df-convert:hover {\n",
              "      background-color: #E2EBFA;\n",
              "      box-shadow: 0px 1px 2px rgba(60, 64, 67, 0.3), 0px 1px 3px 1px rgba(60, 64, 67, 0.15);\n",
              "      fill: #174EA6;\n",
              "    }\n",
              "\n",
              "    [theme=dark] .colab-df-convert {\n",
              "      background-color: #3B4455;\n",
              "      fill: #D2E3FC;\n",
              "    }\n",
              "\n",
              "    [theme=dark] .colab-df-convert:hover {\n",
              "      background-color: #434B5C;\n",
              "      box-shadow: 0px 1px 3px 1px rgba(0, 0, 0, 0.15);\n",
              "      filter: drop-shadow(0px 1px 2px rgba(0, 0, 0, 0.3));\n",
              "      fill: #FFFFFF;\n",
              "    }\n",
              "  </style>\n",
              "\n",
              "      <script>\n",
              "        const buttonEl =\n",
              "          document.querySelector('#df-ff2784af-f86c-49f7-a38e-f0328fd98a29 button.colab-df-convert');\n",
              "        buttonEl.style.display =\n",
              "          google.colab.kernel.accessAllowed ? 'block' : 'none';\n",
              "\n",
              "        async function convertToInteractive(key) {\n",
              "          const element = document.querySelector('#df-ff2784af-f86c-49f7-a38e-f0328fd98a29');\n",
              "          const dataTable =\n",
              "            await google.colab.kernel.invokeFunction('convertToInteractive',\n",
              "                                                     [key], {});\n",
              "          if (!dataTable) return;\n",
              "\n",
              "          const docLinkHtml = 'Like what you see? Visit the ' +\n",
              "            '<a target=\"_blank\" href=https://colab.research.google.com/notebooks/data_table.ipynb>data table notebook</a>'\n",
              "            + ' to learn more about interactive tables.';\n",
              "          element.innerHTML = '';\n",
              "          dataTable['output_type'] = 'display_data';\n",
              "          await google.colab.output.renderOutput(dataTable, element);\n",
              "          const docLink = document.createElement('div');\n",
              "          docLink.innerHTML = docLinkHtml;\n",
              "          element.appendChild(docLink);\n",
              "        }\n",
              "      </script>\n",
              "    </div>\n",
              "  </div>\n",
              "  "
            ],
            "text/plain": [
              "   val_1  val_2\n",
              "0    1.0    1.0\n",
              "1    2.0    2.0\n",
              "2    3.0    3.0\n",
              "3    NaN    4.0\n",
              "4    NaN    NaN"
            ]
          },
          "execution_count": 69,
          "metadata": {},
          "output_type": "execute_result"
        }
      ],
      "source": [
        "tdf = pd.DataFrame({\n",
        "    'val_1': [1, 2, 3, np.nan, np.nan],\n",
        "    'val_2': [1, 2, 3, 4, np.nan],\n",
        "})\n",
        "tdf"
      ]
    },
    {
      "cell_type": "code",
      "execution_count": null,
      "metadata": {
        "colab": {
          "base_uri": "https://localhost:8080/",
          "height": 143
        },
        "id": "Wth9v2mCVmPj",
        "outputId": "5e2bf95a-b42f-4a9e-d55e-40745668f003"
      },
      "outputs": [
        {
          "data": {
            "text/html": [
              "\n",
              "  <div id=\"df-8c3fc078-b1ae-4e1e-b3e9-362af5a241b3\">\n",
              "    <div class=\"colab-df-container\">\n",
              "      <div>\n",
              "<style scoped>\n",
              "    .dataframe tbody tr th:only-of-type {\n",
              "        vertical-align: middle;\n",
              "    }\n",
              "\n",
              "    .dataframe tbody tr th {\n",
              "        vertical-align: top;\n",
              "    }\n",
              "\n",
              "    .dataframe thead th {\n",
              "        text-align: right;\n",
              "    }\n",
              "</style>\n",
              "<table border=\"1\" class=\"dataframe\">\n",
              "  <thead>\n",
              "    <tr style=\"text-align: right;\">\n",
              "      <th></th>\n",
              "      <th>val_1</th>\n",
              "      <th>val_2</th>\n",
              "    </tr>\n",
              "  </thead>\n",
              "  <tbody>\n",
              "    <tr>\n",
              "      <th>0</th>\n",
              "      <td>1.0</td>\n",
              "      <td>1.0</td>\n",
              "    </tr>\n",
              "    <tr>\n",
              "      <th>1</th>\n",
              "      <td>2.0</td>\n",
              "      <td>2.0</td>\n",
              "    </tr>\n",
              "    <tr>\n",
              "      <th>2</th>\n",
              "      <td>3.0</td>\n",
              "      <td>3.0</td>\n",
              "    </tr>\n",
              "  </tbody>\n",
              "</table>\n",
              "</div>\n",
              "      <button class=\"colab-df-convert\" onclick=\"convertToInteractive('df-8c3fc078-b1ae-4e1e-b3e9-362af5a241b3')\"\n",
              "              title=\"Convert this dataframe to an interactive table.\"\n",
              "              style=\"display:none;\">\n",
              "        \n",
              "  <svg xmlns=\"http://www.w3.org/2000/svg\" height=\"24px\"viewBox=\"0 0 24 24\"\n",
              "       width=\"24px\">\n",
              "    <path d=\"M0 0h24v24H0V0z\" fill=\"none\"/>\n",
              "    <path d=\"M18.56 5.44l.94 2.06.94-2.06 2.06-.94-2.06-.94-.94-2.06-.94 2.06-2.06.94zm-11 1L8.5 8.5l.94-2.06 2.06-.94-2.06-.94L8.5 2.5l-.94 2.06-2.06.94zm10 10l.94 2.06.94-2.06 2.06-.94-2.06-.94-.94-2.06-.94 2.06-2.06.94z\"/><path d=\"M17.41 7.96l-1.37-1.37c-.4-.4-.92-.59-1.43-.59-.52 0-1.04.2-1.43.59L10.3 9.45l-7.72 7.72c-.78.78-.78 2.05 0 2.83L4 21.41c.39.39.9.59 1.41.59.51 0 1.02-.2 1.41-.59l7.78-7.78 2.81-2.81c.8-.78.8-2.07 0-2.86zM5.41 20L4 18.59l7.72-7.72 1.47 1.35L5.41 20z\"/>\n",
              "  </svg>\n",
              "      </button>\n",
              "      \n",
              "  <style>\n",
              "    .colab-df-container {\n",
              "      display:flex;\n",
              "      flex-wrap:wrap;\n",
              "      gap: 12px;\n",
              "    }\n",
              "\n",
              "    .colab-df-convert {\n",
              "      background-color: #E8F0FE;\n",
              "      border: none;\n",
              "      border-radius: 50%;\n",
              "      cursor: pointer;\n",
              "      display: none;\n",
              "      fill: #1967D2;\n",
              "      height: 32px;\n",
              "      padding: 0 0 0 0;\n",
              "      width: 32px;\n",
              "    }\n",
              "\n",
              "    .colab-df-convert:hover {\n",
              "      background-color: #E2EBFA;\n",
              "      box-shadow: 0px 1px 2px rgba(60, 64, 67, 0.3), 0px 1px 3px 1px rgba(60, 64, 67, 0.15);\n",
              "      fill: #174EA6;\n",
              "    }\n",
              "\n",
              "    [theme=dark] .colab-df-convert {\n",
              "      background-color: #3B4455;\n",
              "      fill: #D2E3FC;\n",
              "    }\n",
              "\n",
              "    [theme=dark] .colab-df-convert:hover {\n",
              "      background-color: #434B5C;\n",
              "      box-shadow: 0px 1px 3px 1px rgba(0, 0, 0, 0.15);\n",
              "      filter: drop-shadow(0px 1px 2px rgba(0, 0, 0, 0.3));\n",
              "      fill: #FFFFFF;\n",
              "    }\n",
              "  </style>\n",
              "\n",
              "      <script>\n",
              "        const buttonEl =\n",
              "          document.querySelector('#df-8c3fc078-b1ae-4e1e-b3e9-362af5a241b3 button.colab-df-convert');\n",
              "        buttonEl.style.display =\n",
              "          google.colab.kernel.accessAllowed ? 'block' : 'none';\n",
              "\n",
              "        async function convertToInteractive(key) {\n",
              "          const element = document.querySelector('#df-8c3fc078-b1ae-4e1e-b3e9-362af5a241b3');\n",
              "          const dataTable =\n",
              "            await google.colab.kernel.invokeFunction('convertToInteractive',\n",
              "                                                     [key], {});\n",
              "          if (!dataTable) return;\n",
              "\n",
              "          const docLinkHtml = 'Like what you see? Visit the ' +\n",
              "            '<a target=\"_blank\" href=https://colab.research.google.com/notebooks/data_table.ipynb>data table notebook</a>'\n",
              "            + ' to learn more about interactive tables.';\n",
              "          element.innerHTML = '';\n",
              "          dataTable['output_type'] = 'display_data';\n",
              "          await google.colab.output.renderOutput(dataTable, element);\n",
              "          const docLink = document.createElement('div');\n",
              "          docLink.innerHTML = docLinkHtml;\n",
              "          element.appendChild(docLink);\n",
              "        }\n",
              "      </script>\n",
              "    </div>\n",
              "  </div>\n",
              "  "
            ],
            "text/plain": [
              "   val_1  val_2\n",
              "0    1.0    1.0\n",
              "1    2.0    2.0\n",
              "2    3.0    3.0"
            ]
          },
          "execution_count": 70,
          "metadata": {},
          "output_type": "execute_result"
        }
      ],
      "source": [
        "tdf.dropna()"
      ]
    },
    {
      "cell_type": "code",
      "execution_count": null,
      "metadata": {
        "colab": {
          "base_uri": "https://localhost:8080/",
          "height": 175
        },
        "id": "TLwROSfFVocq",
        "outputId": "c2d7ee8e-7b1c-44e0-e416-0777b5dde351"
      },
      "outputs": [
        {
          "data": {
            "text/html": [
              "\n",
              "  <div id=\"df-e41e18b1-8830-4d44-8853-c9aefc59a296\">\n",
              "    <div class=\"colab-df-container\">\n",
              "      <div>\n",
              "<style scoped>\n",
              "    .dataframe tbody tr th:only-of-type {\n",
              "        vertical-align: middle;\n",
              "    }\n",
              "\n",
              "    .dataframe tbody tr th {\n",
              "        vertical-align: top;\n",
              "    }\n",
              "\n",
              "    .dataframe thead th {\n",
              "        text-align: right;\n",
              "    }\n",
              "</style>\n",
              "<table border=\"1\" class=\"dataframe\">\n",
              "  <thead>\n",
              "    <tr style=\"text-align: right;\">\n",
              "      <th></th>\n",
              "      <th>val_1</th>\n",
              "      <th>val_2</th>\n",
              "    </tr>\n",
              "  </thead>\n",
              "  <tbody>\n",
              "    <tr>\n",
              "      <th>0</th>\n",
              "      <td>1.0</td>\n",
              "      <td>1.0</td>\n",
              "    </tr>\n",
              "    <tr>\n",
              "      <th>1</th>\n",
              "      <td>2.0</td>\n",
              "      <td>2.0</td>\n",
              "    </tr>\n",
              "    <tr>\n",
              "      <th>2</th>\n",
              "      <td>3.0</td>\n",
              "      <td>3.0</td>\n",
              "    </tr>\n",
              "    <tr>\n",
              "      <th>3</th>\n",
              "      <td>NaN</td>\n",
              "      <td>4.0</td>\n",
              "    </tr>\n",
              "  </tbody>\n",
              "</table>\n",
              "</div>\n",
              "      <button class=\"colab-df-convert\" onclick=\"convertToInteractive('df-e41e18b1-8830-4d44-8853-c9aefc59a296')\"\n",
              "              title=\"Convert this dataframe to an interactive table.\"\n",
              "              style=\"display:none;\">\n",
              "        \n",
              "  <svg xmlns=\"http://www.w3.org/2000/svg\" height=\"24px\"viewBox=\"0 0 24 24\"\n",
              "       width=\"24px\">\n",
              "    <path d=\"M0 0h24v24H0V0z\" fill=\"none\"/>\n",
              "    <path d=\"M18.56 5.44l.94 2.06.94-2.06 2.06-.94-2.06-.94-.94-2.06-.94 2.06-2.06.94zm-11 1L8.5 8.5l.94-2.06 2.06-.94-2.06-.94L8.5 2.5l-.94 2.06-2.06.94zm10 10l.94 2.06.94-2.06 2.06-.94-2.06-.94-.94-2.06-.94 2.06-2.06.94z\"/><path d=\"M17.41 7.96l-1.37-1.37c-.4-.4-.92-.59-1.43-.59-.52 0-1.04.2-1.43.59L10.3 9.45l-7.72 7.72c-.78.78-.78 2.05 0 2.83L4 21.41c.39.39.9.59 1.41.59.51 0 1.02-.2 1.41-.59l7.78-7.78 2.81-2.81c.8-.78.8-2.07 0-2.86zM5.41 20L4 18.59l7.72-7.72 1.47 1.35L5.41 20z\"/>\n",
              "  </svg>\n",
              "      </button>\n",
              "      \n",
              "  <style>\n",
              "    .colab-df-container {\n",
              "      display:flex;\n",
              "      flex-wrap:wrap;\n",
              "      gap: 12px;\n",
              "    }\n",
              "\n",
              "    .colab-df-convert {\n",
              "      background-color: #E8F0FE;\n",
              "      border: none;\n",
              "      border-radius: 50%;\n",
              "      cursor: pointer;\n",
              "      display: none;\n",
              "      fill: #1967D2;\n",
              "      height: 32px;\n",
              "      padding: 0 0 0 0;\n",
              "      width: 32px;\n",
              "    }\n",
              "\n",
              "    .colab-df-convert:hover {\n",
              "      background-color: #E2EBFA;\n",
              "      box-shadow: 0px 1px 2px rgba(60, 64, 67, 0.3), 0px 1px 3px 1px rgba(60, 64, 67, 0.15);\n",
              "      fill: #174EA6;\n",
              "    }\n",
              "\n",
              "    [theme=dark] .colab-df-convert {\n",
              "      background-color: #3B4455;\n",
              "      fill: #D2E3FC;\n",
              "    }\n",
              "\n",
              "    [theme=dark] .colab-df-convert:hover {\n",
              "      background-color: #434B5C;\n",
              "      box-shadow: 0px 1px 3px 1px rgba(0, 0, 0, 0.15);\n",
              "      filter: drop-shadow(0px 1px 2px rgba(0, 0, 0, 0.3));\n",
              "      fill: #FFFFFF;\n",
              "    }\n",
              "  </style>\n",
              "\n",
              "      <script>\n",
              "        const buttonEl =\n",
              "          document.querySelector('#df-e41e18b1-8830-4d44-8853-c9aefc59a296 button.colab-df-convert');\n",
              "        buttonEl.style.display =\n",
              "          google.colab.kernel.accessAllowed ? 'block' : 'none';\n",
              "\n",
              "        async function convertToInteractive(key) {\n",
              "          const element = document.querySelector('#df-e41e18b1-8830-4d44-8853-c9aefc59a296');\n",
              "          const dataTable =\n",
              "            await google.colab.kernel.invokeFunction('convertToInteractive',\n",
              "                                                     [key], {});\n",
              "          if (!dataTable) return;\n",
              "\n",
              "          const docLinkHtml = 'Like what you see? Visit the ' +\n",
              "            '<a target=\"_blank\" href=https://colab.research.google.com/notebooks/data_table.ipynb>data table notebook</a>'\n",
              "            + ' to learn more about interactive tables.';\n",
              "          element.innerHTML = '';\n",
              "          dataTable['output_type'] = 'display_data';\n",
              "          await google.colab.output.renderOutput(dataTable, element);\n",
              "          const docLink = document.createElement('div');\n",
              "          docLink.innerHTML = docLinkHtml;\n",
              "          element.appendChild(docLink);\n",
              "        }\n",
              "      </script>\n",
              "    </div>\n",
              "  </div>\n",
              "  "
            ],
            "text/plain": [
              "   val_1  val_2\n",
              "0    1.0    1.0\n",
              "1    2.0    2.0\n",
              "2    3.0    3.0\n",
              "3    NaN    4.0"
            ]
          },
          "execution_count": 71,
          "metadata": {},
          "output_type": "execute_result"
        }
      ],
      "source": [
        "tdf.dropna(how='all')"
      ]
    },
    {
      "cell_type": "code",
      "execution_count": null,
      "metadata": {
        "colab": {
          "base_uri": "https://localhost:8080/",
          "height": 206
        },
        "id": "1hl0zjkWU-Bb",
        "outputId": "485f39c8-c918-409a-c63b-c12aff3644d9"
      },
      "outputs": [
        {
          "data": {
            "text/html": [
              "\n",
              "  <div id=\"df-7eaf3635-153a-4b9f-ae12-82cd7cc22a96\">\n",
              "    <div class=\"colab-df-container\">\n",
              "      <div>\n",
              "<style scoped>\n",
              "    .dataframe tbody tr th:only-of-type {\n",
              "        vertical-align: middle;\n",
              "    }\n",
              "\n",
              "    .dataframe tbody tr th {\n",
              "        vertical-align: top;\n",
              "    }\n",
              "\n",
              "    .dataframe thead th {\n",
              "        text-align: right;\n",
              "    }\n",
              "</style>\n",
              "<table border=\"1\" class=\"dataframe\">\n",
              "  <thead>\n",
              "    <tr style=\"text-align: right;\">\n",
              "      <th></th>\n",
              "      <th>val_1</th>\n",
              "      <th>val_2</th>\n",
              "    </tr>\n",
              "  </thead>\n",
              "  <tbody>\n",
              "    <tr>\n",
              "      <th>0</th>\n",
              "      <td>1.0</td>\n",
              "      <td>1.0</td>\n",
              "    </tr>\n",
              "    <tr>\n",
              "      <th>1</th>\n",
              "      <td>2.0</td>\n",
              "      <td>2.0</td>\n",
              "    </tr>\n",
              "    <tr>\n",
              "      <th>2</th>\n",
              "      <td>3.0</td>\n",
              "      <td>3.0</td>\n",
              "    </tr>\n",
              "    <tr>\n",
              "      <th>3</th>\n",
              "      <td>NaN</td>\n",
              "      <td>4.0</td>\n",
              "    </tr>\n",
              "    <tr>\n",
              "      <th>4</th>\n",
              "      <td>NaN</td>\n",
              "      <td>NaN</td>\n",
              "    </tr>\n",
              "  </tbody>\n",
              "</table>\n",
              "</div>\n",
              "      <button class=\"colab-df-convert\" onclick=\"convertToInteractive('df-7eaf3635-153a-4b9f-ae12-82cd7cc22a96')\"\n",
              "              title=\"Convert this dataframe to an interactive table.\"\n",
              "              style=\"display:none;\">\n",
              "        \n",
              "  <svg xmlns=\"http://www.w3.org/2000/svg\" height=\"24px\"viewBox=\"0 0 24 24\"\n",
              "       width=\"24px\">\n",
              "    <path d=\"M0 0h24v24H0V0z\" fill=\"none\"/>\n",
              "    <path d=\"M18.56 5.44l.94 2.06.94-2.06 2.06-.94-2.06-.94-.94-2.06-.94 2.06-2.06.94zm-11 1L8.5 8.5l.94-2.06 2.06-.94-2.06-.94L8.5 2.5l-.94 2.06-2.06.94zm10 10l.94 2.06.94-2.06 2.06-.94-2.06-.94-.94-2.06-.94 2.06-2.06.94z\"/><path d=\"M17.41 7.96l-1.37-1.37c-.4-.4-.92-.59-1.43-.59-.52 0-1.04.2-1.43.59L10.3 9.45l-7.72 7.72c-.78.78-.78 2.05 0 2.83L4 21.41c.39.39.9.59 1.41.59.51 0 1.02-.2 1.41-.59l7.78-7.78 2.81-2.81c.8-.78.8-2.07 0-2.86zM5.41 20L4 18.59l7.72-7.72 1.47 1.35L5.41 20z\"/>\n",
              "  </svg>\n",
              "      </button>\n",
              "      \n",
              "  <style>\n",
              "    .colab-df-container {\n",
              "      display:flex;\n",
              "      flex-wrap:wrap;\n",
              "      gap: 12px;\n",
              "    }\n",
              "\n",
              "    .colab-df-convert {\n",
              "      background-color: #E8F0FE;\n",
              "      border: none;\n",
              "      border-radius: 50%;\n",
              "      cursor: pointer;\n",
              "      display: none;\n",
              "      fill: #1967D2;\n",
              "      height: 32px;\n",
              "      padding: 0 0 0 0;\n",
              "      width: 32px;\n",
              "    }\n",
              "\n",
              "    .colab-df-convert:hover {\n",
              "      background-color: #E2EBFA;\n",
              "      box-shadow: 0px 1px 2px rgba(60, 64, 67, 0.3), 0px 1px 3px 1px rgba(60, 64, 67, 0.15);\n",
              "      fill: #174EA6;\n",
              "    }\n",
              "\n",
              "    [theme=dark] .colab-df-convert {\n",
              "      background-color: #3B4455;\n",
              "      fill: #D2E3FC;\n",
              "    }\n",
              "\n",
              "    [theme=dark] .colab-df-convert:hover {\n",
              "      background-color: #434B5C;\n",
              "      box-shadow: 0px 1px 3px 1px rgba(0, 0, 0, 0.15);\n",
              "      filter: drop-shadow(0px 1px 2px rgba(0, 0, 0, 0.3));\n",
              "      fill: #FFFFFF;\n",
              "    }\n",
              "  </style>\n",
              "\n",
              "      <script>\n",
              "        const buttonEl =\n",
              "          document.querySelector('#df-7eaf3635-153a-4b9f-ae12-82cd7cc22a96 button.colab-df-convert');\n",
              "        buttonEl.style.display =\n",
              "          google.colab.kernel.accessAllowed ? 'block' : 'none';\n",
              "\n",
              "        async function convertToInteractive(key) {\n",
              "          const element = document.querySelector('#df-7eaf3635-153a-4b9f-ae12-82cd7cc22a96');\n",
              "          const dataTable =\n",
              "            await google.colab.kernel.invokeFunction('convertToInteractive',\n",
              "                                                     [key], {});\n",
              "          if (!dataTable) return;\n",
              "\n",
              "          const docLinkHtml = 'Like what you see? Visit the ' +\n",
              "            '<a target=\"_blank\" href=https://colab.research.google.com/notebooks/data_table.ipynb>data table notebook</a>'\n",
              "            + ' to learn more about interactive tables.';\n",
              "          element.innerHTML = '';\n",
              "          dataTable['output_type'] = 'display_data';\n",
              "          await google.colab.output.renderOutput(dataTable, element);\n",
              "          const docLink = document.createElement('div');\n",
              "          docLink.innerHTML = docLinkHtml;\n",
              "          element.appendChild(docLink);\n",
              "        }\n",
              "      </script>\n",
              "    </div>\n",
              "  </div>\n",
              "  "
            ],
            "text/plain": [
              "   val_1  val_2\n",
              "0    1.0    1.0\n",
              "1    2.0    2.0\n",
              "2    3.0    3.0\n",
              "3    NaN    4.0\n",
              "4    NaN    NaN"
            ]
          },
          "execution_count": 72,
          "metadata": {},
          "output_type": "execute_result"
        }
      ],
      "source": [
        "tdf"
      ]
    },
    {
      "cell_type": "code",
      "execution_count": null,
      "metadata": {
        "id": "egHxAgCKU-KF"
      },
      "outputs": [],
      "source": [
        "tdf['val_1'] = tdf.val_1.fillna(-99)"
      ]
    },
    {
      "cell_type": "code",
      "execution_count": null,
      "metadata": {
        "colab": {
          "base_uri": "https://localhost:8080/",
          "height": 206
        },
        "id": "9nIijmynVWsr",
        "outputId": "19a02897-cf7c-4e77-810e-ec205f8bd72e"
      },
      "outputs": [
        {
          "data": {
            "text/html": [
              "\n",
              "  <div id=\"df-88317b6a-5c3f-4295-a6d8-3499ebb953b4\">\n",
              "    <div class=\"colab-df-container\">\n",
              "      <div>\n",
              "<style scoped>\n",
              "    .dataframe tbody tr th:only-of-type {\n",
              "        vertical-align: middle;\n",
              "    }\n",
              "\n",
              "    .dataframe tbody tr th {\n",
              "        vertical-align: top;\n",
              "    }\n",
              "\n",
              "    .dataframe thead th {\n",
              "        text-align: right;\n",
              "    }\n",
              "</style>\n",
              "<table border=\"1\" class=\"dataframe\">\n",
              "  <thead>\n",
              "    <tr style=\"text-align: right;\">\n",
              "      <th></th>\n",
              "      <th>val_1</th>\n",
              "      <th>val_2</th>\n",
              "    </tr>\n",
              "  </thead>\n",
              "  <tbody>\n",
              "    <tr>\n",
              "      <th>0</th>\n",
              "      <td>1.0</td>\n",
              "      <td>1.0</td>\n",
              "    </tr>\n",
              "    <tr>\n",
              "      <th>1</th>\n",
              "      <td>2.0</td>\n",
              "      <td>2.0</td>\n",
              "    </tr>\n",
              "    <tr>\n",
              "      <th>2</th>\n",
              "      <td>3.0</td>\n",
              "      <td>3.0</td>\n",
              "    </tr>\n",
              "    <tr>\n",
              "      <th>3</th>\n",
              "      <td>-99.0</td>\n",
              "      <td>4.0</td>\n",
              "    </tr>\n",
              "    <tr>\n",
              "      <th>4</th>\n",
              "      <td>-99.0</td>\n",
              "      <td>NaN</td>\n",
              "    </tr>\n",
              "  </tbody>\n",
              "</table>\n",
              "</div>\n",
              "      <button class=\"colab-df-convert\" onclick=\"convertToInteractive('df-88317b6a-5c3f-4295-a6d8-3499ebb953b4')\"\n",
              "              title=\"Convert this dataframe to an interactive table.\"\n",
              "              style=\"display:none;\">\n",
              "        \n",
              "  <svg xmlns=\"http://www.w3.org/2000/svg\" height=\"24px\"viewBox=\"0 0 24 24\"\n",
              "       width=\"24px\">\n",
              "    <path d=\"M0 0h24v24H0V0z\" fill=\"none\"/>\n",
              "    <path d=\"M18.56 5.44l.94 2.06.94-2.06 2.06-.94-2.06-.94-.94-2.06-.94 2.06-2.06.94zm-11 1L8.5 8.5l.94-2.06 2.06-.94-2.06-.94L8.5 2.5l-.94 2.06-2.06.94zm10 10l.94 2.06.94-2.06 2.06-.94-2.06-.94-.94-2.06-.94 2.06-2.06.94z\"/><path d=\"M17.41 7.96l-1.37-1.37c-.4-.4-.92-.59-1.43-.59-.52 0-1.04.2-1.43.59L10.3 9.45l-7.72 7.72c-.78.78-.78 2.05 0 2.83L4 21.41c.39.39.9.59 1.41.59.51 0 1.02-.2 1.41-.59l7.78-7.78 2.81-2.81c.8-.78.8-2.07 0-2.86zM5.41 20L4 18.59l7.72-7.72 1.47 1.35L5.41 20z\"/>\n",
              "  </svg>\n",
              "      </button>\n",
              "      \n",
              "  <style>\n",
              "    .colab-df-container {\n",
              "      display:flex;\n",
              "      flex-wrap:wrap;\n",
              "      gap: 12px;\n",
              "    }\n",
              "\n",
              "    .colab-df-convert {\n",
              "      background-color: #E8F0FE;\n",
              "      border: none;\n",
              "      border-radius: 50%;\n",
              "      cursor: pointer;\n",
              "      display: none;\n",
              "      fill: #1967D2;\n",
              "      height: 32px;\n",
              "      padding: 0 0 0 0;\n",
              "      width: 32px;\n",
              "    }\n",
              "\n",
              "    .colab-df-convert:hover {\n",
              "      background-color: #E2EBFA;\n",
              "      box-shadow: 0px 1px 2px rgba(60, 64, 67, 0.3), 0px 1px 3px 1px rgba(60, 64, 67, 0.15);\n",
              "      fill: #174EA6;\n",
              "    }\n",
              "\n",
              "    [theme=dark] .colab-df-convert {\n",
              "      background-color: #3B4455;\n",
              "      fill: #D2E3FC;\n",
              "    }\n",
              "\n",
              "    [theme=dark] .colab-df-convert:hover {\n",
              "      background-color: #434B5C;\n",
              "      box-shadow: 0px 1px 3px 1px rgba(0, 0, 0, 0.15);\n",
              "      filter: drop-shadow(0px 1px 2px rgba(0, 0, 0, 0.3));\n",
              "      fill: #FFFFFF;\n",
              "    }\n",
              "  </style>\n",
              "\n",
              "      <script>\n",
              "        const buttonEl =\n",
              "          document.querySelector('#df-88317b6a-5c3f-4295-a6d8-3499ebb953b4 button.colab-df-convert');\n",
              "        buttonEl.style.display =\n",
              "          google.colab.kernel.accessAllowed ? 'block' : 'none';\n",
              "\n",
              "        async function convertToInteractive(key) {\n",
              "          const element = document.querySelector('#df-88317b6a-5c3f-4295-a6d8-3499ebb953b4');\n",
              "          const dataTable =\n",
              "            await google.colab.kernel.invokeFunction('convertToInteractive',\n",
              "                                                     [key], {});\n",
              "          if (!dataTable) return;\n",
              "\n",
              "          const docLinkHtml = 'Like what you see? Visit the ' +\n",
              "            '<a target=\"_blank\" href=https://colab.research.google.com/notebooks/data_table.ipynb>data table notebook</a>'\n",
              "            + ' to learn more about interactive tables.';\n",
              "          element.innerHTML = '';\n",
              "          dataTable['output_type'] = 'display_data';\n",
              "          await google.colab.output.renderOutput(dataTable, element);\n",
              "          const docLink = document.createElement('div');\n",
              "          docLink.innerHTML = docLinkHtml;\n",
              "          element.appendChild(docLink);\n",
              "        }\n",
              "      </script>\n",
              "    </div>\n",
              "  </div>\n",
              "  "
            ],
            "text/plain": [
              "   val_1  val_2\n",
              "0    1.0    1.0\n",
              "1    2.0    2.0\n",
              "2    3.0    3.0\n",
              "3  -99.0    4.0\n",
              "4  -99.0    NaN"
            ]
          },
          "execution_count": 74,
          "metadata": {},
          "output_type": "execute_result"
        }
      ],
      "source": [
        "tdf"
      ]
    },
    {
      "cell_type": "markdown",
      "metadata": {
        "id": "ax6568FAbI_1"
      },
      "source": [
        "## Recap:\n",
        "\n",
        " **Useful methods for dealing with missing data**:\n",
        " - `pd.isna(VALUE)` and  `pd.isnull(VALUE)`: check if a value is `NaN`, returns `boolean`\n",
        " - `df.COLUMN_NAME.isna()` and `df.COLUMN_NAME.isnull()`: check each value in column to see if it is `NaN`, returns `boolean`\n",
        " - `df.dropna()`: will drop **every** row that has a missing value\n",
        "     - optional arguments:\n",
        "         - `axis`: drop the column\n",
        "         - `how`: `any` or `all` drop if `any` value is missing, or `all` values in that row/col are missing\n",
        " - `df.fillna(VALUE_TO_FILL_WITH)`: will fill every missing value (`NaN`) with the value of your choice\n",
        " \n",
        "**NOTE**: na and null do the **exact** same thing in Pandas, even the docs are the same. The duplicate methods are carried over from `R` which treated `na` and `null` as different values."
      ]
    },
    {
      "cell_type": "markdown",
      "metadata": {
        "id": "6tWur5WUbI_1"
      },
      "source": [
        "## Clean `property_condition`"
      ]
    },
    {
      "cell_type": "code",
      "execution_count": null,
      "metadata": {
        "colab": {
          "base_uri": "https://localhost:8080/"
        },
        "id": "tV1Xo5ODbI_2",
        "outputId": "d08f995c-912a-4c73-8214-99fedaf94639"
      },
      "outputs": [
        {
          "data": {
            "text/plain": [
              "parking_space          0.882199\n",
              "renovated_date         0.744764\n",
              "efficiency_class       0.671466\n",
              "energy_requirement     0.573298\n",
              "security_deposit       0.496073\n",
              "cold_rent              0.442408\n",
              "utilities              0.442408\n",
              "heating_costs          0.442408\n",
              "furnishing             0.417539\n",
              "energy_certificate     0.409686\n",
              "type_of_certificate    0.388743\n",
              "energy_sources         0.353403\n",
              "property_condition     0.344241\n",
              "heating_type           0.325916\n",
              "deposit_cleaned        0.000000\n",
              "url                    0.000000\n",
              "region                 0.000000\n",
              "space                  0.000000\n",
              "year_construction      0.000000\n",
              "rent                   0.000000\n",
              "rooms                  0.000000\n",
              "condition              0.000000\n",
              "n_missing              0.000000\n",
              "dtype: float64"
            ]
          },
          "execution_count": 75,
          "metadata": {},
          "output_type": "execute_result"
        }
      ],
      "source": [
        "(df.isnull().sum() / len(df)).sort_values(ascending = False)"
      ]
    },
    {
      "cell_type": "code",
      "execution_count": null,
      "metadata": {
        "colab": {
          "base_uri": "https://localhost:8080/",
          "height": 409
        },
        "id": "iUuCkDCqbI_4",
        "outputId": "8c7911ff-0d6d-4462-f90d-bf8f06781ae4"
      },
      "outputs": [
        {
          "data": {
            "text/html": [
              "\n",
              "  <div id=\"df-3d9a5f8f-186a-49fe-b667-d0ce0ba38b85\">\n",
              "    <div class=\"colab-df-container\">\n",
              "      <div>\n",
              "<style scoped>\n",
              "    .dataframe tbody tr th:only-of-type {\n",
              "        vertical-align: middle;\n",
              "    }\n",
              "\n",
              "    .dataframe tbody tr th {\n",
              "        vertical-align: top;\n",
              "    }\n",
              "\n",
              "    .dataframe thead th {\n",
              "        text-align: right;\n",
              "    }\n",
              "</style>\n",
              "<table border=\"1\" class=\"dataframe\">\n",
              "  <thead>\n",
              "    <tr style=\"text-align: right;\">\n",
              "      <th></th>\n",
              "      <th>url</th>\n",
              "      <th>region</th>\n",
              "      <th>condition</th>\n",
              "      <th>rooms</th>\n",
              "      <th>rent</th>\n",
              "      <th>year_construction</th>\n",
              "      <th>space</th>\n",
              "      <th>cold_rent</th>\n",
              "      <th>utilities</th>\n",
              "      <th>heating_costs</th>\n",
              "      <th>security_deposit</th>\n",
              "      <th>parking_space</th>\n",
              "      <th>renovated_date</th>\n",
              "      <th>property_condition</th>\n",
              "      <th>furnishing</th>\n",
              "      <th>heating_type</th>\n",
              "      <th>energy_sources</th>\n",
              "      <th>energy_certificate</th>\n",
              "      <th>type_of_certificate</th>\n",
              "      <th>energy_requirement</th>\n",
              "      <th>efficiency_class</th>\n",
              "      <th>deposit_cleaned</th>\n",
              "      <th>n_missing</th>\n",
              "    </tr>\n",
              "  </thead>\n",
              "  <tbody>\n",
              "    <tr>\n",
              "      <th>0</th>\n",
              "      <td>https://www.immobilienscout24.de/expose/116051687</td>\n",
              "      <td>Mitte</td>\n",
              "      <td>first_time_use</td>\n",
              "      <td>4.0</td>\n",
              "      <td>2659.00</td>\n",
              "      <td>2019</td>\n",
              "      <td>117.20</td>\n",
              "      <td>2.199€</td>\n",
              "      <td>+460€</td>\n",
              "      <td>in</td>\n",
              "      <td>3.0</td>\n",
              "      <td>120€</td>\n",
              "      <td>NaN</td>\n",
              "      <td>New</td>\n",
              "      <td>NaN</td>\n",
              "      <td>Underfloor Heating</td>\n",
              "      <td>NaN</td>\n",
              "      <td>NaN</td>\n",
              "      <td>Bedarfsausweis</td>\n",
              "      <td>NaN</td>\n",
              "      <td>B</td>\n",
              "      <td>7977.00</td>\n",
              "      <td>5</td>\n",
              "    </tr>\n",
              "    <tr>\n",
              "      <th>1</th>\n",
              "      <td>https://www.immobilienscout24.de/expose/115338103</td>\n",
              "      <td>Kreuzberg</td>\n",
              "      <td>first_time_use</td>\n",
              "      <td>1.0</td>\n",
              "      <td>1200.00</td>\n",
              "      <td>2020</td>\n",
              "      <td>29.33</td>\n",
              "      <td>973,51€</td>\n",
              "      <td>+226,49€</td>\n",
              "      <td>in</td>\n",
              "      <td>2920.53</td>\n",
              "      <td>NaN</td>\n",
              "      <td>NaN</td>\n",
              "      <td>New</td>\n",
              "      <td>Gehobene Qualität</td>\n",
              "      <td>Central Heating</td>\n",
              "      <td>Fernwärme Energieausweis liegt vor</td>\n",
              "      <td>liegt vor</td>\n",
              "      <td>NaN</td>\n",
              "      <td>NaN</td>\n",
              "      <td>NaN</td>\n",
              "      <td>2920.53</td>\n",
              "      <td>5</td>\n",
              "    </tr>\n",
              "    <tr>\n",
              "      <th>2</th>\n",
              "      <td>https://www.immobilienscout24.de/expose/116458710</td>\n",
              "      <td>Köpenick</td>\n",
              "      <td>well_kept</td>\n",
              "      <td>2.0</td>\n",
              "      <td>979.00</td>\n",
              "      <td>1997</td>\n",
              "      <td>83.61</td>\n",
              "      <td>799€</td>\n",
              "      <td>+90€</td>\n",
              "      <td>+90€</td>\n",
              "      <td>3</td>\n",
              "      <td>NaN</td>\n",
              "      <td>NaN</td>\n",
              "      <td>Groomed</td>\n",
              "      <td>Normale Qualität</td>\n",
              "      <td>Central Heating</td>\n",
              "      <td>Fernwärme Energieausweis liegt vor</td>\n",
              "      <td>liegt vor</td>\n",
              "      <td>Verbrauchsausweis Energie­ver­brauchs­kennwert...</td>\n",
              "      <td>NaN</td>\n",
              "      <td>NaN</td>\n",
              "      <td>2937.00</td>\n",
              "      <td>4</td>\n",
              "    </tr>\n",
              "    <tr>\n",
              "      <th>3</th>\n",
              "      <td>https://www.immobilienscout24.de/expose/116573177</td>\n",
              "      <td>Wilmersdorf</td>\n",
              "      <td>well_kept</td>\n",
              "      <td>4.0</td>\n",
              "      <td>1830.22</td>\n",
              "      <td>1900</td>\n",
              "      <td>171.18</td>\n",
              "      <td>NaN</td>\n",
              "      <td>NaN</td>\n",
              "      <td>NaN</td>\n",
              "      <td>NaN</td>\n",
              "      <td>NaN</td>\n",
              "      <td>NaN</td>\n",
              "      <td>NaN</td>\n",
              "      <td>NaN</td>\n",
              "      <td>NaN</td>\n",
              "      <td>NaN</td>\n",
              "      <td>NaN</td>\n",
              "      <td>NaN</td>\n",
              "      <td>NaN</td>\n",
              "      <td>NaN</td>\n",
              "      <td>5490.66</td>\n",
              "      <td>14</td>\n",
              "    </tr>\n",
              "    <tr>\n",
              "      <th>4</th>\n",
              "      <td>https://www.immobilienscout24.de/expose/115925878</td>\n",
              "      <td>Kreuzberg</td>\n",
              "      <td>first_time_use</td>\n",
              "      <td>2.0</td>\n",
              "      <td>2272.00</td>\n",
              "      <td>2020</td>\n",
              "      <td>88.27</td>\n",
              "      <td>NaN</td>\n",
              "      <td>NaN</td>\n",
              "      <td>NaN</td>\n",
              "      <td>NaN</td>\n",
              "      <td>NaN</td>\n",
              "      <td>NaN</td>\n",
              "      <td>New</td>\n",
              "      <td>Gehobene Qualität</td>\n",
              "      <td>Central Heating</td>\n",
              "      <td>Fernwärme Energieausweis liegt zur Besichtigun...</td>\n",
              "      <td>liegt zur Besichtigung vor</td>\n",
              "      <td>NaN</td>\n",
              "      <td>NaN</td>\n",
              "      <td>NaN</td>\n",
              "      <td>6816.00</td>\n",
              "      <td>9</td>\n",
              "    </tr>\n",
              "  </tbody>\n",
              "</table>\n",
              "</div>\n",
              "      <button class=\"colab-df-convert\" onclick=\"convertToInteractive('df-3d9a5f8f-186a-49fe-b667-d0ce0ba38b85')\"\n",
              "              title=\"Convert this dataframe to an interactive table.\"\n",
              "              style=\"display:none;\">\n",
              "        \n",
              "  <svg xmlns=\"http://www.w3.org/2000/svg\" height=\"24px\"viewBox=\"0 0 24 24\"\n",
              "       width=\"24px\">\n",
              "    <path d=\"M0 0h24v24H0V0z\" fill=\"none\"/>\n",
              "    <path d=\"M18.56 5.44l.94 2.06.94-2.06 2.06-.94-2.06-.94-.94-2.06-.94 2.06-2.06.94zm-11 1L8.5 8.5l.94-2.06 2.06-.94-2.06-.94L8.5 2.5l-.94 2.06-2.06.94zm10 10l.94 2.06.94-2.06 2.06-.94-2.06-.94-.94-2.06-.94 2.06-2.06.94z\"/><path d=\"M17.41 7.96l-1.37-1.37c-.4-.4-.92-.59-1.43-.59-.52 0-1.04.2-1.43.59L10.3 9.45l-7.72 7.72c-.78.78-.78 2.05 0 2.83L4 21.41c.39.39.9.59 1.41.59.51 0 1.02-.2 1.41-.59l7.78-7.78 2.81-2.81c.8-.78.8-2.07 0-2.86zM5.41 20L4 18.59l7.72-7.72 1.47 1.35L5.41 20z\"/>\n",
              "  </svg>\n",
              "      </button>\n",
              "      \n",
              "  <style>\n",
              "    .colab-df-container {\n",
              "      display:flex;\n",
              "      flex-wrap:wrap;\n",
              "      gap: 12px;\n",
              "    }\n",
              "\n",
              "    .colab-df-convert {\n",
              "      background-color: #E8F0FE;\n",
              "      border: none;\n",
              "      border-radius: 50%;\n",
              "      cursor: pointer;\n",
              "      display: none;\n",
              "      fill: #1967D2;\n",
              "      height: 32px;\n",
              "      padding: 0 0 0 0;\n",
              "      width: 32px;\n",
              "    }\n",
              "\n",
              "    .colab-df-convert:hover {\n",
              "      background-color: #E2EBFA;\n",
              "      box-shadow: 0px 1px 2px rgba(60, 64, 67, 0.3), 0px 1px 3px 1px rgba(60, 64, 67, 0.15);\n",
              "      fill: #174EA6;\n",
              "    }\n",
              "\n",
              "    [theme=dark] .colab-df-convert {\n",
              "      background-color: #3B4455;\n",
              "      fill: #D2E3FC;\n",
              "    }\n",
              "\n",
              "    [theme=dark] .colab-df-convert:hover {\n",
              "      background-color: #434B5C;\n",
              "      box-shadow: 0px 1px 3px 1px rgba(0, 0, 0, 0.15);\n",
              "      filter: drop-shadow(0px 1px 2px rgba(0, 0, 0, 0.3));\n",
              "      fill: #FFFFFF;\n",
              "    }\n",
              "  </style>\n",
              "\n",
              "      <script>\n",
              "        const buttonEl =\n",
              "          document.querySelector('#df-3d9a5f8f-186a-49fe-b667-d0ce0ba38b85 button.colab-df-convert');\n",
              "        buttonEl.style.display =\n",
              "          google.colab.kernel.accessAllowed ? 'block' : 'none';\n",
              "\n",
              "        async function convertToInteractive(key) {\n",
              "          const element = document.querySelector('#df-3d9a5f8f-186a-49fe-b667-d0ce0ba38b85');\n",
              "          const dataTable =\n",
              "            await google.colab.kernel.invokeFunction('convertToInteractive',\n",
              "                                                     [key], {});\n",
              "          if (!dataTable) return;\n",
              "\n",
              "          const docLinkHtml = 'Like what you see? Visit the ' +\n",
              "            '<a target=\"_blank\" href=https://colab.research.google.com/notebooks/data_table.ipynb>data table notebook</a>'\n",
              "            + ' to learn more about interactive tables.';\n",
              "          element.innerHTML = '';\n",
              "          dataTable['output_type'] = 'display_data';\n",
              "          await google.colab.output.renderOutput(dataTable, element);\n",
              "          const docLink = document.createElement('div');\n",
              "          docLink.innerHTML = docLinkHtml;\n",
              "          element.appendChild(docLink);\n",
              "        }\n",
              "      </script>\n",
              "    </div>\n",
              "  </div>\n",
              "  "
            ],
            "text/plain": [
              "                                                 url       region  \\\n",
              "0  https://www.immobilienscout24.de/expose/116051687        Mitte   \n",
              "1  https://www.immobilienscout24.de/expose/115338103    Kreuzberg   \n",
              "2  https://www.immobilienscout24.de/expose/116458710     Köpenick   \n",
              "3  https://www.immobilienscout24.de/expose/116573177  Wilmersdorf   \n",
              "4  https://www.immobilienscout24.de/expose/115925878    Kreuzberg   \n",
              "\n",
              "        condition  rooms     rent  year_construction   space cold_rent  \\\n",
              "0  first_time_use    4.0  2659.00               2019  117.20    2.199€   \n",
              "1  first_time_use    1.0  1200.00               2020   29.33   973,51€   \n",
              "2       well_kept    2.0   979.00               1997   83.61      799€   \n",
              "3       well_kept    4.0  1830.22               1900  171.18       NaN   \n",
              "4  first_time_use    2.0  2272.00               2020   88.27       NaN   \n",
              "\n",
              "  utilities heating_costs security_deposit parking_space  renovated_date  \\\n",
              "0     +460€            in              3.0          120€             NaN   \n",
              "1  +226,49€            in          2920.53           NaN             NaN   \n",
              "2      +90€          +90€                3           NaN             NaN   \n",
              "3       NaN           NaN              NaN           NaN             NaN   \n",
              "4       NaN           NaN              NaN           NaN             NaN   \n",
              "\n",
              "  property_condition         furnishing        heating_type  \\\n",
              "0                New                NaN  Underfloor Heating   \n",
              "1                New  Gehobene Qualität     Central Heating   \n",
              "2            Groomed   Normale Qualität     Central Heating   \n",
              "3                NaN                NaN                 NaN   \n",
              "4                New  Gehobene Qualität     Central Heating   \n",
              "\n",
              "                                      energy_sources  \\\n",
              "0                                                NaN   \n",
              "1                 Fernwärme Energieausweis liegt vor   \n",
              "2                 Fernwärme Energieausweis liegt vor   \n",
              "3                                                NaN   \n",
              "4  Fernwärme Energieausweis liegt zur Besichtigun...   \n",
              "\n",
              "           energy_certificate  \\\n",
              "0                         NaN   \n",
              "1                   liegt vor   \n",
              "2                   liegt vor   \n",
              "3                         NaN   \n",
              "4  liegt zur Besichtigung vor   \n",
              "\n",
              "                                 type_of_certificate energy_requirement  \\\n",
              "0                                     Bedarfsausweis                NaN   \n",
              "1                                                NaN                NaN   \n",
              "2  Verbrauchsausweis Energie­ver­brauchs­kennwert...                NaN   \n",
              "3                                                NaN                NaN   \n",
              "4                                                NaN                NaN   \n",
              "\n",
              "  efficiency_class  deposit_cleaned  n_missing  \n",
              "0                B          7977.00          5  \n",
              "1              NaN          2920.53          5  \n",
              "2              NaN          2937.00          4  \n",
              "3              NaN          5490.66         14  \n",
              "4              NaN          6816.00          9  "
            ]
          },
          "execution_count": 76,
          "metadata": {},
          "output_type": "execute_result"
        }
      ],
      "source": [
        "df.head()"
      ]
    },
    {
      "cell_type": "markdown",
      "metadata": {
        "id": "eEfU4G9WbI_6"
      },
      "source": [
        "#### Categorical Features need to be handled differently than Continuous\n",
        "\n",
        "Common methods:\n",
        " - Mode: May bias the dataset towards that category\n",
        " - Intuitive: Set the category based on domain knowledge, could be a problem if you are wrong\n",
        " - An `Unknown` Category: A catch all category for missing categories, especially useful if there is a reason the data is missing"
      ]
    },
    {
      "cell_type": "code",
      "execution_count": null,
      "metadata": {
        "colab": {
          "base_uri": "https://localhost:8080/"
        },
        "id": "bse6G0C8W20W",
        "outputId": "a300427c-4f0e-490b-b053-4bcd72e3e481"
      },
      "outputs": [
        {
          "data": {
            "text/plain": [
              "0.34424083769633507"
            ]
          },
          "execution_count": 77,
          "metadata": {},
          "output_type": "execute_result"
        }
      ],
      "source": [
        "df.property_condition.isnull().sum() / len(df)"
      ]
    },
    {
      "cell_type": "code",
      "execution_count": null,
      "metadata": {
        "colab": {
          "base_uri": "https://localhost:8080/"
        },
        "id": "HtcYUIzsW9mi",
        "outputId": "3f7dc5ce-7d2e-4259-deb6-6fc3b680fb15"
      },
      "outputs": [
        {
          "data": {
            "text/plain": [
              "0    New\n",
              "Name: property_condition, dtype: object"
            ]
          },
          "execution_count": 78,
          "metadata": {},
          "output_type": "execute_result"
        }
      ],
      "source": [
        "df.property_condition.mode()"
      ]
    },
    {
      "cell_type": "code",
      "execution_count": null,
      "metadata": {
        "colab": {
          "base_uri": "https://localhost:8080/"
        },
        "id": "uf8K8PLIbI_7",
        "outputId": "ce58a5b5-c689-404f-b51b-ceca193ae648"
      },
      "outputs": [
        {
          "data": {
            "text/plain": [
              "MISSING                 263\n",
              "New                     241\n",
              "Mint Condition          103\n",
              "Groomed                  65\n",
              "Refurbished              29\n",
              "After Renovation         26\n",
              "Completely Renovated     21\n",
              "Modernized               13\n",
              "Needs Renovation          2\n",
              "Well Maintained           1\n",
              "Name: property_condition, dtype: int64"
            ]
          },
          "execution_count": 79,
          "metadata": {},
          "output_type": "execute_result"
        }
      ],
      "source": [
        "df.property_condition.fillna('MISSING').value_counts()"
      ]
    },
    {
      "cell_type": "code",
      "execution_count": null,
      "metadata": {
        "id": "AIMGY-RibI_9"
      },
      "outputs": [],
      "source": [
        "df['property_condition'] = df.property_condition.fillna('Unknown')"
      ]
    },
    {
      "cell_type": "code",
      "execution_count": null,
      "metadata": {
        "colab": {
          "base_uri": "https://localhost:8080/",
          "height": 542
        },
        "id": "MwDASxOmSgM7",
        "outputId": "ac043ae1-93e8-4b6a-91bb-6978eb5dfeec"
      },
      "outputs": [
        {
          "data": {
            "text/html": [
              "<html>\n",
              "<head><meta charset=\"utf-8\" /></head>\n",
              "<body>\n",
              "    <div>            <script src=\"https://cdnjs.cloudflare.com/ajax/libs/mathjax/2.7.5/MathJax.js?config=TeX-AMS-MML_SVG\"></script><script type=\"text/javascript\">if (window.MathJax && window.MathJax.Hub && window.MathJax.Hub.Config) {window.MathJax.Hub.Config({SVG: {font: \"STIX-Web\"}});}</script>                <script type=\"text/javascript\">window.PlotlyConfig = {MathJaxConfig: 'local'};</script>\n",
              "        <script src=\"https://cdn.plot.ly/plotly-2.18.2.min.js\"></script>                <div id=\"4bc49533-c74d-4a78-9201-9f12c736e3b4\" class=\"plotly-graph-div\" style=\"height:525px; width:100%;\"></div>            <script type=\"text/javascript\">                                    window.PLOTLYENV=window.PLOTLYENV || {};                                    if (document.getElementById(\"4bc49533-c74d-4a78-9201-9f12c736e3b4\")) {                    Plotly.newPlot(                        \"4bc49533-c74d-4a78-9201-9f12c736e3b4\",                        [{\"alignmentgroup\":\"True\",\"hovertemplate\":\"index=%{x}<br>property_condition=%{y}<extra></extra>\",\"legendgroup\":\"\",\"marker\":{\"color\":\"#636efa\",\"pattern\":{\"shape\":\"\"}},\"name\":\"\",\"offsetgroup\":\"\",\"orientation\":\"v\",\"showlegend\":false,\"textposition\":\"auto\",\"x\":[\"Unknown\",\"New\",\"Mint Condition\",\"Groomed\",\"Refurbished\",\"After Renovation\",\"Completely Renovated\",\"Modernized\",\"Needs Renovation\",\"Well Maintained\"],\"xaxis\":\"x\",\"y\":[263,241,103,65,29,26,21,13,2,1],\"yaxis\":\"y\",\"type\":\"bar\"}],                        {\"template\":{\"data\":{\"histogram2dcontour\":[{\"type\":\"histogram2dcontour\",\"colorbar\":{\"outlinewidth\":0,\"ticks\":\"\"},\"colorscale\":[[0.0,\"#0d0887\"],[0.1111111111111111,\"#46039f\"],[0.2222222222222222,\"#7201a8\"],[0.3333333333333333,\"#9c179e\"],[0.4444444444444444,\"#bd3786\"],[0.5555555555555556,\"#d8576b\"],[0.6666666666666666,\"#ed7953\"],[0.7777777777777778,\"#fb9f3a\"],[0.8888888888888888,\"#fdca26\"],[1.0,\"#f0f921\"]]}],\"choropleth\":[{\"type\":\"choropleth\",\"colorbar\":{\"outlinewidth\":0,\"ticks\":\"\"}}],\"histogram2d\":[{\"type\":\"histogram2d\",\"colorbar\":{\"outlinewidth\":0,\"ticks\":\"\"},\"colorscale\":[[0.0,\"#0d0887\"],[0.1111111111111111,\"#46039f\"],[0.2222222222222222,\"#7201a8\"],[0.3333333333333333,\"#9c179e\"],[0.4444444444444444,\"#bd3786\"],[0.5555555555555556,\"#d8576b\"],[0.6666666666666666,\"#ed7953\"],[0.7777777777777778,\"#fb9f3a\"],[0.8888888888888888,\"#fdca26\"],[1.0,\"#f0f921\"]]}],\"heatmap\":[{\"type\":\"heatmap\",\"colorbar\":{\"outlinewidth\":0,\"ticks\":\"\"},\"colorscale\":[[0.0,\"#0d0887\"],[0.1111111111111111,\"#46039f\"],[0.2222222222222222,\"#7201a8\"],[0.3333333333333333,\"#9c179e\"],[0.4444444444444444,\"#bd3786\"],[0.5555555555555556,\"#d8576b\"],[0.6666666666666666,\"#ed7953\"],[0.7777777777777778,\"#fb9f3a\"],[0.8888888888888888,\"#fdca26\"],[1.0,\"#f0f921\"]]}],\"heatmapgl\":[{\"type\":\"heatmapgl\",\"colorbar\":{\"outlinewidth\":0,\"ticks\":\"\"},\"colorscale\":[[0.0,\"#0d0887\"],[0.1111111111111111,\"#46039f\"],[0.2222222222222222,\"#7201a8\"],[0.3333333333333333,\"#9c179e\"],[0.4444444444444444,\"#bd3786\"],[0.5555555555555556,\"#d8576b\"],[0.6666666666666666,\"#ed7953\"],[0.7777777777777778,\"#fb9f3a\"],[0.8888888888888888,\"#fdca26\"],[1.0,\"#f0f921\"]]}],\"contourcarpet\":[{\"type\":\"contourcarpet\",\"colorbar\":{\"outlinewidth\":0,\"ticks\":\"\"}}],\"contour\":[{\"type\":\"contour\",\"colorbar\":{\"outlinewidth\":0,\"ticks\":\"\"},\"colorscale\":[[0.0,\"#0d0887\"],[0.1111111111111111,\"#46039f\"],[0.2222222222222222,\"#7201a8\"],[0.3333333333333333,\"#9c179e\"],[0.4444444444444444,\"#bd3786\"],[0.5555555555555556,\"#d8576b\"],[0.6666666666666666,\"#ed7953\"],[0.7777777777777778,\"#fb9f3a\"],[0.8888888888888888,\"#fdca26\"],[1.0,\"#f0f921\"]]}],\"surface\":[{\"type\":\"surface\",\"colorbar\":{\"outlinewidth\":0,\"ticks\":\"\"},\"colorscale\":[[0.0,\"#0d0887\"],[0.1111111111111111,\"#46039f\"],[0.2222222222222222,\"#7201a8\"],[0.3333333333333333,\"#9c179e\"],[0.4444444444444444,\"#bd3786\"],[0.5555555555555556,\"#d8576b\"],[0.6666666666666666,\"#ed7953\"],[0.7777777777777778,\"#fb9f3a\"],[0.8888888888888888,\"#fdca26\"],[1.0,\"#f0f921\"]]}],\"mesh3d\":[{\"type\":\"mesh3d\",\"colorbar\":{\"outlinewidth\":0,\"ticks\":\"\"}}],\"scatter\":[{\"fillpattern\":{\"fillmode\":\"overlay\",\"size\":10,\"solidity\":0.2},\"type\":\"scatter\"}],\"parcoords\":[{\"type\":\"parcoords\",\"line\":{\"colorbar\":{\"outlinewidth\":0,\"ticks\":\"\"}}}],\"scatterpolargl\":[{\"type\":\"scatterpolargl\",\"marker\":{\"colorbar\":{\"outlinewidth\":0,\"ticks\":\"\"}}}],\"bar\":[{\"error_x\":{\"color\":\"#2a3f5f\"},\"error_y\":{\"color\":\"#2a3f5f\"},\"marker\":{\"line\":{\"color\":\"#E5ECF6\",\"width\":0.5},\"pattern\":{\"fillmode\":\"overlay\",\"size\":10,\"solidity\":0.2}},\"type\":\"bar\"}],\"scattergeo\":[{\"type\":\"scattergeo\",\"marker\":{\"colorbar\":{\"outlinewidth\":0,\"ticks\":\"\"}}}],\"scatterpolar\":[{\"type\":\"scatterpolar\",\"marker\":{\"colorbar\":{\"outlinewidth\":0,\"ticks\":\"\"}}}],\"histogram\":[{\"marker\":{\"pattern\":{\"fillmode\":\"overlay\",\"size\":10,\"solidity\":0.2}},\"type\":\"histogram\"}],\"scattergl\":[{\"type\":\"scattergl\",\"marker\":{\"colorbar\":{\"outlinewidth\":0,\"ticks\":\"\"}}}],\"scatter3d\":[{\"type\":\"scatter3d\",\"line\":{\"colorbar\":{\"outlinewidth\":0,\"ticks\":\"\"}},\"marker\":{\"colorbar\":{\"outlinewidth\":0,\"ticks\":\"\"}}}],\"scattermapbox\":[{\"type\":\"scattermapbox\",\"marker\":{\"colorbar\":{\"outlinewidth\":0,\"ticks\":\"\"}}}],\"scatterternary\":[{\"type\":\"scatterternary\",\"marker\":{\"colorbar\":{\"outlinewidth\":0,\"ticks\":\"\"}}}],\"scattercarpet\":[{\"type\":\"scattercarpet\",\"marker\":{\"colorbar\":{\"outlinewidth\":0,\"ticks\":\"\"}}}],\"carpet\":[{\"aaxis\":{\"endlinecolor\":\"#2a3f5f\",\"gridcolor\":\"white\",\"linecolor\":\"white\",\"minorgridcolor\":\"white\",\"startlinecolor\":\"#2a3f5f\"},\"baxis\":{\"endlinecolor\":\"#2a3f5f\",\"gridcolor\":\"white\",\"linecolor\":\"white\",\"minorgridcolor\":\"white\",\"startlinecolor\":\"#2a3f5f\"},\"type\":\"carpet\"}],\"table\":[{\"cells\":{\"fill\":{\"color\":\"#EBF0F8\"},\"line\":{\"color\":\"white\"}},\"header\":{\"fill\":{\"color\":\"#C8D4E3\"},\"line\":{\"color\":\"white\"}},\"type\":\"table\"}],\"barpolar\":[{\"marker\":{\"line\":{\"color\":\"#E5ECF6\",\"width\":0.5},\"pattern\":{\"fillmode\":\"overlay\",\"size\":10,\"solidity\":0.2}},\"type\":\"barpolar\"}],\"pie\":[{\"automargin\":true,\"type\":\"pie\"}]},\"layout\":{\"autotypenumbers\":\"strict\",\"colorway\":[\"#636efa\",\"#EF553B\",\"#00cc96\",\"#ab63fa\",\"#FFA15A\",\"#19d3f3\",\"#FF6692\",\"#B6E880\",\"#FF97FF\",\"#FECB52\"],\"font\":{\"color\":\"#2a3f5f\"},\"hovermode\":\"closest\",\"hoverlabel\":{\"align\":\"left\"},\"paper_bgcolor\":\"white\",\"plot_bgcolor\":\"#E5ECF6\",\"polar\":{\"bgcolor\":\"#E5ECF6\",\"angularaxis\":{\"gridcolor\":\"white\",\"linecolor\":\"white\",\"ticks\":\"\"},\"radialaxis\":{\"gridcolor\":\"white\",\"linecolor\":\"white\",\"ticks\":\"\"}},\"ternary\":{\"bgcolor\":\"#E5ECF6\",\"aaxis\":{\"gridcolor\":\"white\",\"linecolor\":\"white\",\"ticks\":\"\"},\"baxis\":{\"gridcolor\":\"white\",\"linecolor\":\"white\",\"ticks\":\"\"},\"caxis\":{\"gridcolor\":\"white\",\"linecolor\":\"white\",\"ticks\":\"\"}},\"coloraxis\":{\"colorbar\":{\"outlinewidth\":0,\"ticks\":\"\"}},\"colorscale\":{\"sequential\":[[0.0,\"#0d0887\"],[0.1111111111111111,\"#46039f\"],[0.2222222222222222,\"#7201a8\"],[0.3333333333333333,\"#9c179e\"],[0.4444444444444444,\"#bd3786\"],[0.5555555555555556,\"#d8576b\"],[0.6666666666666666,\"#ed7953\"],[0.7777777777777778,\"#fb9f3a\"],[0.8888888888888888,\"#fdca26\"],[1.0,\"#f0f921\"]],\"sequentialminus\":[[0.0,\"#0d0887\"],[0.1111111111111111,\"#46039f\"],[0.2222222222222222,\"#7201a8\"],[0.3333333333333333,\"#9c179e\"],[0.4444444444444444,\"#bd3786\"],[0.5555555555555556,\"#d8576b\"],[0.6666666666666666,\"#ed7953\"],[0.7777777777777778,\"#fb9f3a\"],[0.8888888888888888,\"#fdca26\"],[1.0,\"#f0f921\"]],\"diverging\":[[0,\"#8e0152\"],[0.1,\"#c51b7d\"],[0.2,\"#de77ae\"],[0.3,\"#f1b6da\"],[0.4,\"#fde0ef\"],[0.5,\"#f7f7f7\"],[0.6,\"#e6f5d0\"],[0.7,\"#b8e186\"],[0.8,\"#7fbc41\"],[0.9,\"#4d9221\"],[1,\"#276419\"]]},\"xaxis\":{\"gridcolor\":\"white\",\"linecolor\":\"white\",\"ticks\":\"\",\"title\":{\"standoff\":15},\"zerolinecolor\":\"white\",\"automargin\":true,\"zerolinewidth\":2},\"yaxis\":{\"gridcolor\":\"white\",\"linecolor\":\"white\",\"ticks\":\"\",\"title\":{\"standoff\":15},\"zerolinecolor\":\"white\",\"automargin\":true,\"zerolinewidth\":2},\"scene\":{\"xaxis\":{\"backgroundcolor\":\"#E5ECF6\",\"gridcolor\":\"white\",\"linecolor\":\"white\",\"showbackground\":true,\"ticks\":\"\",\"zerolinecolor\":\"white\",\"gridwidth\":2},\"yaxis\":{\"backgroundcolor\":\"#E5ECF6\",\"gridcolor\":\"white\",\"linecolor\":\"white\",\"showbackground\":true,\"ticks\":\"\",\"zerolinecolor\":\"white\",\"gridwidth\":2},\"zaxis\":{\"backgroundcolor\":\"#E5ECF6\",\"gridcolor\":\"white\",\"linecolor\":\"white\",\"showbackground\":true,\"ticks\":\"\",\"zerolinecolor\":\"white\",\"gridwidth\":2}},\"shapedefaults\":{\"line\":{\"color\":\"#2a3f5f\"}},\"annotationdefaults\":{\"arrowcolor\":\"#2a3f5f\",\"arrowhead\":0,\"arrowwidth\":1},\"geo\":{\"bgcolor\":\"white\",\"landcolor\":\"#E5ECF6\",\"subunitcolor\":\"white\",\"showland\":true,\"showlakes\":true,\"lakecolor\":\"white\"},\"title\":{\"x\":0.05},\"mapbox\":{\"style\":\"light\"}}},\"xaxis\":{\"anchor\":\"y\",\"domain\":[0.0,1.0],\"title\":{\"text\":\"index\"}},\"yaxis\":{\"anchor\":\"x\",\"domain\":[0.0,1.0],\"title\":{\"text\":\"property_condition\"}},\"legend\":{\"tracegroupgap\":0},\"margin\":{\"t\":60},\"barmode\":\"relative\"},                        {\"responsive\": true}                    ).then(function(){\n",
              "                            \n",
              "var gd = document.getElementById('4bc49533-c74d-4a78-9201-9f12c736e3b4');\n",
              "var x = new MutationObserver(function (mutations, observer) {{\n",
              "        var display = window.getComputedStyle(gd).display;\n",
              "        if (!display || display === 'none') {{\n",
              "            console.log([gd, 'removed!']);\n",
              "            Plotly.purge(gd);\n",
              "            observer.disconnect();\n",
              "        }}\n",
              "}});\n",
              "\n",
              "// Listen for the removal of the full notebook cells\n",
              "var notebookContainer = gd.closest('#notebook-container');\n",
              "if (notebookContainer) {{\n",
              "    x.observe(notebookContainer, {childList: true});\n",
              "}}\n",
              "\n",
              "// Listen for the clearing of the current output cell\n",
              "var outputEl = gd.closest('.output');\n",
              "if (outputEl) {{\n",
              "    x.observe(outputEl, {childList: true});\n",
              "}}\n",
              "\n",
              "                        })                };                            </script>        </div>\n",
              "</body>\n",
              "</html>"
            ]
          },
          "metadata": {},
          "output_type": "display_data"
        }
      ],
      "source": [
        "px.bar(df.property_condition.value_counts().reset_index(), x='index', y='property_condition')"
      ]
    },
    {
      "cell_type": "markdown",
      "metadata": {
        "id": "MRoozyr8bJAB"
      },
      "source": [
        "## Clean `cold_rent`"
      ]
    },
    {
      "cell_type": "code",
      "execution_count": null,
      "metadata": {
        "colab": {
          "base_uri": "https://localhost:8080/"
        },
        "id": "TqZ6sv7EbJAC",
        "outputId": "f38915c0-9c1b-4e05-a5eb-5625196bacf6"
      },
      "outputs": [
        {
          "data": {
            "text/plain": [
              "parking_space          0.882199\n",
              "renovated_date         0.744764\n",
              "efficiency_class       0.671466\n",
              "energy_requirement     0.573298\n",
              "security_deposit       0.496073\n",
              "cold_rent              0.442408\n",
              "utilities              0.442408\n",
              "heating_costs          0.442408\n",
              "furnishing             0.417539\n",
              "energy_certificate     0.409686\n",
              "type_of_certificate    0.388743\n",
              "energy_sources         0.353403\n",
              "heating_type           0.325916\n",
              "deposit_cleaned        0.000000\n",
              "url                    0.000000\n",
              "property_condition     0.000000\n",
              "region                 0.000000\n",
              "space                  0.000000\n",
              "year_construction      0.000000\n",
              "rent                   0.000000\n",
              "rooms                  0.000000\n",
              "condition              0.000000\n",
              "n_missing              0.000000\n",
              "dtype: float64"
            ]
          },
          "execution_count": 82,
          "metadata": {},
          "output_type": "execute_result"
        }
      ],
      "source": [
        "(df.isnull().sum() / len(df)).sort_values(ascending=False)"
      ]
    },
    {
      "cell_type": "markdown",
      "metadata": {
        "id": "sGDBYvuUbJAF"
      },
      "source": [
        "**Since we have the warm rent for every sample, rather than use the median or mean, a better method might be to get the average warm/cold rent ratio and apply that to all missing values**"
      ]
    },
    {
      "cell_type": "code",
      "execution_count": null,
      "metadata": {
        "colab": {
          "base_uri": "https://localhost:8080/"
        },
        "id": "Tiqz9bX6aBvR",
        "outputId": "5c052916-7afa-4ed4-9e1e-4bf368dc24f1"
      },
      "outputs": [
        {
          "data": {
            "text/plain": [
              "0       2.199€\n",
              "1      973,51€\n",
              "2         799€\n",
              "3          NaN\n",
              "4          NaN\n",
              "        ...   \n",
              "759        NaN\n",
              "760        NaN\n",
              "761        NaN\n",
              "762        NaN\n",
              "763        NaN\n",
              "Name: cold_rent, Length: 764, dtype: object"
            ]
          },
          "execution_count": 83,
          "metadata": {},
          "output_type": "execute_result"
        }
      ],
      "source": [
        "df.cold_rent"
      ]
    },
    {
      "cell_type": "code",
      "execution_count": null,
      "metadata": {
        "id": "WImgpWYibJAG"
      },
      "outputs": [],
      "source": [
        "# reuse functions from before\n",
        "df['cold_rent'] = df.cold_rent.apply(lambda x: remove_strings(x, [\"€\", \"Euro\"]))"
      ]
    },
    {
      "cell_type": "code",
      "execution_count": null,
      "metadata": {
        "id": "ifNNCX4nL99A"
      },
      "outputs": [],
      "source": [
        "df['cold_rent'] = df.cold_rent.apply(convert_decimal_format)"
      ]
    },
    {
      "cell_type": "code",
      "execution_count": null,
      "metadata": {
        "colab": {
          "base_uri": "https://localhost:8080/",
          "height": 423
        },
        "id": "-u1gKMzPMkDp",
        "outputId": "7a343898-4416-4b16-ba7c-7087e0087f47"
      },
      "outputs": [
        {
          "data": {
            "text/html": [
              "\n",
              "  <div id=\"df-6a83d921-ed05-47d5-aad3-0d55dacc1dae\">\n",
              "    <div class=\"colab-df-container\">\n",
              "      <div>\n",
              "<style scoped>\n",
              "    .dataframe tbody tr th:only-of-type {\n",
              "        vertical-align: middle;\n",
              "    }\n",
              "\n",
              "    .dataframe tbody tr th {\n",
              "        vertical-align: top;\n",
              "    }\n",
              "\n",
              "    .dataframe thead th {\n",
              "        text-align: right;\n",
              "    }\n",
              "</style>\n",
              "<table border=\"1\" class=\"dataframe\">\n",
              "  <thead>\n",
              "    <tr style=\"text-align: right;\">\n",
              "      <th></th>\n",
              "      <th>rent</th>\n",
              "      <th>cold_rent</th>\n",
              "    </tr>\n",
              "  </thead>\n",
              "  <tbody>\n",
              "    <tr>\n",
              "      <th>0</th>\n",
              "      <td>2659.00</td>\n",
              "      <td>2199.00</td>\n",
              "    </tr>\n",
              "    <tr>\n",
              "      <th>1</th>\n",
              "      <td>1200.00</td>\n",
              "      <td>973.51</td>\n",
              "    </tr>\n",
              "    <tr>\n",
              "      <th>2</th>\n",
              "      <td>979.00</td>\n",
              "      <td>799.00</td>\n",
              "    </tr>\n",
              "    <tr>\n",
              "      <th>3</th>\n",
              "      <td>1830.22</td>\n",
              "      <td>NaN</td>\n",
              "    </tr>\n",
              "    <tr>\n",
              "      <th>4</th>\n",
              "      <td>2272.00</td>\n",
              "      <td>NaN</td>\n",
              "    </tr>\n",
              "    <tr>\n",
              "      <th>...</th>\n",
              "      <td>...</td>\n",
              "      <td>...</td>\n",
              "    </tr>\n",
              "    <tr>\n",
              "      <th>759</th>\n",
              "      <td>959.00</td>\n",
              "      <td>NaN</td>\n",
              "    </tr>\n",
              "    <tr>\n",
              "      <th>760</th>\n",
              "      <td>649.00</td>\n",
              "      <td>NaN</td>\n",
              "    </tr>\n",
              "    <tr>\n",
              "      <th>761</th>\n",
              "      <td>2750.00</td>\n",
              "      <td>NaN</td>\n",
              "    </tr>\n",
              "    <tr>\n",
              "      <th>762</th>\n",
              "      <td>1259.00</td>\n",
              "      <td>NaN</td>\n",
              "    </tr>\n",
              "    <tr>\n",
              "      <th>763</th>\n",
              "      <td>888.00</td>\n",
              "      <td>NaN</td>\n",
              "    </tr>\n",
              "  </tbody>\n",
              "</table>\n",
              "<p>764 rows × 2 columns</p>\n",
              "</div>\n",
              "      <button class=\"colab-df-convert\" onclick=\"convertToInteractive('df-6a83d921-ed05-47d5-aad3-0d55dacc1dae')\"\n",
              "              title=\"Convert this dataframe to an interactive table.\"\n",
              "              style=\"display:none;\">\n",
              "        \n",
              "  <svg xmlns=\"http://www.w3.org/2000/svg\" height=\"24px\"viewBox=\"0 0 24 24\"\n",
              "       width=\"24px\">\n",
              "    <path d=\"M0 0h24v24H0V0z\" fill=\"none\"/>\n",
              "    <path d=\"M18.56 5.44l.94 2.06.94-2.06 2.06-.94-2.06-.94-.94-2.06-.94 2.06-2.06.94zm-11 1L8.5 8.5l.94-2.06 2.06-.94-2.06-.94L8.5 2.5l-.94 2.06-2.06.94zm10 10l.94 2.06.94-2.06 2.06-.94-2.06-.94-.94-2.06-.94 2.06-2.06.94z\"/><path d=\"M17.41 7.96l-1.37-1.37c-.4-.4-.92-.59-1.43-.59-.52 0-1.04.2-1.43.59L10.3 9.45l-7.72 7.72c-.78.78-.78 2.05 0 2.83L4 21.41c.39.39.9.59 1.41.59.51 0 1.02-.2 1.41-.59l7.78-7.78 2.81-2.81c.8-.78.8-2.07 0-2.86zM5.41 20L4 18.59l7.72-7.72 1.47 1.35L5.41 20z\"/>\n",
              "  </svg>\n",
              "      </button>\n",
              "      \n",
              "  <style>\n",
              "    .colab-df-container {\n",
              "      display:flex;\n",
              "      flex-wrap:wrap;\n",
              "      gap: 12px;\n",
              "    }\n",
              "\n",
              "    .colab-df-convert {\n",
              "      background-color: #E8F0FE;\n",
              "      border: none;\n",
              "      border-radius: 50%;\n",
              "      cursor: pointer;\n",
              "      display: none;\n",
              "      fill: #1967D2;\n",
              "      height: 32px;\n",
              "      padding: 0 0 0 0;\n",
              "      width: 32px;\n",
              "    }\n",
              "\n",
              "    .colab-df-convert:hover {\n",
              "      background-color: #E2EBFA;\n",
              "      box-shadow: 0px 1px 2px rgba(60, 64, 67, 0.3), 0px 1px 3px 1px rgba(60, 64, 67, 0.15);\n",
              "      fill: #174EA6;\n",
              "    }\n",
              "\n",
              "    [theme=dark] .colab-df-convert {\n",
              "      background-color: #3B4455;\n",
              "      fill: #D2E3FC;\n",
              "    }\n",
              "\n",
              "    [theme=dark] .colab-df-convert:hover {\n",
              "      background-color: #434B5C;\n",
              "      box-shadow: 0px 1px 3px 1px rgba(0, 0, 0, 0.15);\n",
              "      filter: drop-shadow(0px 1px 2px rgba(0, 0, 0, 0.3));\n",
              "      fill: #FFFFFF;\n",
              "    }\n",
              "  </style>\n",
              "\n",
              "      <script>\n",
              "        const buttonEl =\n",
              "          document.querySelector('#df-6a83d921-ed05-47d5-aad3-0d55dacc1dae button.colab-df-convert');\n",
              "        buttonEl.style.display =\n",
              "          google.colab.kernel.accessAllowed ? 'block' : 'none';\n",
              "\n",
              "        async function convertToInteractive(key) {\n",
              "          const element = document.querySelector('#df-6a83d921-ed05-47d5-aad3-0d55dacc1dae');\n",
              "          const dataTable =\n",
              "            await google.colab.kernel.invokeFunction('convertToInteractive',\n",
              "                                                     [key], {});\n",
              "          if (!dataTable) return;\n",
              "\n",
              "          const docLinkHtml = 'Like what you see? Visit the ' +\n",
              "            '<a target=\"_blank\" href=https://colab.research.google.com/notebooks/data_table.ipynb>data table notebook</a>'\n",
              "            + ' to learn more about interactive tables.';\n",
              "          element.innerHTML = '';\n",
              "          dataTable['output_type'] = 'display_data';\n",
              "          await google.colab.output.renderOutput(dataTable, element);\n",
              "          const docLink = document.createElement('div');\n",
              "          docLink.innerHTML = docLinkHtml;\n",
              "          element.appendChild(docLink);\n",
              "        }\n",
              "      </script>\n",
              "    </div>\n",
              "  </div>\n",
              "  "
            ],
            "text/plain": [
              "        rent  cold_rent\n",
              "0    2659.00    2199.00\n",
              "1    1200.00     973.51\n",
              "2     979.00     799.00\n",
              "3    1830.22        NaN\n",
              "4    2272.00        NaN\n",
              "..       ...        ...\n",
              "759   959.00        NaN\n",
              "760   649.00        NaN\n",
              "761  2750.00        NaN\n",
              "762  1259.00        NaN\n",
              "763   888.00        NaN\n",
              "\n",
              "[764 rows x 2 columns]"
            ]
          },
          "execution_count": 86,
          "metadata": {},
          "output_type": "execute_result"
        }
      ],
      "source": [
        "df[['rent', 'cold_rent']]"
      ]
    },
    {
      "cell_type": "code",
      "execution_count": null,
      "metadata": {
        "id": "guLHeOdlbJAK"
      },
      "outputs": [],
      "source": [
        "total_warm_and_cold = df[['rent', 'cold_rent']].dropna().astype(float).sum()"
      ]
    },
    {
      "cell_type": "code",
      "execution_count": null,
      "metadata": {
        "colab": {
          "base_uri": "https://localhost:8080/"
        },
        "id": "YVKAHF6HNsce",
        "outputId": "129524bc-b4d4-4f87-b447-daccca4807d9"
      },
      "outputs": [
        {
          "data": {
            "text/plain": [
              "rent         791552.66\n",
              "cold_rent    672957.80\n",
              "dtype: float64"
            ]
          },
          "execution_count": 88,
          "metadata": {},
          "output_type": "execute_result"
        }
      ],
      "source": [
        "total_warm_and_cold"
      ]
    },
    {
      "cell_type": "code",
      "execution_count": null,
      "metadata": {
        "colab": {
          "base_uri": "https://localhost:8080/"
        },
        "id": "csXv2ZAQbJAN",
        "outputId": "c55fb488-b85e-4f32-9f94-4b7160ee5c2a"
      },
      "outputs": [
        {
          "data": {
            "text/plain": [
              "0.850174390166284"
            ]
          },
          "execution_count": 89,
          "metadata": {},
          "output_type": "execute_result"
        }
      ],
      "source": [
        "warm_cold_rent_ratio = total_warm_and_cold.cold_rent / total_warm_and_cold.rent\n",
        "warm_cold_rent_ratio"
      ]
    },
    {
      "cell_type": "code",
      "execution_count": null,
      "metadata": {
        "id": "ktgxgxa-PAYb"
      },
      "outputs": [],
      "source": []
    },
    {
      "cell_type": "code",
      "execution_count": null,
      "metadata": {
        "colab": {
          "base_uri": "https://localhost:8080/"
        },
        "id": "FihV2JqJOGrt",
        "outputId": "ad4a6d88-26c2-413e-b508-50f9a8cf3a57"
      },
      "outputs": [
        {
          "name": "stdout",
          "output_type": "stream",
          "text": [
            "   rent  cold_rent     ratio\n",
            "0   100         80  1.250000\n",
            "1  5000       3500  1.428571\n",
            "Average of rent/cold_rent ratios: 1.3392857142857144\n",
            "Ratio weighted by rent level: 1.4245810055865922\n"
          ]
        }
      ],
      "source": [
        "dfn = pd.DataFrame(\n",
        "    [\n",
        "     (100,80), \n",
        "     (5000, 3500)\n",
        "     ], \n",
        "    columns=[\"rent\", \"cold_rent\"]\n",
        "    )\n",
        "dfn\n",
        "\n",
        "dfn[\"ratio\"] = dfn.rent/dfn.cold_rent\n",
        "print(dfn)\n",
        "print(f\"Average of rent/cold_rent ratios: {dfn.ratio.mean()}\")\n",
        "\n",
        "# VERSUS\n",
        "total_warm_and_cold_test = dfn[['rent', 'cold_rent']].dropna().astype(float).sum()\n",
        "print(f\"Ratio weighted by rent level: {total_warm_and_cold_test.rent / total_warm_and_cold_test.cold_rent}\")"
      ]
    },
    {
      "cell_type": "markdown",
      "metadata": {
        "id": "jXtjE410PDnv"
      },
      "source": [
        "## Discussion\n",
        "\n",
        "Do you see a problem with the above code?\n",
        "\n",
        "What do you think about this approach to compute the ratio?"
      ]
    },
    {
      "cell_type": "markdown",
      "metadata": {
        "id": "Jhmr7DJcV5Gw"
      },
      "source": [
        "### Notes"
      ]
    },
    {
      "cell_type": "code",
      "execution_count": null,
      "metadata": {
        "colab": {
          "base_uri": "https://localhost:8080/",
          "height": 542
        },
        "id": "jhnPY0dLS_Me",
        "outputId": "ba491cef-0f99-4e5b-a9dc-cbce0c05debc"
      },
      "outputs": [
        {
          "data": {
            "text/html": [
              "<html>\n",
              "<head><meta charset=\"utf-8\" /></head>\n",
              "<body>\n",
              "    <div>            <script src=\"https://cdnjs.cloudflare.com/ajax/libs/mathjax/2.7.5/MathJax.js?config=TeX-AMS-MML_SVG\"></script><script type=\"text/javascript\">if (window.MathJax && window.MathJax.Hub && window.MathJax.Hub.Config) {window.MathJax.Hub.Config({SVG: {font: \"STIX-Web\"}});}</script>                <script type=\"text/javascript\">window.PlotlyConfig = {MathJaxConfig: 'local'};</script>\n",
              "        <script src=\"https://cdn.plot.ly/plotly-2.18.2.min.js\"></script>                <div id=\"804f8d3f-d839-4ce8-b406-50c7a325659b\" class=\"plotly-graph-div\" style=\"height:525px; width:100%;\"></div>            <script type=\"text/javascript\">                                    window.PLOTLYENV=window.PLOTLYENV || {};                                    if (document.getElementById(\"804f8d3f-d839-4ce8-b406-50c7a325659b\")) {                    Plotly.newPlot(                        \"804f8d3f-d839-4ce8-b406-50c7a325659b\",                        [{\"alignmentgroup\":\"True\",\"bingroup\":\"x\",\"hovertemplate\":\"cold_rent=%{x}<br>count=%{y}<extra></extra>\",\"legendgroup\":\"\",\"marker\":{\"color\":\"#636efa\",\"pattern\":{\"shape\":\"\"}},\"name\":\"\",\"offsetgroup\":\"\",\"orientation\":\"v\",\"showlegend\":false,\"x\":[2199.0,973.51,799.0,652.0,540.73,391.93,1534.0,1999.0,2150.0,5700.0,1199.7,1279.76,1169.14,760.0,713.26,1799.0,1295.0,2650.0,1384.0,1550.0,901.0,614.24,418.11,271.04,3050.0,1515.0,1164.84,1565.03,361.15,2300.0,1998.0,2490.0,2490.0,1724.85,715.0,1760.0,3825.0,4950.0,1399.0,1298.0,4300.0,1300.0,1645.83,1115.0,2100.0,1490.0,3000.0,880.0,1810.0,1990.0,1682.0,1690.0,1790.0,2650.0,3390.0,1490.0,602.07,2873.56,1750.0,2300.0,3320.0,1053.0,1049.0,875.0,1450.0,1761.17,1670.0,1266.6,1444.64,1390.0,1000.0,671.0,947.0,1937.0,950.24,1100.25,2750.0,1171.97,1215.0,799.0,1500.0,1397.93,3239.46,1199.0,1300.0,1290.0,1090.0,620.0,1970.0,1600.0,759.0,321.87,579.0,579.0,579.0,901.0,529.0,735.0,579.0,1929.0,433.03,1194.0,313.71,1336.02,2200.0,1210.0,1103.3,2500.0,849.93,1277.0,758.0,950.0,980.0,1650.0,1460.0,1162.08,317.42,1142.87,1560.0,1195.04,1375.0,1912.54,1390.0,1350.0,1290.0,1450.0,1450.0,1350.0,2113.86,1450.0,1168.77,1150.0,461.29,743.16,1980.0,670.23,607.53,441.38,1912.54,285.74,2350.0,1336.02,1602.13,3950.0,9500.0,1199.0,1553.85,876.81,1495.62,2184.0,2058.0,1994.1,900.0,599.0,1672.28,1500.0,1120.0,1716.0,605.68,824.0,4000.0,2100.0,529.0,1798.0,1399.0,749.0,445.63,729.0,1365.0,272.95,284.39,190.74,518.0,1940.0,1960.75,1872.6,1346.0,2200.0,971.0,805.31,1521.52,575.92,1843.16,3008.15,1910.0,2485.0,437.9,2950.0,1250.0,2298.0,419.74,450.16,2550.0,700.38,1785.0,4367.52,545.3,1450.0,1450.0,1320.0,1390.0,638.0,1710.0,780.0,950.0,1900.0,1980.0,1890.0,1632.0,1400.0,550.0,2050.0,445.0,670.0,1199.0,1422.54,1807.0,2480.0,1250.0,1395.0,1699.0,1911.42,1400.0,1400.0,1400.0,1732.2,1400.0,1639.0,750.0,1057.41,762.15,841.19,699.0,568.48,799.0,1392.0,975.75,1392.0,964.98,1200.2,2050.0,2077.0,1333.0,1491.8,2077.0,1550.0,3500.0,1212.6,1150.0,800.0,680.0,1448.1,695.0,2190.0,2225.0,1477.4,3111.0,2315.0,3264.0,1986.17,699.0,1222.0,815.0,750.0,585.0,1550.0,1490.0,358.2,1300.0,1999.0,753.1,658.0,1842.43,799.0,1599.0,1126.3,1614.89,1925.0,1466.0,1578.66,1280.0,562.8,979.0,749.0,565.16,1800.0,1835.4,1281.99,798.09,2128.88,2199.0,2794.08,985.0,1478.7,427.7,1123.44,1399.0,1676.91,1567.17,1899.0,1865.21,1184.0,736.49,3200.0,1218.61,2250.0,1300.66,1458.42,1044.35,4000.0,1368.0,1033.35,1339.0,2131.1,1711.35,1775.0,1577.34,1158.84,1599.0,1133.65,1157.11,443.0,1096.94,5540.64,5540.64,4416.4,1550.0,4416.4,4416.4,1666.68,1800.0,1766.18,284.62,1773.65,1771.67,1148.37,1750.81,1450.0,1718.24,1130.56,1730.2,1740.61,2149.92,1900.0,1583.5,1854.81,2204.19,1397.4,1528.55,1513.86,3821.4,1543.56,2487.88,2700.0,1309.66,1614.62,1700.0,1529.85,2780.0,1605.82,4400.0,1621.76,2091.94,2131.92,2154.24,1950.0,5100.0,1543.19,2274.98,1813.37,2593.4,1854.81,1593.93,2720.0,1601.71,525.0,1880.75,1528.55,1841.94,2204.19,1677.36,2275.82,2259.45,1047.23,1820.0,1576.88,2135.49,2487.88,1020.0,1446.0,1529.44,1349.0,2149.92,1771.45,1194.0,1099.0,1303.65,1503.07,1299.0,2162.91,1952.44,2379.41,1600.0,1248.0,1873.01,1872.39,1513.86,819.0,850.0,1198.0,2200.0,1104.5,1330.0,2491.0,1131.0,1154.5,2077.0,545.0,1299.0,1960.0,1899.0,1079.0,1514.0,593.23,1901.5,514.0],\"xaxis\":\"x\",\"yaxis\":\"y\",\"type\":\"histogram\"},{\"alignmentgroup\":\"True\",\"hovertemplate\":\"cold_rent=%{x}<extra></extra>\",\"legendgroup\":\"\",\"marker\":{\"color\":\"#636efa\"},\"name\":\"\",\"notched\":true,\"offsetgroup\":\"\",\"showlegend\":false,\"x\":[2199.0,973.51,799.0,652.0,540.73,391.93,1534.0,1999.0,2150.0,5700.0,1199.7,1279.76,1169.14,760.0,713.26,1799.0,1295.0,2650.0,1384.0,1550.0,901.0,614.24,418.11,271.04,3050.0,1515.0,1164.84,1565.03,361.15,2300.0,1998.0,2490.0,2490.0,1724.85,715.0,1760.0,3825.0,4950.0,1399.0,1298.0,4300.0,1300.0,1645.83,1115.0,2100.0,1490.0,3000.0,880.0,1810.0,1990.0,1682.0,1690.0,1790.0,2650.0,3390.0,1490.0,602.07,2873.56,1750.0,2300.0,3320.0,1053.0,1049.0,875.0,1450.0,1761.17,1670.0,1266.6,1444.64,1390.0,1000.0,671.0,947.0,1937.0,950.24,1100.25,2750.0,1171.97,1215.0,799.0,1500.0,1397.93,3239.46,1199.0,1300.0,1290.0,1090.0,620.0,1970.0,1600.0,759.0,321.87,579.0,579.0,579.0,901.0,529.0,735.0,579.0,1929.0,433.03,1194.0,313.71,1336.02,2200.0,1210.0,1103.3,2500.0,849.93,1277.0,758.0,950.0,980.0,1650.0,1460.0,1162.08,317.42,1142.87,1560.0,1195.04,1375.0,1912.54,1390.0,1350.0,1290.0,1450.0,1450.0,1350.0,2113.86,1450.0,1168.77,1150.0,461.29,743.16,1980.0,670.23,607.53,441.38,1912.54,285.74,2350.0,1336.02,1602.13,3950.0,9500.0,1199.0,1553.85,876.81,1495.62,2184.0,2058.0,1994.1,900.0,599.0,1672.28,1500.0,1120.0,1716.0,605.68,824.0,4000.0,2100.0,529.0,1798.0,1399.0,749.0,445.63,729.0,1365.0,272.95,284.39,190.74,518.0,1940.0,1960.75,1872.6,1346.0,2200.0,971.0,805.31,1521.52,575.92,1843.16,3008.15,1910.0,2485.0,437.9,2950.0,1250.0,2298.0,419.74,450.16,2550.0,700.38,1785.0,4367.52,545.3,1450.0,1450.0,1320.0,1390.0,638.0,1710.0,780.0,950.0,1900.0,1980.0,1890.0,1632.0,1400.0,550.0,2050.0,445.0,670.0,1199.0,1422.54,1807.0,2480.0,1250.0,1395.0,1699.0,1911.42,1400.0,1400.0,1400.0,1732.2,1400.0,1639.0,750.0,1057.41,762.15,841.19,699.0,568.48,799.0,1392.0,975.75,1392.0,964.98,1200.2,2050.0,2077.0,1333.0,1491.8,2077.0,1550.0,3500.0,1212.6,1150.0,800.0,680.0,1448.1,695.0,2190.0,2225.0,1477.4,3111.0,2315.0,3264.0,1986.17,699.0,1222.0,815.0,750.0,585.0,1550.0,1490.0,358.2,1300.0,1999.0,753.1,658.0,1842.43,799.0,1599.0,1126.3,1614.89,1925.0,1466.0,1578.66,1280.0,562.8,979.0,749.0,565.16,1800.0,1835.4,1281.99,798.09,2128.88,2199.0,2794.08,985.0,1478.7,427.7,1123.44,1399.0,1676.91,1567.17,1899.0,1865.21,1184.0,736.49,3200.0,1218.61,2250.0,1300.66,1458.42,1044.35,4000.0,1368.0,1033.35,1339.0,2131.1,1711.35,1775.0,1577.34,1158.84,1599.0,1133.65,1157.11,443.0,1096.94,5540.64,5540.64,4416.4,1550.0,4416.4,4416.4,1666.68,1800.0,1766.18,284.62,1773.65,1771.67,1148.37,1750.81,1450.0,1718.24,1130.56,1730.2,1740.61,2149.92,1900.0,1583.5,1854.81,2204.19,1397.4,1528.55,1513.86,3821.4,1543.56,2487.88,2700.0,1309.66,1614.62,1700.0,1529.85,2780.0,1605.82,4400.0,1621.76,2091.94,2131.92,2154.24,1950.0,5100.0,1543.19,2274.98,1813.37,2593.4,1854.81,1593.93,2720.0,1601.71,525.0,1880.75,1528.55,1841.94,2204.19,1677.36,2275.82,2259.45,1047.23,1820.0,1576.88,2135.49,2487.88,1020.0,1446.0,1529.44,1349.0,2149.92,1771.45,1194.0,1099.0,1303.65,1503.07,1299.0,2162.91,1952.44,2379.41,1600.0,1248.0,1873.01,1872.39,1513.86,819.0,850.0,1198.0,2200.0,1104.5,1330.0,2491.0,1131.0,1154.5,2077.0,545.0,1299.0,1960.0,1899.0,1079.0,1514.0,593.23,1901.5,514.0],\"xaxis\":\"x2\",\"yaxis\":\"y2\",\"type\":\"box\"}],                        {\"template\":{\"data\":{\"histogram2dcontour\":[{\"type\":\"histogram2dcontour\",\"colorbar\":{\"outlinewidth\":0,\"ticks\":\"\"},\"colorscale\":[[0.0,\"#0d0887\"],[0.1111111111111111,\"#46039f\"],[0.2222222222222222,\"#7201a8\"],[0.3333333333333333,\"#9c179e\"],[0.4444444444444444,\"#bd3786\"],[0.5555555555555556,\"#d8576b\"],[0.6666666666666666,\"#ed7953\"],[0.7777777777777778,\"#fb9f3a\"],[0.8888888888888888,\"#fdca26\"],[1.0,\"#f0f921\"]]}],\"choropleth\":[{\"type\":\"choropleth\",\"colorbar\":{\"outlinewidth\":0,\"ticks\":\"\"}}],\"histogram2d\":[{\"type\":\"histogram2d\",\"colorbar\":{\"outlinewidth\":0,\"ticks\":\"\"},\"colorscale\":[[0.0,\"#0d0887\"],[0.1111111111111111,\"#46039f\"],[0.2222222222222222,\"#7201a8\"],[0.3333333333333333,\"#9c179e\"],[0.4444444444444444,\"#bd3786\"],[0.5555555555555556,\"#d8576b\"],[0.6666666666666666,\"#ed7953\"],[0.7777777777777778,\"#fb9f3a\"],[0.8888888888888888,\"#fdca26\"],[1.0,\"#f0f921\"]]}],\"heatmap\":[{\"type\":\"heatmap\",\"colorbar\":{\"outlinewidth\":0,\"ticks\":\"\"},\"colorscale\":[[0.0,\"#0d0887\"],[0.1111111111111111,\"#46039f\"],[0.2222222222222222,\"#7201a8\"],[0.3333333333333333,\"#9c179e\"],[0.4444444444444444,\"#bd3786\"],[0.5555555555555556,\"#d8576b\"],[0.6666666666666666,\"#ed7953\"],[0.7777777777777778,\"#fb9f3a\"],[0.8888888888888888,\"#fdca26\"],[1.0,\"#f0f921\"]]}],\"heatmapgl\":[{\"type\":\"heatmapgl\",\"colorbar\":{\"outlinewidth\":0,\"ticks\":\"\"},\"colorscale\":[[0.0,\"#0d0887\"],[0.1111111111111111,\"#46039f\"],[0.2222222222222222,\"#7201a8\"],[0.3333333333333333,\"#9c179e\"],[0.4444444444444444,\"#bd3786\"],[0.5555555555555556,\"#d8576b\"],[0.6666666666666666,\"#ed7953\"],[0.7777777777777778,\"#fb9f3a\"],[0.8888888888888888,\"#fdca26\"],[1.0,\"#f0f921\"]]}],\"contourcarpet\":[{\"type\":\"contourcarpet\",\"colorbar\":{\"outlinewidth\":0,\"ticks\":\"\"}}],\"contour\":[{\"type\":\"contour\",\"colorbar\":{\"outlinewidth\":0,\"ticks\":\"\"},\"colorscale\":[[0.0,\"#0d0887\"],[0.1111111111111111,\"#46039f\"],[0.2222222222222222,\"#7201a8\"],[0.3333333333333333,\"#9c179e\"],[0.4444444444444444,\"#bd3786\"],[0.5555555555555556,\"#d8576b\"],[0.6666666666666666,\"#ed7953\"],[0.7777777777777778,\"#fb9f3a\"],[0.8888888888888888,\"#fdca26\"],[1.0,\"#f0f921\"]]}],\"surface\":[{\"type\":\"surface\",\"colorbar\":{\"outlinewidth\":0,\"ticks\":\"\"},\"colorscale\":[[0.0,\"#0d0887\"],[0.1111111111111111,\"#46039f\"],[0.2222222222222222,\"#7201a8\"],[0.3333333333333333,\"#9c179e\"],[0.4444444444444444,\"#bd3786\"],[0.5555555555555556,\"#d8576b\"],[0.6666666666666666,\"#ed7953\"],[0.7777777777777778,\"#fb9f3a\"],[0.8888888888888888,\"#fdca26\"],[1.0,\"#f0f921\"]]}],\"mesh3d\":[{\"type\":\"mesh3d\",\"colorbar\":{\"outlinewidth\":0,\"ticks\":\"\"}}],\"scatter\":[{\"fillpattern\":{\"fillmode\":\"overlay\",\"size\":10,\"solidity\":0.2},\"type\":\"scatter\"}],\"parcoords\":[{\"type\":\"parcoords\",\"line\":{\"colorbar\":{\"outlinewidth\":0,\"ticks\":\"\"}}}],\"scatterpolargl\":[{\"type\":\"scatterpolargl\",\"marker\":{\"colorbar\":{\"outlinewidth\":0,\"ticks\":\"\"}}}],\"bar\":[{\"error_x\":{\"color\":\"#2a3f5f\"},\"error_y\":{\"color\":\"#2a3f5f\"},\"marker\":{\"line\":{\"color\":\"#E5ECF6\",\"width\":0.5},\"pattern\":{\"fillmode\":\"overlay\",\"size\":10,\"solidity\":0.2}},\"type\":\"bar\"}],\"scattergeo\":[{\"type\":\"scattergeo\",\"marker\":{\"colorbar\":{\"outlinewidth\":0,\"ticks\":\"\"}}}],\"scatterpolar\":[{\"type\":\"scatterpolar\",\"marker\":{\"colorbar\":{\"outlinewidth\":0,\"ticks\":\"\"}}}],\"histogram\":[{\"marker\":{\"pattern\":{\"fillmode\":\"overlay\",\"size\":10,\"solidity\":0.2}},\"type\":\"histogram\"}],\"scattergl\":[{\"type\":\"scattergl\",\"marker\":{\"colorbar\":{\"outlinewidth\":0,\"ticks\":\"\"}}}],\"scatter3d\":[{\"type\":\"scatter3d\",\"line\":{\"colorbar\":{\"outlinewidth\":0,\"ticks\":\"\"}},\"marker\":{\"colorbar\":{\"outlinewidth\":0,\"ticks\":\"\"}}}],\"scattermapbox\":[{\"type\":\"scattermapbox\",\"marker\":{\"colorbar\":{\"outlinewidth\":0,\"ticks\":\"\"}}}],\"scatterternary\":[{\"type\":\"scatterternary\",\"marker\":{\"colorbar\":{\"outlinewidth\":0,\"ticks\":\"\"}}}],\"scattercarpet\":[{\"type\":\"scattercarpet\",\"marker\":{\"colorbar\":{\"outlinewidth\":0,\"ticks\":\"\"}}}],\"carpet\":[{\"aaxis\":{\"endlinecolor\":\"#2a3f5f\",\"gridcolor\":\"white\",\"linecolor\":\"white\",\"minorgridcolor\":\"white\",\"startlinecolor\":\"#2a3f5f\"},\"baxis\":{\"endlinecolor\":\"#2a3f5f\",\"gridcolor\":\"white\",\"linecolor\":\"white\",\"minorgridcolor\":\"white\",\"startlinecolor\":\"#2a3f5f\"},\"type\":\"carpet\"}],\"table\":[{\"cells\":{\"fill\":{\"color\":\"#EBF0F8\"},\"line\":{\"color\":\"white\"}},\"header\":{\"fill\":{\"color\":\"#C8D4E3\"},\"line\":{\"color\":\"white\"}},\"type\":\"table\"}],\"barpolar\":[{\"marker\":{\"line\":{\"color\":\"#E5ECF6\",\"width\":0.5},\"pattern\":{\"fillmode\":\"overlay\",\"size\":10,\"solidity\":0.2}},\"type\":\"barpolar\"}],\"pie\":[{\"automargin\":true,\"type\":\"pie\"}]},\"layout\":{\"autotypenumbers\":\"strict\",\"colorway\":[\"#636efa\",\"#EF553B\",\"#00cc96\",\"#ab63fa\",\"#FFA15A\",\"#19d3f3\",\"#FF6692\",\"#B6E880\",\"#FF97FF\",\"#FECB52\"],\"font\":{\"color\":\"#2a3f5f\"},\"hovermode\":\"closest\",\"hoverlabel\":{\"align\":\"left\"},\"paper_bgcolor\":\"white\",\"plot_bgcolor\":\"#E5ECF6\",\"polar\":{\"bgcolor\":\"#E5ECF6\",\"angularaxis\":{\"gridcolor\":\"white\",\"linecolor\":\"white\",\"ticks\":\"\"},\"radialaxis\":{\"gridcolor\":\"white\",\"linecolor\":\"white\",\"ticks\":\"\"}},\"ternary\":{\"bgcolor\":\"#E5ECF6\",\"aaxis\":{\"gridcolor\":\"white\",\"linecolor\":\"white\",\"ticks\":\"\"},\"baxis\":{\"gridcolor\":\"white\",\"linecolor\":\"white\",\"ticks\":\"\"},\"caxis\":{\"gridcolor\":\"white\",\"linecolor\":\"white\",\"ticks\":\"\"}},\"coloraxis\":{\"colorbar\":{\"outlinewidth\":0,\"ticks\":\"\"}},\"colorscale\":{\"sequential\":[[0.0,\"#0d0887\"],[0.1111111111111111,\"#46039f\"],[0.2222222222222222,\"#7201a8\"],[0.3333333333333333,\"#9c179e\"],[0.4444444444444444,\"#bd3786\"],[0.5555555555555556,\"#d8576b\"],[0.6666666666666666,\"#ed7953\"],[0.7777777777777778,\"#fb9f3a\"],[0.8888888888888888,\"#fdca26\"],[1.0,\"#f0f921\"]],\"sequentialminus\":[[0.0,\"#0d0887\"],[0.1111111111111111,\"#46039f\"],[0.2222222222222222,\"#7201a8\"],[0.3333333333333333,\"#9c179e\"],[0.4444444444444444,\"#bd3786\"],[0.5555555555555556,\"#d8576b\"],[0.6666666666666666,\"#ed7953\"],[0.7777777777777778,\"#fb9f3a\"],[0.8888888888888888,\"#fdca26\"],[1.0,\"#f0f921\"]],\"diverging\":[[0,\"#8e0152\"],[0.1,\"#c51b7d\"],[0.2,\"#de77ae\"],[0.3,\"#f1b6da\"],[0.4,\"#fde0ef\"],[0.5,\"#f7f7f7\"],[0.6,\"#e6f5d0\"],[0.7,\"#b8e186\"],[0.8,\"#7fbc41\"],[0.9,\"#4d9221\"],[1,\"#276419\"]]},\"xaxis\":{\"gridcolor\":\"white\",\"linecolor\":\"white\",\"ticks\":\"\",\"title\":{\"standoff\":15},\"zerolinecolor\":\"white\",\"automargin\":true,\"zerolinewidth\":2},\"yaxis\":{\"gridcolor\":\"white\",\"linecolor\":\"white\",\"ticks\":\"\",\"title\":{\"standoff\":15},\"zerolinecolor\":\"white\",\"automargin\":true,\"zerolinewidth\":2},\"scene\":{\"xaxis\":{\"backgroundcolor\":\"#E5ECF6\",\"gridcolor\":\"white\",\"linecolor\":\"white\",\"showbackground\":true,\"ticks\":\"\",\"zerolinecolor\":\"white\",\"gridwidth\":2},\"yaxis\":{\"backgroundcolor\":\"#E5ECF6\",\"gridcolor\":\"white\",\"linecolor\":\"white\",\"showbackground\":true,\"ticks\":\"\",\"zerolinecolor\":\"white\",\"gridwidth\":2},\"zaxis\":{\"backgroundcolor\":\"#E5ECF6\",\"gridcolor\":\"white\",\"linecolor\":\"white\",\"showbackground\":true,\"ticks\":\"\",\"zerolinecolor\":\"white\",\"gridwidth\":2}},\"shapedefaults\":{\"line\":{\"color\":\"#2a3f5f\"}},\"annotationdefaults\":{\"arrowcolor\":\"#2a3f5f\",\"arrowhead\":0,\"arrowwidth\":1},\"geo\":{\"bgcolor\":\"white\",\"landcolor\":\"#E5ECF6\",\"subunitcolor\":\"white\",\"showland\":true,\"showlakes\":true,\"lakecolor\":\"white\"},\"title\":{\"x\":0.05},\"mapbox\":{\"style\":\"light\"}}},\"xaxis\":{\"anchor\":\"y\",\"domain\":[0.0,1.0],\"title\":{\"text\":\"cold_rent\"}},\"yaxis\":{\"anchor\":\"x\",\"domain\":[0.0,0.8316],\"title\":{\"text\":\"count\"}},\"xaxis2\":{\"anchor\":\"y2\",\"domain\":[0.0,1.0],\"matches\":\"x\",\"showticklabels\":false,\"showgrid\":true},\"yaxis2\":{\"anchor\":\"x2\",\"domain\":[0.8416,1.0],\"matches\":\"y2\",\"showticklabels\":false,\"showline\":false,\"ticks\":\"\",\"showgrid\":false},\"legend\":{\"tracegroupgap\":0},\"margin\":{\"t\":60},\"barmode\":\"relative\"},                        {\"responsive\": true}                    ).then(function(){\n",
              "                            \n",
              "var gd = document.getElementById('804f8d3f-d839-4ce8-b406-50c7a325659b');\n",
              "var x = new MutationObserver(function (mutations, observer) {{\n",
              "        var display = window.getComputedStyle(gd).display;\n",
              "        if (!display || display === 'none') {{\n",
              "            console.log([gd, 'removed!']);\n",
              "            Plotly.purge(gd);\n",
              "            observer.disconnect();\n",
              "        }}\n",
              "}});\n",
              "\n",
              "// Listen for the removal of the full notebook cells\n",
              "var notebookContainer = gd.closest('#notebook-container');\n",
              "if (notebookContainer) {{\n",
              "    x.observe(notebookContainer, {childList: true});\n",
              "}}\n",
              "\n",
              "// Listen for the clearing of the current output cell\n",
              "var outputEl = gd.closest('.output');\n",
              "if (outputEl) {{\n",
              "    x.observe(outputEl, {childList: true});\n",
              "}}\n",
              "\n",
              "                        })                };                            </script>        </div>\n",
              "</body>\n",
              "</html>"
            ]
          },
          "metadata": {},
          "output_type": "display_data"
        }
      ],
      "source": [
        "px.histogram(df[['cold_rent']].astype(float).dropna(), x='cold_rent', marginal='box')"
      ]
    },
    {
      "cell_type": "code",
      "execution_count": null,
      "metadata": {
        "id": "IOjd4rKJbJAV"
      },
      "outputs": [],
      "source": [
        "df['cold_rent'] = df.cold_rent.astype(float)"
      ]
    },
    {
      "cell_type": "code",
      "execution_count": null,
      "metadata": {
        "id": "fJOTBKQBbJAW"
      },
      "outputs": [],
      "source": [
        "def get_cold_rent(row):\n",
        "    if not pd.isna(row.cold_rent): \n",
        "        return float(row.cold_rent)\n",
        "    else:\n",
        "        return row.rent * warm_cold_rent_ratio"
      ]
    },
    {
      "cell_type": "code",
      "execution_count": null,
      "metadata": {
        "id": "fMkIdrXKbJAY"
      },
      "outputs": [],
      "source": [
        "df['cold_rent'] = df.apply(get_cold_rent, axis=1)"
      ]
    },
    {
      "cell_type": "code",
      "execution_count": null,
      "metadata": {
        "colab": {
          "base_uri": "https://localhost:8080/",
          "height": 542
        },
        "id": "T1aZVcz6bJAd",
        "outputId": "d3cb9edb-db9a-479a-f6c1-0cea08cbd1c5"
      },
      "outputs": [
        {
          "data": {
            "text/html": [
              "<html>\n",
              "<head><meta charset=\"utf-8\" /></head>\n",
              "<body>\n",
              "    <div>            <script src=\"https://cdnjs.cloudflare.com/ajax/libs/mathjax/2.7.5/MathJax.js?config=TeX-AMS-MML_SVG\"></script><script type=\"text/javascript\">if (window.MathJax && window.MathJax.Hub && window.MathJax.Hub.Config) {window.MathJax.Hub.Config({SVG: {font: \"STIX-Web\"}});}</script>                <script type=\"text/javascript\">window.PlotlyConfig = {MathJaxConfig: 'local'};</script>\n",
              "        <script src=\"https://cdn.plot.ly/plotly-2.18.2.min.js\"></script>                <div id=\"1518a1b3-f611-457c-a5d9-609edf142747\" class=\"plotly-graph-div\" style=\"height:525px; width:100%;\"></div>            <script type=\"text/javascript\">                                    window.PLOTLYENV=window.PLOTLYENV || {};                                    if (document.getElementById(\"1518a1b3-f611-457c-a5d9-609edf142747\")) {                    Plotly.newPlot(                        \"1518a1b3-f611-457c-a5d9-609edf142747\",                        [{\"alignmentgroup\":\"True\",\"bingroup\":\"x\",\"hovertemplate\":\"cold_rent=%{x}<br>count=%{y}<extra></extra>\",\"legendgroup\":\"\",\"marker\":{\"color\":\"#636efa\",\"pattern\":{\"shape\":\"\"}},\"name\":\"\",\"offsetgroup\":\"\",\"orientation\":\"v\",\"showlegend\":false,\"x\":[2199.0,973.51,799.0,1556.0061723701365,1931.5962144577973,652.0,1283.2957332364974,540.73,391.93,1534.0,1999.0,1979.2059803071093,2150.0,5700.0,1199.7,1279.76,1169.14,760.0,713.26,1799.0,1554.9689596141336,1295.0,1556.669308394466,901.184853576261,2650.0,1384.0,607.8746889688931,1052.3713653795314,1946.8993534807905,1550.0,1972.404585185779,1895.8888900708134,1832.125810808342,2262.2290347934654,1213.8959977672237,2695.0528168271203,901.0,614.24,418.11,1139.2336828228206,2068.474291274569,2784.32112779458,271.04,3050.0,1515.0,1164.84,656.3346292083713,407.97318460909474,1565.03,361.15,718.39735969051,2300.0,1998.0,2490.0,2490.0,829.7702048022933,1724.85,815.3172401694663,715.0,1760.0,3825.0,4950.0,891.832935284432,1399.0,1394.2859998727058,1273.5612364690935,755.8050328578265,1298.0,4300.0,1300.0,1645.83,1115.0,2100.0,1330.5229206102345,1317.7703047577402,1211.2859623894133,3740.7673167316498,1490.0,3000.0,1011.2654336149916,1334.7737925610659,880.0,2278.467365645641,1810.0,382.5784755748278,1292.2650730527519,871.4287499204412,1990.0,1682.0,1368.7807681677173,1690.0,675.0384657920296,1790.0,2744.5754750543065,2650.0,3390.0,1490.0,326.00787165316325,602.07,765.1569511496556,3173.3949357102783,3645.547785033026,2873.56,3825.7847557482783,1902.5032468263073,1700.3487803325681,2858.634871239015,3115.2515091668065,1768.3627315458707,1750.0,1487.8051827909972,2300.0,3320.0,1972.404585185779,1053.0,1049.0,875.0,3804.530395994121,1450.0,5041.534133686065,1761.17,1670.0,1266.6,1444.64,1390.0,1000.0,1122.2301950194949,671.0,1237.0037376919433,947.0,1373.5162395209434,1258.2580974461005,1937.0,2172.1955668748556,950.24,1100.25,1388.3347791415417,2750.0,1171.97,1105.2267072161692,1105.2267072161692,1215.0,799.0,1500.0,1105.2267072161692,841.6726462646212,1397.93,1105.2267072161692,3239.46,1199.0,1300.0,1601.1079237684578,374.8758955999213,841.6726462646212,1290.0,3054.8211135137867,1090.0,620.0,1970.0,1423.1494204188512,1600.0,759.0,321.87,1178.7072797582412,579.0,579.0,579.0,901.0,1616.181515706106,421.7970201931985,529.0,735.0,579.0,1929.0,433.03,1194.0,2549.6729961086858,230.60980333260454,390.1535293912094,313.71,1336.02,2200.0,570.3479913869534,1210.0,1103.3,1415.540359626863,2500.0,948.794619425573,1447.8469864531817,1853.3801705624992,849.93,2015.5169285111112,1398.5368718235372,657.6949082326373,1277.0,758.0,2601.533633908829,950.0,980.0,1650.0,1460.0,1162.08,626.9951110037329,1299.2790117716236,599.4239555306402,515.0356455627349,317.42,1190.1761322815844,1190.1761322815844,1142.87,1560.0,347.5342872121736,1195.04,1437.6448937711864,1375.0,1912.54,1390.0,1350.0,1290.0,1450.0,3564.4666534428675,1450.0,1350.0,2113.86,1450.0,1168.77,1150.0,2269.9656217439783,461.29,1645.2319746180879,743.16,1980.0,670.23,607.53,441.38,2193.4499266290127,1912.54,1516.6175928737325,573.6976784842084,285.74,2350.0,321.4849438974786,1336.02,1602.13,3950.0,9500.0,1199.0,1553.85,876.81,1495.62,2184.0,2058.0,1994.1,900.0,599.0,1069.5193828291854,1672.28,1912.8923778741391,568.2565623871442,1500.0,1120.0,1716.0,1147.7354267244834,1275.2615852494262,605.68,557.799417388099,824.0,415.79478899862454,4000.0,2100.0,529.0,1798.0,1399.0,749.0,445.63,729.0,1530.3139022993112,1365.0,272.95,2547.972647328353,284.39,5828.353528297156,190.74,518.0,1940.0,3677.590857798393,1960.75,1872.6,1346.0,2200.0,1936.62074510368,718.39735969051,655.484454818205,1335.9980436829055,578.1185853130731,682.6900353035261,674.1882914018632,971.0,1972.404585185779,1106.1874042770573,620.6273048213874,805.31,1521.52,575.92,1004.3110071034313,1843.16,3008.15,1910.0,1300.7668169544145,2485.0,1275.2615852494262,1266.7598413477633,884.6149547119202,437.9,2950.0,1004.3110071034313,1250.0,2298.0,419.74,1325.2518393912035,1352.0748414009497,1835.6965432470404,450.16,2550.0,700.38,1270.704650518135,1544.766866932138,1785.0,4367.52,545.3,1450.0,1450.0,2044.669408349913,1320.0,1390.0,638.0,1105.2267072161692,746.2065639928492,1568.571749856794,1710.0,1224.251121839449,2112.683359563216,1020.2092681995408,780.0,2873.58943876204,2123.7356266353777,950.0,897.2995566132013,1462.2999510860086,1683.3452925292424,2019.1641766449245,822.4587050468632,1517.5612864468171,2070.174640054902,1147.7354267244834,1900.0,1096.7249633145063,1155.38699623598,1445.296463282683,966.4102327898185,1275.2615852494262,1062.717987707855,1980.0,1890.0,884.1813657729354,828.920030412127,1699.8981879057799,1266.7598413477633,1020.2092681995408,1632.0,436.079949947992,1062.717987707855,1400.0,2379.6381180754292,986.2022925928895,807.6656706579698,1406.5200093471988,550.0,845.0393368496797,4144.600152060635,1214.59314076716,836.91166967969,777.7990443314283,660.1349087324146,753.297018406836,807.6656706579698,2050.0,323.0237595436796,568.7666670212441,1190.2441462327977,445.0,670.0,785.9352132453197,1199.0,1422.54,1807.0,618.0767816508885,363.0244646010033,1076.558826779762,403.8328353289849,1445.296463282683,2480.0,1235.1333540335775,1250.0,1395.0,1699.0,1911.42,797.4635779759744,1400.0,1400.0,2393.2409083180896,1400.0,987.0524669830558,1732.2,479.4218403586692,546.4665927671824,1400.0,357.14975956495425,687.331987473834,527.1081219030962,1639.0,750.0,1057.41,762.15,841.19,699.0,1164.7389145278091,568.48,605.3241657983942,799.0,1059.3172901471899,1392.0,975.75,1392.0,964.98,582.3694572639046,1200.2,1300.7668169544145,2050.0,2077.0,1333.0,1491.8,2077.0,1550.0,1390.0351279218744,652.9339316477061,3500.0,497.3520182472762,1212.6,1955.4010973824534,1150.0,800.0,680.0,1448.1,1972.404585185779,875.6796218712726,550.105339157094,2627.3789353698844,695.0,594.5269510432823,719.2475340806762,956.3866767297579,2190.0,2458.916879958435,2225.0,1477.4,3111.0,2315.0,1136.1815567621238,3264.0,1577.0564902706535,484.5994023947819,1986.17,699.0,1222.0,815.0,1190.2441462327977,701.3938718871843,1274.4114108592598,1759.860987644208,744.7527657856648,1972.404585185779,1445.296463282683,558.1394871441655,750.0,585.0,1550.0,1275.2615852494262,1411.2894876760315,1490.0,358.2,1300.0,2549.6729961086858,569.6423466431153,731.1499755430043,1999.0,753.1,658.0,1842.43,799.0,999.5670340063035,1020.2092681995408,1599.0,1147.3783534806137,1126.3,1614.89,1925.0,1466.0,1578.66,1280.0,1504.8086705943228,1141.7842059933196,637.6307926247131,562.8,979.0,749.0,836.9966871187066,565.16,1800.0,1844.8784266608363,845.9235182154526,1062.717987707855,845.9235182154526,783.5122162333457,1051.4276718064468,926.6900852812496,1835.4,1281.99,704.7945694478494,798.09,1270.1605389084284,704.7945694478494,2128.88,2199.0,1004.9061291765478,1147.7354267244834,2794.08,986.6698885074809,985.0,1478.7,427.7,1453.2285903429342,1305.272741222296,1123.44,443.01737297174896,1399.0,1085.8512328642796,1676.91,2249.476418940971,2236.290214149492,691.5318489612554,1567.17,816.1674145596327,1899.0,1865.21,1184.0,2295.470853448967,1393.877916165426,736.49,1265.909666957597,3200.0,1218.61,2250.0,1300.66,2436.166213277585,1712.429758416831,1458.42,1044.35,1938.3976095791277,4000.0,1368.0,1033.35,1339.0,1402.7877437743687,2131.1,1711.35,930.940957232081,1775.0,1577.34,1158.84,1599.0,1133.65,988.7528157633883,2189.1990546781813,1157.11,2063.373244933571,443.0,2172.1955668748556,1096.94,1299.9166425642484,5540.64,5540.64,4416.4,1550.0,4416.4,2252.9621339406526,4416.4,1818.2509647608283,1010.9338656028266,790.1010677571344,1666.68,1800.0,955.5960145469032,762.147333808467,1728.489552647072,876.5297962614388,1766.18,284.62,1530.3139022993112,1773.65,1771.67,1148.37,1838.0770315395062,1750.81,1122.8508223243164,1450.0,1214.9842209866365,1718.24,738.0023811277445,1130.56,1730.2,1740.61,2149.92,1900.0,1198.7458901344605,1583.5,1854.81,2204.19,1397.4,1198.7458901344605,1528.55,1513.86,1938.3976095791277,3821.4,1543.56,2487.88,2700.0,1309.66,1614.62,1700.0,1529.85,2780.0,1462.2999510860086,1849.1292986116678,1232.1067332045855,1605.82,4400.0,1621.76,2091.94,2131.92,2154.24,1950.0,1941.7813036519894,5100.0,1543.19,2274.98,789.8120084644779,1613.588483816099,1813.37,2593.4,1854.81,1492.0560547418286,1593.93,2720.0,1601.71,525.0,1880.75,1528.55,1841.94,2204.19,1677.36,2275.82,2259.45,1047.23,1820.0,4995.9222776536435,1576.88,2135.49,1943.4986559201254,2487.88,1020.0,1789.6170913000278,1641.9077927525377,1446.0,1529.44,2235.958646137327,1349.0,2125.43597541571,2149.92,1771.45,1332.5548374027321,1194.0,1099.0,1303.65,12078.427561092398,1503.07,903.7353767467599,1299.0,2162.91,1442.745940112184,1921.7852019952784,1952.44,2379.41,1600.0,1248.0,1873.01,2172.1955668748556,1872.39,1513.86,819.0,1100.1256608751717,850.0,1198.0,1117.2566748370223,2200.0,764.3067767594894,1104.5,3151.4519347000864,1330.0,561.1150975097474,777.0593926119836,2172.697169765054,2491.0,1524.3626815681473,1131.0,1154.5,1236.7826923505002,2077.0,1674.8435486275796,2390.163277025688,545.0,1295.665770613417,1299.0,1960.0,1899.0,1147.7354267244834,2975.6103655819943,716.6970109101775,1154.077727675124,856.125610897448,518.6063780014333,3336.934481402665,1079.0,528.8084706834287,1161.338216967144,663.1360243297015,629.9792231132164,655.484454818205,3434.7045362717877,1514.0,593.23,654.6342804280387,1853.3801705624992,612.1255609197245,1901.5,514.0,656.3346292083713,1674.8435486275796,589.1708523852349,815.3172401694663,551.7631792179184,2337.979572957281,1070.3695572193517,754.9548584676602],\"xaxis\":\"x\",\"yaxis\":\"y\",\"type\":\"histogram\"},{\"alignmentgroup\":\"True\",\"hovertemplate\":\"cold_rent=%{x}<extra></extra>\",\"legendgroup\":\"\",\"marker\":{\"color\":\"#636efa\"},\"name\":\"\",\"notched\":true,\"offsetgroup\":\"\",\"showlegend\":false,\"x\":[2199.0,973.51,799.0,1556.0061723701365,1931.5962144577973,652.0,1283.2957332364974,540.73,391.93,1534.0,1999.0,1979.2059803071093,2150.0,5700.0,1199.7,1279.76,1169.14,760.0,713.26,1799.0,1554.9689596141336,1295.0,1556.669308394466,901.184853576261,2650.0,1384.0,607.8746889688931,1052.3713653795314,1946.8993534807905,1550.0,1972.404585185779,1895.8888900708134,1832.125810808342,2262.2290347934654,1213.8959977672237,2695.0528168271203,901.0,614.24,418.11,1139.2336828228206,2068.474291274569,2784.32112779458,271.04,3050.0,1515.0,1164.84,656.3346292083713,407.97318460909474,1565.03,361.15,718.39735969051,2300.0,1998.0,2490.0,2490.0,829.7702048022933,1724.85,815.3172401694663,715.0,1760.0,3825.0,4950.0,891.832935284432,1399.0,1394.2859998727058,1273.5612364690935,755.8050328578265,1298.0,4300.0,1300.0,1645.83,1115.0,2100.0,1330.5229206102345,1317.7703047577402,1211.2859623894133,3740.7673167316498,1490.0,3000.0,1011.2654336149916,1334.7737925610659,880.0,2278.467365645641,1810.0,382.5784755748278,1292.2650730527519,871.4287499204412,1990.0,1682.0,1368.7807681677173,1690.0,675.0384657920296,1790.0,2744.5754750543065,2650.0,3390.0,1490.0,326.00787165316325,602.07,765.1569511496556,3173.3949357102783,3645.547785033026,2873.56,3825.7847557482783,1902.5032468263073,1700.3487803325681,2858.634871239015,3115.2515091668065,1768.3627315458707,1750.0,1487.8051827909972,2300.0,3320.0,1972.404585185779,1053.0,1049.0,875.0,3804.530395994121,1450.0,5041.534133686065,1761.17,1670.0,1266.6,1444.64,1390.0,1000.0,1122.2301950194949,671.0,1237.0037376919433,947.0,1373.5162395209434,1258.2580974461005,1937.0,2172.1955668748556,950.24,1100.25,1388.3347791415417,2750.0,1171.97,1105.2267072161692,1105.2267072161692,1215.0,799.0,1500.0,1105.2267072161692,841.6726462646212,1397.93,1105.2267072161692,3239.46,1199.0,1300.0,1601.1079237684578,374.8758955999213,841.6726462646212,1290.0,3054.8211135137867,1090.0,620.0,1970.0,1423.1494204188512,1600.0,759.0,321.87,1178.7072797582412,579.0,579.0,579.0,901.0,1616.181515706106,421.7970201931985,529.0,735.0,579.0,1929.0,433.03,1194.0,2549.6729961086858,230.60980333260454,390.1535293912094,313.71,1336.02,2200.0,570.3479913869534,1210.0,1103.3,1415.540359626863,2500.0,948.794619425573,1447.8469864531817,1853.3801705624992,849.93,2015.5169285111112,1398.5368718235372,657.6949082326373,1277.0,758.0,2601.533633908829,950.0,980.0,1650.0,1460.0,1162.08,626.9951110037329,1299.2790117716236,599.4239555306402,515.0356455627349,317.42,1190.1761322815844,1190.1761322815844,1142.87,1560.0,347.5342872121736,1195.04,1437.6448937711864,1375.0,1912.54,1390.0,1350.0,1290.0,1450.0,3564.4666534428675,1450.0,1350.0,2113.86,1450.0,1168.77,1150.0,2269.9656217439783,461.29,1645.2319746180879,743.16,1980.0,670.23,607.53,441.38,2193.4499266290127,1912.54,1516.6175928737325,573.6976784842084,285.74,2350.0,321.4849438974786,1336.02,1602.13,3950.0,9500.0,1199.0,1553.85,876.81,1495.62,2184.0,2058.0,1994.1,900.0,599.0,1069.5193828291854,1672.28,1912.8923778741391,568.2565623871442,1500.0,1120.0,1716.0,1147.7354267244834,1275.2615852494262,605.68,557.799417388099,824.0,415.79478899862454,4000.0,2100.0,529.0,1798.0,1399.0,749.0,445.63,729.0,1530.3139022993112,1365.0,272.95,2547.972647328353,284.39,5828.353528297156,190.74,518.0,1940.0,3677.590857798393,1960.75,1872.6,1346.0,2200.0,1936.62074510368,718.39735969051,655.484454818205,1335.9980436829055,578.1185853130731,682.6900353035261,674.1882914018632,971.0,1972.404585185779,1106.1874042770573,620.6273048213874,805.31,1521.52,575.92,1004.3110071034313,1843.16,3008.15,1910.0,1300.7668169544145,2485.0,1275.2615852494262,1266.7598413477633,884.6149547119202,437.9,2950.0,1004.3110071034313,1250.0,2298.0,419.74,1325.2518393912035,1352.0748414009497,1835.6965432470404,450.16,2550.0,700.38,1270.704650518135,1544.766866932138,1785.0,4367.52,545.3,1450.0,1450.0,2044.669408349913,1320.0,1390.0,638.0,1105.2267072161692,746.2065639928492,1568.571749856794,1710.0,1224.251121839449,2112.683359563216,1020.2092681995408,780.0,2873.58943876204,2123.7356266353777,950.0,897.2995566132013,1462.2999510860086,1683.3452925292424,2019.1641766449245,822.4587050468632,1517.5612864468171,2070.174640054902,1147.7354267244834,1900.0,1096.7249633145063,1155.38699623598,1445.296463282683,966.4102327898185,1275.2615852494262,1062.717987707855,1980.0,1890.0,884.1813657729354,828.920030412127,1699.8981879057799,1266.7598413477633,1020.2092681995408,1632.0,436.079949947992,1062.717987707855,1400.0,2379.6381180754292,986.2022925928895,807.6656706579698,1406.5200093471988,550.0,845.0393368496797,4144.600152060635,1214.59314076716,836.91166967969,777.7990443314283,660.1349087324146,753.297018406836,807.6656706579698,2050.0,323.0237595436796,568.7666670212441,1190.2441462327977,445.0,670.0,785.9352132453197,1199.0,1422.54,1807.0,618.0767816508885,363.0244646010033,1076.558826779762,403.8328353289849,1445.296463282683,2480.0,1235.1333540335775,1250.0,1395.0,1699.0,1911.42,797.4635779759744,1400.0,1400.0,2393.2409083180896,1400.0,987.0524669830558,1732.2,479.4218403586692,546.4665927671824,1400.0,357.14975956495425,687.331987473834,527.1081219030962,1639.0,750.0,1057.41,762.15,841.19,699.0,1164.7389145278091,568.48,605.3241657983942,799.0,1059.3172901471899,1392.0,975.75,1392.0,964.98,582.3694572639046,1200.2,1300.7668169544145,2050.0,2077.0,1333.0,1491.8,2077.0,1550.0,1390.0351279218744,652.9339316477061,3500.0,497.3520182472762,1212.6,1955.4010973824534,1150.0,800.0,680.0,1448.1,1972.404585185779,875.6796218712726,550.105339157094,2627.3789353698844,695.0,594.5269510432823,719.2475340806762,956.3866767297579,2190.0,2458.916879958435,2225.0,1477.4,3111.0,2315.0,1136.1815567621238,3264.0,1577.0564902706535,484.5994023947819,1986.17,699.0,1222.0,815.0,1190.2441462327977,701.3938718871843,1274.4114108592598,1759.860987644208,744.7527657856648,1972.404585185779,1445.296463282683,558.1394871441655,750.0,585.0,1550.0,1275.2615852494262,1411.2894876760315,1490.0,358.2,1300.0,2549.6729961086858,569.6423466431153,731.1499755430043,1999.0,753.1,658.0,1842.43,799.0,999.5670340063035,1020.2092681995408,1599.0,1147.3783534806137,1126.3,1614.89,1925.0,1466.0,1578.66,1280.0,1504.8086705943228,1141.7842059933196,637.6307926247131,562.8,979.0,749.0,836.9966871187066,565.16,1800.0,1844.8784266608363,845.9235182154526,1062.717987707855,845.9235182154526,783.5122162333457,1051.4276718064468,926.6900852812496,1835.4,1281.99,704.7945694478494,798.09,1270.1605389084284,704.7945694478494,2128.88,2199.0,1004.9061291765478,1147.7354267244834,2794.08,986.6698885074809,985.0,1478.7,427.7,1453.2285903429342,1305.272741222296,1123.44,443.01737297174896,1399.0,1085.8512328642796,1676.91,2249.476418940971,2236.290214149492,691.5318489612554,1567.17,816.1674145596327,1899.0,1865.21,1184.0,2295.470853448967,1393.877916165426,736.49,1265.909666957597,3200.0,1218.61,2250.0,1300.66,2436.166213277585,1712.429758416831,1458.42,1044.35,1938.3976095791277,4000.0,1368.0,1033.35,1339.0,1402.7877437743687,2131.1,1711.35,930.940957232081,1775.0,1577.34,1158.84,1599.0,1133.65,988.7528157633883,2189.1990546781813,1157.11,2063.373244933571,443.0,2172.1955668748556,1096.94,1299.9166425642484,5540.64,5540.64,4416.4,1550.0,4416.4,2252.9621339406526,4416.4,1818.2509647608283,1010.9338656028266,790.1010677571344,1666.68,1800.0,955.5960145469032,762.147333808467,1728.489552647072,876.5297962614388,1766.18,284.62,1530.3139022993112,1773.65,1771.67,1148.37,1838.0770315395062,1750.81,1122.8508223243164,1450.0,1214.9842209866365,1718.24,738.0023811277445,1130.56,1730.2,1740.61,2149.92,1900.0,1198.7458901344605,1583.5,1854.81,2204.19,1397.4,1198.7458901344605,1528.55,1513.86,1938.3976095791277,3821.4,1543.56,2487.88,2700.0,1309.66,1614.62,1700.0,1529.85,2780.0,1462.2999510860086,1849.1292986116678,1232.1067332045855,1605.82,4400.0,1621.76,2091.94,2131.92,2154.24,1950.0,1941.7813036519894,5100.0,1543.19,2274.98,789.8120084644779,1613.588483816099,1813.37,2593.4,1854.81,1492.0560547418286,1593.93,2720.0,1601.71,525.0,1880.75,1528.55,1841.94,2204.19,1677.36,2275.82,2259.45,1047.23,1820.0,4995.9222776536435,1576.88,2135.49,1943.4986559201254,2487.88,1020.0,1789.6170913000278,1641.9077927525377,1446.0,1529.44,2235.958646137327,1349.0,2125.43597541571,2149.92,1771.45,1332.5548374027321,1194.0,1099.0,1303.65,12078.427561092398,1503.07,903.7353767467599,1299.0,2162.91,1442.745940112184,1921.7852019952784,1952.44,2379.41,1600.0,1248.0,1873.01,2172.1955668748556,1872.39,1513.86,819.0,1100.1256608751717,850.0,1198.0,1117.2566748370223,2200.0,764.3067767594894,1104.5,3151.4519347000864,1330.0,561.1150975097474,777.0593926119836,2172.697169765054,2491.0,1524.3626815681473,1131.0,1154.5,1236.7826923505002,2077.0,1674.8435486275796,2390.163277025688,545.0,1295.665770613417,1299.0,1960.0,1899.0,1147.7354267244834,2975.6103655819943,716.6970109101775,1154.077727675124,856.125610897448,518.6063780014333,3336.934481402665,1079.0,528.8084706834287,1161.338216967144,663.1360243297015,629.9792231132164,655.484454818205,3434.7045362717877,1514.0,593.23,654.6342804280387,1853.3801705624992,612.1255609197245,1901.5,514.0,656.3346292083713,1674.8435486275796,589.1708523852349,815.3172401694663,551.7631792179184,2337.979572957281,1070.3695572193517,754.9548584676602],\"xaxis\":\"x2\",\"yaxis\":\"y2\",\"type\":\"box\"}],                        {\"template\":{\"data\":{\"histogram2dcontour\":[{\"type\":\"histogram2dcontour\",\"colorbar\":{\"outlinewidth\":0,\"ticks\":\"\"},\"colorscale\":[[0.0,\"#0d0887\"],[0.1111111111111111,\"#46039f\"],[0.2222222222222222,\"#7201a8\"],[0.3333333333333333,\"#9c179e\"],[0.4444444444444444,\"#bd3786\"],[0.5555555555555556,\"#d8576b\"],[0.6666666666666666,\"#ed7953\"],[0.7777777777777778,\"#fb9f3a\"],[0.8888888888888888,\"#fdca26\"],[1.0,\"#f0f921\"]]}],\"choropleth\":[{\"type\":\"choropleth\",\"colorbar\":{\"outlinewidth\":0,\"ticks\":\"\"}}],\"histogram2d\":[{\"type\":\"histogram2d\",\"colorbar\":{\"outlinewidth\":0,\"ticks\":\"\"},\"colorscale\":[[0.0,\"#0d0887\"],[0.1111111111111111,\"#46039f\"],[0.2222222222222222,\"#7201a8\"],[0.3333333333333333,\"#9c179e\"],[0.4444444444444444,\"#bd3786\"],[0.5555555555555556,\"#d8576b\"],[0.6666666666666666,\"#ed7953\"],[0.7777777777777778,\"#fb9f3a\"],[0.8888888888888888,\"#fdca26\"],[1.0,\"#f0f921\"]]}],\"heatmap\":[{\"type\":\"heatmap\",\"colorbar\":{\"outlinewidth\":0,\"ticks\":\"\"},\"colorscale\":[[0.0,\"#0d0887\"],[0.1111111111111111,\"#46039f\"],[0.2222222222222222,\"#7201a8\"],[0.3333333333333333,\"#9c179e\"],[0.4444444444444444,\"#bd3786\"],[0.5555555555555556,\"#d8576b\"],[0.6666666666666666,\"#ed7953\"],[0.7777777777777778,\"#fb9f3a\"],[0.8888888888888888,\"#fdca26\"],[1.0,\"#f0f921\"]]}],\"heatmapgl\":[{\"type\":\"heatmapgl\",\"colorbar\":{\"outlinewidth\":0,\"ticks\":\"\"},\"colorscale\":[[0.0,\"#0d0887\"],[0.1111111111111111,\"#46039f\"],[0.2222222222222222,\"#7201a8\"],[0.3333333333333333,\"#9c179e\"],[0.4444444444444444,\"#bd3786\"],[0.5555555555555556,\"#d8576b\"],[0.6666666666666666,\"#ed7953\"],[0.7777777777777778,\"#fb9f3a\"],[0.8888888888888888,\"#fdca26\"],[1.0,\"#f0f921\"]]}],\"contourcarpet\":[{\"type\":\"contourcarpet\",\"colorbar\":{\"outlinewidth\":0,\"ticks\":\"\"}}],\"contour\":[{\"type\":\"contour\",\"colorbar\":{\"outlinewidth\":0,\"ticks\":\"\"},\"colorscale\":[[0.0,\"#0d0887\"],[0.1111111111111111,\"#46039f\"],[0.2222222222222222,\"#7201a8\"],[0.3333333333333333,\"#9c179e\"],[0.4444444444444444,\"#bd3786\"],[0.5555555555555556,\"#d8576b\"],[0.6666666666666666,\"#ed7953\"],[0.7777777777777778,\"#fb9f3a\"],[0.8888888888888888,\"#fdca26\"],[1.0,\"#f0f921\"]]}],\"surface\":[{\"type\":\"surface\",\"colorbar\":{\"outlinewidth\":0,\"ticks\":\"\"},\"colorscale\":[[0.0,\"#0d0887\"],[0.1111111111111111,\"#46039f\"],[0.2222222222222222,\"#7201a8\"],[0.3333333333333333,\"#9c179e\"],[0.4444444444444444,\"#bd3786\"],[0.5555555555555556,\"#d8576b\"],[0.6666666666666666,\"#ed7953\"],[0.7777777777777778,\"#fb9f3a\"],[0.8888888888888888,\"#fdca26\"],[1.0,\"#f0f921\"]]}],\"mesh3d\":[{\"type\":\"mesh3d\",\"colorbar\":{\"outlinewidth\":0,\"ticks\":\"\"}}],\"scatter\":[{\"fillpattern\":{\"fillmode\":\"overlay\",\"size\":10,\"solidity\":0.2},\"type\":\"scatter\"}],\"parcoords\":[{\"type\":\"parcoords\",\"line\":{\"colorbar\":{\"outlinewidth\":0,\"ticks\":\"\"}}}],\"scatterpolargl\":[{\"type\":\"scatterpolargl\",\"marker\":{\"colorbar\":{\"outlinewidth\":0,\"ticks\":\"\"}}}],\"bar\":[{\"error_x\":{\"color\":\"#2a3f5f\"},\"error_y\":{\"color\":\"#2a3f5f\"},\"marker\":{\"line\":{\"color\":\"#E5ECF6\",\"width\":0.5},\"pattern\":{\"fillmode\":\"overlay\",\"size\":10,\"solidity\":0.2}},\"type\":\"bar\"}],\"scattergeo\":[{\"type\":\"scattergeo\",\"marker\":{\"colorbar\":{\"outlinewidth\":0,\"ticks\":\"\"}}}],\"scatterpolar\":[{\"type\":\"scatterpolar\",\"marker\":{\"colorbar\":{\"outlinewidth\":0,\"ticks\":\"\"}}}],\"histogram\":[{\"marker\":{\"pattern\":{\"fillmode\":\"overlay\",\"size\":10,\"solidity\":0.2}},\"type\":\"histogram\"}],\"scattergl\":[{\"type\":\"scattergl\",\"marker\":{\"colorbar\":{\"outlinewidth\":0,\"ticks\":\"\"}}}],\"scatter3d\":[{\"type\":\"scatter3d\",\"line\":{\"colorbar\":{\"outlinewidth\":0,\"ticks\":\"\"}},\"marker\":{\"colorbar\":{\"outlinewidth\":0,\"ticks\":\"\"}}}],\"scattermapbox\":[{\"type\":\"scattermapbox\",\"marker\":{\"colorbar\":{\"outlinewidth\":0,\"ticks\":\"\"}}}],\"scatterternary\":[{\"type\":\"scatterternary\",\"marker\":{\"colorbar\":{\"outlinewidth\":0,\"ticks\":\"\"}}}],\"scattercarpet\":[{\"type\":\"scattercarpet\",\"marker\":{\"colorbar\":{\"outlinewidth\":0,\"ticks\":\"\"}}}],\"carpet\":[{\"aaxis\":{\"endlinecolor\":\"#2a3f5f\",\"gridcolor\":\"white\",\"linecolor\":\"white\",\"minorgridcolor\":\"white\",\"startlinecolor\":\"#2a3f5f\"},\"baxis\":{\"endlinecolor\":\"#2a3f5f\",\"gridcolor\":\"white\",\"linecolor\":\"white\",\"minorgridcolor\":\"white\",\"startlinecolor\":\"#2a3f5f\"},\"type\":\"carpet\"}],\"table\":[{\"cells\":{\"fill\":{\"color\":\"#EBF0F8\"},\"line\":{\"color\":\"white\"}},\"header\":{\"fill\":{\"color\":\"#C8D4E3\"},\"line\":{\"color\":\"white\"}},\"type\":\"table\"}],\"barpolar\":[{\"marker\":{\"line\":{\"color\":\"#E5ECF6\",\"width\":0.5},\"pattern\":{\"fillmode\":\"overlay\",\"size\":10,\"solidity\":0.2}},\"type\":\"barpolar\"}],\"pie\":[{\"automargin\":true,\"type\":\"pie\"}]},\"layout\":{\"autotypenumbers\":\"strict\",\"colorway\":[\"#636efa\",\"#EF553B\",\"#00cc96\",\"#ab63fa\",\"#FFA15A\",\"#19d3f3\",\"#FF6692\",\"#B6E880\",\"#FF97FF\",\"#FECB52\"],\"font\":{\"color\":\"#2a3f5f\"},\"hovermode\":\"closest\",\"hoverlabel\":{\"align\":\"left\"},\"paper_bgcolor\":\"white\",\"plot_bgcolor\":\"#E5ECF6\",\"polar\":{\"bgcolor\":\"#E5ECF6\",\"angularaxis\":{\"gridcolor\":\"white\",\"linecolor\":\"white\",\"ticks\":\"\"},\"radialaxis\":{\"gridcolor\":\"white\",\"linecolor\":\"white\",\"ticks\":\"\"}},\"ternary\":{\"bgcolor\":\"#E5ECF6\",\"aaxis\":{\"gridcolor\":\"white\",\"linecolor\":\"white\",\"ticks\":\"\"},\"baxis\":{\"gridcolor\":\"white\",\"linecolor\":\"white\",\"ticks\":\"\"},\"caxis\":{\"gridcolor\":\"white\",\"linecolor\":\"white\",\"ticks\":\"\"}},\"coloraxis\":{\"colorbar\":{\"outlinewidth\":0,\"ticks\":\"\"}},\"colorscale\":{\"sequential\":[[0.0,\"#0d0887\"],[0.1111111111111111,\"#46039f\"],[0.2222222222222222,\"#7201a8\"],[0.3333333333333333,\"#9c179e\"],[0.4444444444444444,\"#bd3786\"],[0.5555555555555556,\"#d8576b\"],[0.6666666666666666,\"#ed7953\"],[0.7777777777777778,\"#fb9f3a\"],[0.8888888888888888,\"#fdca26\"],[1.0,\"#f0f921\"]],\"sequentialminus\":[[0.0,\"#0d0887\"],[0.1111111111111111,\"#46039f\"],[0.2222222222222222,\"#7201a8\"],[0.3333333333333333,\"#9c179e\"],[0.4444444444444444,\"#bd3786\"],[0.5555555555555556,\"#d8576b\"],[0.6666666666666666,\"#ed7953\"],[0.7777777777777778,\"#fb9f3a\"],[0.8888888888888888,\"#fdca26\"],[1.0,\"#f0f921\"]],\"diverging\":[[0,\"#8e0152\"],[0.1,\"#c51b7d\"],[0.2,\"#de77ae\"],[0.3,\"#f1b6da\"],[0.4,\"#fde0ef\"],[0.5,\"#f7f7f7\"],[0.6,\"#e6f5d0\"],[0.7,\"#b8e186\"],[0.8,\"#7fbc41\"],[0.9,\"#4d9221\"],[1,\"#276419\"]]},\"xaxis\":{\"gridcolor\":\"white\",\"linecolor\":\"white\",\"ticks\":\"\",\"title\":{\"standoff\":15},\"zerolinecolor\":\"white\",\"automargin\":true,\"zerolinewidth\":2},\"yaxis\":{\"gridcolor\":\"white\",\"linecolor\":\"white\",\"ticks\":\"\",\"title\":{\"standoff\":15},\"zerolinecolor\":\"white\",\"automargin\":true,\"zerolinewidth\":2},\"scene\":{\"xaxis\":{\"backgroundcolor\":\"#E5ECF6\",\"gridcolor\":\"white\",\"linecolor\":\"white\",\"showbackground\":true,\"ticks\":\"\",\"zerolinecolor\":\"white\",\"gridwidth\":2},\"yaxis\":{\"backgroundcolor\":\"#E5ECF6\",\"gridcolor\":\"white\",\"linecolor\":\"white\",\"showbackground\":true,\"ticks\":\"\",\"zerolinecolor\":\"white\",\"gridwidth\":2},\"zaxis\":{\"backgroundcolor\":\"#E5ECF6\",\"gridcolor\":\"white\",\"linecolor\":\"white\",\"showbackground\":true,\"ticks\":\"\",\"zerolinecolor\":\"white\",\"gridwidth\":2}},\"shapedefaults\":{\"line\":{\"color\":\"#2a3f5f\"}},\"annotationdefaults\":{\"arrowcolor\":\"#2a3f5f\",\"arrowhead\":0,\"arrowwidth\":1},\"geo\":{\"bgcolor\":\"white\",\"landcolor\":\"#E5ECF6\",\"subunitcolor\":\"white\",\"showland\":true,\"showlakes\":true,\"lakecolor\":\"white\"},\"title\":{\"x\":0.05},\"mapbox\":{\"style\":\"light\"}}},\"xaxis\":{\"anchor\":\"y\",\"domain\":[0.0,1.0],\"title\":{\"text\":\"cold_rent\"}},\"yaxis\":{\"anchor\":\"x\",\"domain\":[0.0,0.8316],\"title\":{\"text\":\"count\"}},\"xaxis2\":{\"anchor\":\"y2\",\"domain\":[0.0,1.0],\"matches\":\"x\",\"showticklabels\":false,\"showgrid\":true},\"yaxis2\":{\"anchor\":\"x2\",\"domain\":[0.8416,1.0],\"matches\":\"y2\",\"showticklabels\":false,\"showline\":false,\"ticks\":\"\",\"showgrid\":false},\"legend\":{\"tracegroupgap\":0},\"margin\":{\"t\":60},\"barmode\":\"relative\"},                        {\"responsive\": true}                    ).then(function(){\n",
              "                            \n",
              "var gd = document.getElementById('1518a1b3-f611-457c-a5d9-609edf142747');\n",
              "var x = new MutationObserver(function (mutations, observer) {{\n",
              "        var display = window.getComputedStyle(gd).display;\n",
              "        if (!display || display === 'none') {{\n",
              "            console.log([gd, 'removed!']);\n",
              "            Plotly.purge(gd);\n",
              "            observer.disconnect();\n",
              "        }}\n",
              "}});\n",
              "\n",
              "// Listen for the removal of the full notebook cells\n",
              "var notebookContainer = gd.closest('#notebook-container');\n",
              "if (notebookContainer) {{\n",
              "    x.observe(notebookContainer, {childList: true});\n",
              "}}\n",
              "\n",
              "// Listen for the clearing of the current output cell\n",
              "var outputEl = gd.closest('.output');\n",
              "if (outputEl) {{\n",
              "    x.observe(outputEl, {childList: true});\n",
              "}}\n",
              "\n",
              "                        })                };                            </script>        </div>\n",
              "</body>\n",
              "</html>"
            ]
          },
          "metadata": {},
          "output_type": "display_data"
        }
      ],
      "source": [
        "px.histogram(df, x='cold_rent', marginal='box')"
      ]
    },
    {
      "cell_type": "markdown",
      "metadata": {},
      "source": [
        "Thats the small analysis I do with ReDi School of Digital Intergation with our Teachers."
      ]
    },
    {
      "cell_type": "code",
      "execution_count": null,
      "metadata": {
        "id": "KxqhBC9UPP1f"
      },
      "outputs": [],
      "source": []
    }
  ],
  "metadata": {
    "colab": {
      "collapsed_sections": [
        "ax6568FAbI_1"
      ],
      "provenance": []
    },
    "kernelspec": {
      "display_name": "Python 3",
      "language": "python",
      "name": "python3"
    },
    "language_info": {
      "codemirror_mode": {
        "name": "ipython",
        "version": 3
      },
      "file_extension": ".py",
      "mimetype": "text/x-python",
      "name": "python",
      "nbconvert_exporter": "python",
      "pygments_lexer": "ipython3",
      "version": "3.6.9"
    },
    "varInspector": {
      "cols": {
        "lenName": 16,
        "lenType": 16,
        "lenVar": 40
      },
      "kernels_config": {
        "python": {
          "delete_cmd_postfix": "",
          "delete_cmd_prefix": "del ",
          "library": "var_list.py",
          "varRefreshCmd": "print(var_dic_list())"
        },
        "r": {
          "delete_cmd_postfix": ") ",
          "delete_cmd_prefix": "rm(",
          "library": "var_list.r",
          "varRefreshCmd": "cat(var_dic_list()) "
        }
      },
      "types_to_exclude": [
        "module",
        "function",
        "builtin_function_or_method",
        "instance",
        "_Feature"
      ],
      "window_display": false
    }
  },
  "nbformat": 4,
  "nbformat_minor": 0
}
